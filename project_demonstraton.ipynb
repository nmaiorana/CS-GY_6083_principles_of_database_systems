{
 "cells": [
  {
   "cell_type": "markdown",
   "source": [
    "# This notebook will demonstrate all the features I developed for the project."
   ],
   "metadata": {
    "collapsed": false
   },
   "id": "4077cfd9a10e9d92"
  },
  {
   "cell_type": "code",
   "outputs": [],
   "source": [
    "import project.tools.db_utils as dbu"
   ],
   "metadata": {
    "collapsed": true,
    "ExecuteTime": {
     "end_time": "2024-03-17T17:20:07.186428Z",
     "start_time": "2024-03-17T17:20:06.001395Z"
    }
   },
   "id": "initial_id",
   "execution_count": 1
  },
  {
   "cell_type": "markdown",
   "source": [
    "## Get metadata from the database using SQLAlchemy"
   ],
   "metadata": {
    "collapsed": false
   },
   "id": "5dc8b5c3047879e2"
  },
  {
   "cell_type": "code",
   "outputs": [
    {
     "name": "stdout",
     "output_type": "stream",
     "text": [
      "Table: group_members\n",
      "Table: members_to_artists\n",
      "Table: record_albums\n",
      "Table: record_artists\n",
      "Table: record_genres\n",
      "Table: record_labels\n",
      "Table: record_sales\n",
      "Table: record_tracks\n",
      "View: album_information\n",
      "View: album_information_details\n",
      "View: band_members\n",
      "Column (group_members): member_id       Type: INTEGER\n",
      "Column (group_members): member_name     Type: VARCHAR(255)\n"
     ]
    }
   ],
   "source": [
    "for table_name in dbu.get_table_names():\n",
    "    print(f'Table: {table_name}')\n",
    "    \n",
    "for view_names in dbu.get_view_names():\n",
    "    print(f'View: {view_names}')\n",
    "    \n",
    "    \n",
    "table_name = dbu.get_table_names()[0]\n",
    "for column in dbu.get_columns(table_name):\n",
    "    print(f\"Column ({table_name}): {column['name']:<15} Type: {column['type']}\")"
   ],
   "metadata": {
    "collapsed": false,
    "ExecuteTime": {
     "end_time": "2024-03-17T17:25:54.600413Z",
     "start_time": "2024-03-17T17:25:54.570059Z"
    }
   },
   "id": "c9fce5fe2da5fa19",
   "execution_count": 8
  },
  {
   "cell_type": "markdown",
   "source": [
    "## Get all the connecting information"
   ],
   "metadata": {
    "collapsed": false
   },
   "id": "b6052679bab2c114"
  },
  {
   "cell_type": "code",
   "outputs": [
    {
     "data": {
      "text/plain": "                               name release_date  artist_id  genre_id  \\\nalbum_id                                                                \n1         The Dark Side of the Moon   1973-03-01          1         1   \n2                            Boston   1976-08-25          2         1   \n\n          record_label_id  \nalbum_id                   \n1                       1  \n2                       2  ",
      "text/html": "<div>\n<style scoped>\n    .dataframe tbody tr th:only-of-type {\n        vertical-align: middle;\n    }\n\n    .dataframe tbody tr th {\n        vertical-align: top;\n    }\n\n    .dataframe thead th {\n        text-align: right;\n    }\n</style>\n<table border=\"1\" class=\"dataframe\">\n  <thead>\n    <tr style=\"text-align: right;\">\n      <th></th>\n      <th>name</th>\n      <th>release_date</th>\n      <th>artist_id</th>\n      <th>genre_id</th>\n      <th>record_label_id</th>\n    </tr>\n    <tr>\n      <th>album_id</th>\n      <th></th>\n      <th></th>\n      <th></th>\n      <th></th>\n      <th></th>\n    </tr>\n  </thead>\n  <tbody>\n    <tr>\n      <th>1</th>\n      <td>The Dark Side of the Moon</td>\n      <td>1973-03-01</td>\n      <td>1</td>\n      <td>1</td>\n      <td>1</td>\n    </tr>\n    <tr>\n      <th>2</th>\n      <td>Boston</td>\n      <td>1976-08-25</td>\n      <td>2</td>\n      <td>1</td>\n      <td>2</td>\n    </tr>\n  </tbody>\n</table>\n</div>"
     },
     "metadata": {},
     "output_type": "display_data"
    },
    {
     "data": {
      "text/plain": "          artist_name\nartist_id            \n1          Pink Floyd\n2              Boston",
      "text/html": "<div>\n<style scoped>\n    .dataframe tbody tr th:only-of-type {\n        vertical-align: middle;\n    }\n\n    .dataframe tbody tr th {\n        vertical-align: top;\n    }\n\n    .dataframe thead th {\n        text-align: right;\n    }\n</style>\n<table border=\"1\" class=\"dataframe\">\n  <thead>\n    <tr style=\"text-align: right;\">\n      <th></th>\n      <th>artist_name</th>\n    </tr>\n    <tr>\n      <th>artist_id</th>\n      <th></th>\n    </tr>\n  </thead>\n  <tbody>\n    <tr>\n      <th>1</th>\n      <td>Pink Floyd</td>\n    </tr>\n    <tr>\n      <th>2</th>\n      <td>Boston</td>\n    </tr>\n  </tbody>\n</table>\n</div>"
     },
     "metadata": {},
     "output_type": "display_data"
    },
    {
     "data": {
      "text/plain": "              member_name\nmember_id                \n1             Syd Barrett\n2            Roger Waters\n3          Richard Wright\n4              Nick Mason\n5           David Gilmour\n6              Tom Scholz\n7               Brad Delp\n8          Barry Goudreau\n9            Fran Sheehan\n10            Sib Hashian",
      "text/html": "<div>\n<style scoped>\n    .dataframe tbody tr th:only-of-type {\n        vertical-align: middle;\n    }\n\n    .dataframe tbody tr th {\n        vertical-align: top;\n    }\n\n    .dataframe thead th {\n        text-align: right;\n    }\n</style>\n<table border=\"1\" class=\"dataframe\">\n  <thead>\n    <tr style=\"text-align: right;\">\n      <th></th>\n      <th>member_name</th>\n    </tr>\n    <tr>\n      <th>member_id</th>\n      <th></th>\n    </tr>\n  </thead>\n  <tbody>\n    <tr>\n      <th>1</th>\n      <td>Syd Barrett</td>\n    </tr>\n    <tr>\n      <th>2</th>\n      <td>Roger Waters</td>\n    </tr>\n    <tr>\n      <th>3</th>\n      <td>Richard Wright</td>\n    </tr>\n    <tr>\n      <th>4</th>\n      <td>Nick Mason</td>\n    </tr>\n    <tr>\n      <th>5</th>\n      <td>David Gilmour</td>\n    </tr>\n    <tr>\n      <th>6</th>\n      <td>Tom Scholz</td>\n    </tr>\n    <tr>\n      <th>7</th>\n      <td>Brad Delp</td>\n    </tr>\n    <tr>\n      <th>8</th>\n      <td>Barry Goudreau</td>\n    </tr>\n    <tr>\n      <th>9</th>\n      <td>Fran Sheehan</td>\n    </tr>\n    <tr>\n      <th>10</th>\n      <td>Sib Hashian</td>\n    </tr>\n  </tbody>\n</table>\n</div>"
     },
     "metadata": {},
     "output_type": "display_data"
    },
    {
     "data": {
      "text/plain": "                       member_id  artist_id member_from_date member_to_date\nmembers_to_artists_id                                                      \n1                              1          1       1965-01-01     1968-01-01\n2                              2          1       1965-01-01     1985-01-01\n3                              3          1       1965-01-01     1980-01-01\n4                              4          1       1965-01-01     1995-01-01\n5                              5          1       1968-01-01     1995-01-01\n6                              6          2       1975-01-01     1989-01-01\n7                              7          2       1975-01-01     2007-01-01\n8                              8          2       1975-01-01     1981-01-01\n9                              9          2       1975-01-01     1986-01-01\n10                            10          2       1975-01-01     1986-01-01",
      "text/html": "<div>\n<style scoped>\n    .dataframe tbody tr th:only-of-type {\n        vertical-align: middle;\n    }\n\n    .dataframe tbody tr th {\n        vertical-align: top;\n    }\n\n    .dataframe thead th {\n        text-align: right;\n    }\n</style>\n<table border=\"1\" class=\"dataframe\">\n  <thead>\n    <tr style=\"text-align: right;\">\n      <th></th>\n      <th>member_id</th>\n      <th>artist_id</th>\n      <th>member_from_date</th>\n      <th>member_to_date</th>\n    </tr>\n    <tr>\n      <th>members_to_artists_id</th>\n      <th></th>\n      <th></th>\n      <th></th>\n      <th></th>\n    </tr>\n  </thead>\n  <tbody>\n    <tr>\n      <th>1</th>\n      <td>1</td>\n      <td>1</td>\n      <td>1965-01-01</td>\n      <td>1968-01-01</td>\n    </tr>\n    <tr>\n      <th>2</th>\n      <td>2</td>\n      <td>1</td>\n      <td>1965-01-01</td>\n      <td>1985-01-01</td>\n    </tr>\n    <tr>\n      <th>3</th>\n      <td>3</td>\n      <td>1</td>\n      <td>1965-01-01</td>\n      <td>1980-01-01</td>\n    </tr>\n    <tr>\n      <th>4</th>\n      <td>4</td>\n      <td>1</td>\n      <td>1965-01-01</td>\n      <td>1995-01-01</td>\n    </tr>\n    <tr>\n      <th>5</th>\n      <td>5</td>\n      <td>1</td>\n      <td>1968-01-01</td>\n      <td>1995-01-01</td>\n    </tr>\n    <tr>\n      <th>6</th>\n      <td>6</td>\n      <td>2</td>\n      <td>1975-01-01</td>\n      <td>1989-01-01</td>\n    </tr>\n    <tr>\n      <th>7</th>\n      <td>7</td>\n      <td>2</td>\n      <td>1975-01-01</td>\n      <td>2007-01-01</td>\n    </tr>\n    <tr>\n      <th>8</th>\n      <td>8</td>\n      <td>2</td>\n      <td>1975-01-01</td>\n      <td>1981-01-01</td>\n    </tr>\n    <tr>\n      <th>9</th>\n      <td>9</td>\n      <td>2</td>\n      <td>1975-01-01</td>\n      <td>1986-01-01</td>\n    </tr>\n    <tr>\n      <th>10</th>\n      <td>10</td>\n      <td>2</td>\n      <td>1975-01-01</td>\n      <td>1986-01-01</td>\n    </tr>\n  </tbody>\n</table>\n</div>"
     },
     "metadata": {},
     "output_type": "display_data"
    },
    {
     "data": {
      "text/plain": "         genre_name genre_description\ngenre_id                             \n1              Rock        Rock music",
      "text/html": "<div>\n<style scoped>\n    .dataframe tbody tr th:only-of-type {\n        vertical-align: middle;\n    }\n\n    .dataframe tbody tr th {\n        vertical-align: top;\n    }\n\n    .dataframe thead th {\n        text-align: right;\n    }\n</style>\n<table border=\"1\" class=\"dataframe\">\n  <thead>\n    <tr style=\"text-align: right;\">\n      <th></th>\n      <th>genre_name</th>\n      <th>genre_description</th>\n    </tr>\n    <tr>\n      <th>genre_id</th>\n      <th></th>\n      <th></th>\n    </tr>\n  </thead>\n  <tbody>\n    <tr>\n      <th>1</th>\n      <td>Rock</td>\n      <td>Rock music</td>\n    </tr>\n  </tbody>\n</table>\n</div>"
     },
     "metadata": {},
     "output_type": "display_data"
    },
    {
     "data": {
      "text/plain": "                       record_label_name\nrecord_label_id                         \n1                Harvest Capitol Records\n2                           Epic Records",
      "text/html": "<div>\n<style scoped>\n    .dataframe tbody tr th:only-of-type {\n        vertical-align: middle;\n    }\n\n    .dataframe tbody tr th {\n        vertical-align: top;\n    }\n\n    .dataframe thead th {\n        text-align: right;\n    }\n</style>\n<table border=\"1\" class=\"dataframe\">\n  <thead>\n    <tr style=\"text-align: right;\">\n      <th></th>\n      <th>record_label_name</th>\n    </tr>\n    <tr>\n      <th>record_label_id</th>\n      <th></th>\n    </tr>\n  </thead>\n  <tbody>\n    <tr>\n      <th>1</th>\n      <td>Harvest Capitol Records</td>\n    </tr>\n    <tr>\n      <th>2</th>\n      <td>Epic Records</td>\n    </tr>\n  </tbody>\n</table>\n</div>"
     },
     "metadata": {},
     "output_type": "display_data"
    },
    {
     "data": {
      "text/plain": "          album_id                    track_name  track_number  genre_id\ntrack_id                                                                \n1                1                   Speak to Me             1         1\n2                1          Breathe (In the Air)             2         1\n3                1                    On the Run             3         1\n4                1                          Time             4         1\n5                1      The Great Gig in the Sky             5         1\n6                1                         Money             6         1\n7                1                   Us and Them             7         1\n8                1           Any Colour You Like             8         1\n9                1                  Brain Damage             9         1\n10               1                       Eclipse            10         1\n11               2           More Than a Feeling             1         1\n12               2                 Peace of Mind             2         1\n13               2            Foreplay/Long Time             3         1\n14               2              Rock & Roll Band             4         1\n15               2                        Smokin             5         1\n16               2                  Hitch a Ride             6         1\n17               2           Something About You             7         1\n18               2  Let Me Take You Home Tonight             8         1",
      "text/html": "<div>\n<style scoped>\n    .dataframe tbody tr th:only-of-type {\n        vertical-align: middle;\n    }\n\n    .dataframe tbody tr th {\n        vertical-align: top;\n    }\n\n    .dataframe thead th {\n        text-align: right;\n    }\n</style>\n<table border=\"1\" class=\"dataframe\">\n  <thead>\n    <tr style=\"text-align: right;\">\n      <th></th>\n      <th>album_id</th>\n      <th>track_name</th>\n      <th>track_number</th>\n      <th>genre_id</th>\n    </tr>\n    <tr>\n      <th>track_id</th>\n      <th></th>\n      <th></th>\n      <th></th>\n      <th></th>\n    </tr>\n  </thead>\n  <tbody>\n    <tr>\n      <th>1</th>\n      <td>1</td>\n      <td>Speak to Me</td>\n      <td>1</td>\n      <td>1</td>\n    </tr>\n    <tr>\n      <th>2</th>\n      <td>1</td>\n      <td>Breathe (In the Air)</td>\n      <td>2</td>\n      <td>1</td>\n    </tr>\n    <tr>\n      <th>3</th>\n      <td>1</td>\n      <td>On the Run</td>\n      <td>3</td>\n      <td>1</td>\n    </tr>\n    <tr>\n      <th>4</th>\n      <td>1</td>\n      <td>Time</td>\n      <td>4</td>\n      <td>1</td>\n    </tr>\n    <tr>\n      <th>5</th>\n      <td>1</td>\n      <td>The Great Gig in the Sky</td>\n      <td>5</td>\n      <td>1</td>\n    </tr>\n    <tr>\n      <th>6</th>\n      <td>1</td>\n      <td>Money</td>\n      <td>6</td>\n      <td>1</td>\n    </tr>\n    <tr>\n      <th>7</th>\n      <td>1</td>\n      <td>Us and Them</td>\n      <td>7</td>\n      <td>1</td>\n    </tr>\n    <tr>\n      <th>8</th>\n      <td>1</td>\n      <td>Any Colour You Like</td>\n      <td>8</td>\n      <td>1</td>\n    </tr>\n    <tr>\n      <th>9</th>\n      <td>1</td>\n      <td>Brain Damage</td>\n      <td>9</td>\n      <td>1</td>\n    </tr>\n    <tr>\n      <th>10</th>\n      <td>1</td>\n      <td>Eclipse</td>\n      <td>10</td>\n      <td>1</td>\n    </tr>\n    <tr>\n      <th>11</th>\n      <td>2</td>\n      <td>More Than a Feeling</td>\n      <td>1</td>\n      <td>1</td>\n    </tr>\n    <tr>\n      <th>12</th>\n      <td>2</td>\n      <td>Peace of Mind</td>\n      <td>2</td>\n      <td>1</td>\n    </tr>\n    <tr>\n      <th>13</th>\n      <td>2</td>\n      <td>Foreplay/Long Time</td>\n      <td>3</td>\n      <td>1</td>\n    </tr>\n    <tr>\n      <th>14</th>\n      <td>2</td>\n      <td>Rock &amp; Roll Band</td>\n      <td>4</td>\n      <td>1</td>\n    </tr>\n    <tr>\n      <th>15</th>\n      <td>2</td>\n      <td>Smokin</td>\n      <td>5</td>\n      <td>1</td>\n    </tr>\n    <tr>\n      <th>16</th>\n      <td>2</td>\n      <td>Hitch a Ride</td>\n      <td>6</td>\n      <td>1</td>\n    </tr>\n    <tr>\n      <th>17</th>\n      <td>2</td>\n      <td>Something About You</td>\n      <td>7</td>\n      <td>1</td>\n    </tr>\n    <tr>\n      <th>18</th>\n      <td>2</td>\n      <td>Let Me Take You Home Tonight</td>\n      <td>8</td>\n      <td>1</td>\n    </tr>\n  </tbody>\n</table>\n</div>"
     },
     "metadata": {},
     "output_type": "display_data"
    },
    {
     "data": {
      "text/plain": "         album_id   sale_date  sale_quantity  unit_sale_price\nsale_id                                                      \n1               1  1973-01-01        1000000             10.0\n2               1  1974-01-01        1000000             10.0\n3               1  1975-01-01        1000000             10.0\n4               1  1976-01-01        1000000             10.0\n5               1  1977-01-01        1000000             10.0\n6               1  1978-01-01        1000000             10.0\n7               1  1979-01-01        1000000             10.0\n8               1  1980-01-01        1000000             10.0\n9               1  1981-01-01        1000000             10.0\n10              1  1982-01-01        1000000             10.0\n11              1  1983-01-01        1000000             10.0\n12              1  1984-01-01        1000000             10.0\n13              1  1985-01-01        1000000             10.0\n14              1  1986-01-01        1000000             10.0\n15              1  1987-01-01        1000000             10.0\n16              2  1976-01-01        1000000             10.0\n17              2  1977-01-01        1000000             10.0\n18              2  1978-01-01        1000000             10.0\n19              2  1979-01-01        1000000             10.0\n20              2  1980-01-01        1000000             10.0\n21              2  1981-01-01        1000000             10.0\n22              2  1982-01-01        1000000             10.0\n23              2  1983-01-01        1000000             10.0\n24              2  1984-01-01        1000000             10.0\n25              2  1985-01-01        1000000             10.0\n26              2  1986-01-01        1000000             10.0\n27              2  1987-01-01        1000000             10.0",
      "text/html": "<div>\n<style scoped>\n    .dataframe tbody tr th:only-of-type {\n        vertical-align: middle;\n    }\n\n    .dataframe tbody tr th {\n        vertical-align: top;\n    }\n\n    .dataframe thead th {\n        text-align: right;\n    }\n</style>\n<table border=\"1\" class=\"dataframe\">\n  <thead>\n    <tr style=\"text-align: right;\">\n      <th></th>\n      <th>album_id</th>\n      <th>sale_date</th>\n      <th>sale_quantity</th>\n      <th>unit_sale_price</th>\n    </tr>\n    <tr>\n      <th>sale_id</th>\n      <th></th>\n      <th></th>\n      <th></th>\n      <th></th>\n    </tr>\n  </thead>\n  <tbody>\n    <tr>\n      <th>1</th>\n      <td>1</td>\n      <td>1973-01-01</td>\n      <td>1000000</td>\n      <td>10.0</td>\n    </tr>\n    <tr>\n      <th>2</th>\n      <td>1</td>\n      <td>1974-01-01</td>\n      <td>1000000</td>\n      <td>10.0</td>\n    </tr>\n    <tr>\n      <th>3</th>\n      <td>1</td>\n      <td>1975-01-01</td>\n      <td>1000000</td>\n      <td>10.0</td>\n    </tr>\n    <tr>\n      <th>4</th>\n      <td>1</td>\n      <td>1976-01-01</td>\n      <td>1000000</td>\n      <td>10.0</td>\n    </tr>\n    <tr>\n      <th>5</th>\n      <td>1</td>\n      <td>1977-01-01</td>\n      <td>1000000</td>\n      <td>10.0</td>\n    </tr>\n    <tr>\n      <th>6</th>\n      <td>1</td>\n      <td>1978-01-01</td>\n      <td>1000000</td>\n      <td>10.0</td>\n    </tr>\n    <tr>\n      <th>7</th>\n      <td>1</td>\n      <td>1979-01-01</td>\n      <td>1000000</td>\n      <td>10.0</td>\n    </tr>\n    <tr>\n      <th>8</th>\n      <td>1</td>\n      <td>1980-01-01</td>\n      <td>1000000</td>\n      <td>10.0</td>\n    </tr>\n    <tr>\n      <th>9</th>\n      <td>1</td>\n      <td>1981-01-01</td>\n      <td>1000000</td>\n      <td>10.0</td>\n    </tr>\n    <tr>\n      <th>10</th>\n      <td>1</td>\n      <td>1982-01-01</td>\n      <td>1000000</td>\n      <td>10.0</td>\n    </tr>\n    <tr>\n      <th>11</th>\n      <td>1</td>\n      <td>1983-01-01</td>\n      <td>1000000</td>\n      <td>10.0</td>\n    </tr>\n    <tr>\n      <th>12</th>\n      <td>1</td>\n      <td>1984-01-01</td>\n      <td>1000000</td>\n      <td>10.0</td>\n    </tr>\n    <tr>\n      <th>13</th>\n      <td>1</td>\n      <td>1985-01-01</td>\n      <td>1000000</td>\n      <td>10.0</td>\n    </tr>\n    <tr>\n      <th>14</th>\n      <td>1</td>\n      <td>1986-01-01</td>\n      <td>1000000</td>\n      <td>10.0</td>\n    </tr>\n    <tr>\n      <th>15</th>\n      <td>1</td>\n      <td>1987-01-01</td>\n      <td>1000000</td>\n      <td>10.0</td>\n    </tr>\n    <tr>\n      <th>16</th>\n      <td>2</td>\n      <td>1976-01-01</td>\n      <td>1000000</td>\n      <td>10.0</td>\n    </tr>\n    <tr>\n      <th>17</th>\n      <td>2</td>\n      <td>1977-01-01</td>\n      <td>1000000</td>\n      <td>10.0</td>\n    </tr>\n    <tr>\n      <th>18</th>\n      <td>2</td>\n      <td>1978-01-01</td>\n      <td>1000000</td>\n      <td>10.0</td>\n    </tr>\n    <tr>\n      <th>19</th>\n      <td>2</td>\n      <td>1979-01-01</td>\n      <td>1000000</td>\n      <td>10.0</td>\n    </tr>\n    <tr>\n      <th>20</th>\n      <td>2</td>\n      <td>1980-01-01</td>\n      <td>1000000</td>\n      <td>10.0</td>\n    </tr>\n    <tr>\n      <th>21</th>\n      <td>2</td>\n      <td>1981-01-01</td>\n      <td>1000000</td>\n      <td>10.0</td>\n    </tr>\n    <tr>\n      <th>22</th>\n      <td>2</td>\n      <td>1982-01-01</td>\n      <td>1000000</td>\n      <td>10.0</td>\n    </tr>\n    <tr>\n      <th>23</th>\n      <td>2</td>\n      <td>1983-01-01</td>\n      <td>1000000</td>\n      <td>10.0</td>\n    </tr>\n    <tr>\n      <th>24</th>\n      <td>2</td>\n      <td>1984-01-01</td>\n      <td>1000000</td>\n      <td>10.0</td>\n    </tr>\n    <tr>\n      <th>25</th>\n      <td>2</td>\n      <td>1985-01-01</td>\n      <td>1000000</td>\n      <td>10.0</td>\n    </tr>\n    <tr>\n      <th>26</th>\n      <td>2</td>\n      <td>1986-01-01</td>\n      <td>1000000</td>\n      <td>10.0</td>\n    </tr>\n    <tr>\n      <th>27</th>\n      <td>2</td>\n      <td>1987-01-01</td>\n      <td>1000000</td>\n      <td>10.0</td>\n    </tr>\n  </tbody>\n</table>\n</div>"
     },
     "metadata": {},
     "output_type": "display_data"
    }
   ],
   "source": [
    "display(dbu.sqlalchemy_query_to_df('select * from record_albums', 'album_id'))\n",
    "display(dbu.sqlalchemy_query_to_df('select * from record_artists', 'artist_id'))\n",
    "display(dbu.sqlalchemy_query_to_df('select * from group_members', 'member_id'))\n",
    "display(dbu.sqlalchemy_query_to_df('select * from members_to_artists', 'members_to_artists_id'))\n",
    "display(dbu.sqlalchemy_query_to_df('select * from record_genres', 'genre_id'))\n",
    "display(dbu.sqlalchemy_query_to_df('select * from record_labels', 'record_label_id'))\n",
    "display(dbu.sqlalchemy_query_to_df('select * from record_tracks', 'track_id'))\n",
    "display(dbu.sqlalchemy_query_to_df('select * from record_sales', 'sale_id'))"
   ],
   "metadata": {
    "collapsed": false,
    "ExecuteTime": {
     "end_time": "2024-03-17T18:27:05.041361Z",
     "start_time": "2024-03-17T18:27:04.921544Z"
    }
   },
   "id": "786b399a06a807c3",
   "execution_count": 10
  },
  {
   "cell_type": "markdown",
   "source": [
    "## Read all the album information from the database view album_information into a dataframe"
   ],
   "metadata": {
    "collapsed": false
   },
   "id": "4b148027cd49e010"
  },
  {
   "cell_type": "code",
   "outputs": [
    {
     "data": {
      "text/plain": "                                                   genre_name  \\\nname                      release_date artist_name              \nThe Dark Side of the Moon 1973-03-01   Pink Floyd        Rock   \nBoston                    1976-08-25   Boston            Rock   \n\n                                                          record_label_name  \nname                      release_date artist_name                           \nThe Dark Side of the Moon 1973-03-01   Pink Floyd   Harvest Capitol Records  \nBoston                    1976-08-25   Boston                  Epic Records  ",
      "text/html": "<div>\n<style scoped>\n    .dataframe tbody tr th:only-of-type {\n        vertical-align: middle;\n    }\n\n    .dataframe tbody tr th {\n        vertical-align: top;\n    }\n\n    .dataframe thead th {\n        text-align: right;\n    }\n</style>\n<table border=\"1\" class=\"dataframe\">\n  <thead>\n    <tr style=\"text-align: right;\">\n      <th></th>\n      <th></th>\n      <th></th>\n      <th>genre_name</th>\n      <th>record_label_name</th>\n    </tr>\n    <tr>\n      <th>name</th>\n      <th>release_date</th>\n      <th>artist_name</th>\n      <th></th>\n      <th></th>\n    </tr>\n  </thead>\n  <tbody>\n    <tr>\n      <th>The Dark Side of the Moon</th>\n      <th>1973-03-01</th>\n      <th>Pink Floyd</th>\n      <td>Rock</td>\n      <td>Harvest Capitol Records</td>\n    </tr>\n    <tr>\n      <th>Boston</th>\n      <th>1976-08-25</th>\n      <th>Boston</th>\n      <td>Rock</td>\n      <td>Epic Records</td>\n    </tr>\n  </tbody>\n</table>\n</div>"
     },
     "metadata": {},
     "output_type": "display_data"
    }
   ],
   "source": [
    "query = 'select * from album_information'\n",
    "albums_df = dbu.sqlalchemy_query_to_df(query, ['name', 'release_date', 'artist_name'])\n",
    "display(albums_df)"
   ],
   "metadata": {
    "collapsed": false,
    "ExecuteTime": {
     "end_time": "2024-03-17T16:31:18.114627Z",
     "start_time": "2024-03-17T16:31:18.084526Z"
    }
   },
   "id": "24ee7bd3302756aa",
   "execution_count": 5
  },
  {
   "cell_type": "markdown",
   "source": [
    "## Read all the album detail information from the database view album_information details into a dataframe"
   ],
   "metadata": {
    "collapsed": false
   },
   "id": "6432d3aadc96f1a0"
  },
  {
   "cell_type": "code",
   "outputs": [
    {
     "data": {
      "text/plain": "                                                                                        genre_name  \\\nname                      release_date artist_name record_label_name       track_number              \nBoston                    1976-08-25   Boston      Epic Records            1                  Rock   \n                                                                           2                  Rock   \n                                                                           3                  Rock   \n                                                                           4                  Rock   \n                                                                           5                  Rock   \n                                                                           6                  Rock   \n                                                                           7                  Rock   \n                                                                           8                  Rock   \nThe Dark Side of the Moon 1973-03-01   Pink Floyd  Harvest Capitol Records 1                  Rock   \n                                                                           2                  Rock   \n                                                                           3                  Rock   \n                                                                           4                  Rock   \n                                                                           5                  Rock   \n                                                                           6                  Rock   \n                                                                           7                  Rock   \n                                                                           8                  Rock   \n                                                                           9                  Rock   \n                                                                           10                 Rock   \n\n                                                                                                           track_name  \nname                      release_date artist_name record_label_name       track_number                                \nBoston                    1976-08-25   Boston      Epic Records            1                      More Than a Feeling  \n                                                                           2                            Peace of Mind  \n                                                                           3                       Foreplay/Long Time  \n                                                                           4                         Rock & Roll Band  \n                                                                           5                                   Smokin  \n                                                                           6                             Hitch a Ride  \n                                                                           7                      Something About You  \n                                                                           8             Let Me Take You Home Tonight  \nThe Dark Side of the Moon 1973-03-01   Pink Floyd  Harvest Capitol Records 1                              Speak to Me  \n                                                                           2                     Breathe (In the Air)  \n                                                                           3                               On the Run  \n                                                                           4                                     Time  \n                                                                           5                 The Great Gig in the Sky  \n                                                                           6                                    Money  \n                                                                           7                              Us and Them  \n                                                                           8                      Any Colour You Like  \n                                                                           9                             Brain Damage  \n                                                                           10                                 Eclipse  ",
      "text/html": "<div>\n<style scoped>\n    .dataframe tbody tr th:only-of-type {\n        vertical-align: middle;\n    }\n\n    .dataframe tbody tr th {\n        vertical-align: top;\n    }\n\n    .dataframe thead th {\n        text-align: right;\n    }\n</style>\n<table border=\"1\" class=\"dataframe\">\n  <thead>\n    <tr style=\"text-align: right;\">\n      <th></th>\n      <th></th>\n      <th></th>\n      <th></th>\n      <th></th>\n      <th>genre_name</th>\n      <th>track_name</th>\n    </tr>\n    <tr>\n      <th>name</th>\n      <th>release_date</th>\n      <th>artist_name</th>\n      <th>record_label_name</th>\n      <th>track_number</th>\n      <th></th>\n      <th></th>\n    </tr>\n  </thead>\n  <tbody>\n    <tr>\n      <th rowspan=\"8\" valign=\"top\">Boston</th>\n      <th rowspan=\"8\" valign=\"top\">1976-08-25</th>\n      <th rowspan=\"8\" valign=\"top\">Boston</th>\n      <th rowspan=\"8\" valign=\"top\">Epic Records</th>\n      <th>1</th>\n      <td>Rock</td>\n      <td>More Than a Feeling</td>\n    </tr>\n    <tr>\n      <th>2</th>\n      <td>Rock</td>\n      <td>Peace of Mind</td>\n    </tr>\n    <tr>\n      <th>3</th>\n      <td>Rock</td>\n      <td>Foreplay/Long Time</td>\n    </tr>\n    <tr>\n      <th>4</th>\n      <td>Rock</td>\n      <td>Rock &amp; Roll Band</td>\n    </tr>\n    <tr>\n      <th>5</th>\n      <td>Rock</td>\n      <td>Smokin</td>\n    </tr>\n    <tr>\n      <th>6</th>\n      <td>Rock</td>\n      <td>Hitch a Ride</td>\n    </tr>\n    <tr>\n      <th>7</th>\n      <td>Rock</td>\n      <td>Something About You</td>\n    </tr>\n    <tr>\n      <th>8</th>\n      <td>Rock</td>\n      <td>Let Me Take You Home Tonight</td>\n    </tr>\n    <tr>\n      <th rowspan=\"10\" valign=\"top\">The Dark Side of the Moon</th>\n      <th rowspan=\"10\" valign=\"top\">1973-03-01</th>\n      <th rowspan=\"10\" valign=\"top\">Pink Floyd</th>\n      <th rowspan=\"10\" valign=\"top\">Harvest Capitol Records</th>\n      <th>1</th>\n      <td>Rock</td>\n      <td>Speak to Me</td>\n    </tr>\n    <tr>\n      <th>2</th>\n      <td>Rock</td>\n      <td>Breathe (In the Air)</td>\n    </tr>\n    <tr>\n      <th>3</th>\n      <td>Rock</td>\n      <td>On the Run</td>\n    </tr>\n    <tr>\n      <th>4</th>\n      <td>Rock</td>\n      <td>Time</td>\n    </tr>\n    <tr>\n      <th>5</th>\n      <td>Rock</td>\n      <td>The Great Gig in the Sky</td>\n    </tr>\n    <tr>\n      <th>6</th>\n      <td>Rock</td>\n      <td>Money</td>\n    </tr>\n    <tr>\n      <th>7</th>\n      <td>Rock</td>\n      <td>Us and Them</td>\n    </tr>\n    <tr>\n      <th>8</th>\n      <td>Rock</td>\n      <td>Any Colour You Like</td>\n    </tr>\n    <tr>\n      <th>9</th>\n      <td>Rock</td>\n      <td>Brain Damage</td>\n    </tr>\n    <tr>\n      <th>10</th>\n      <td>Rock</td>\n      <td>Eclipse</td>\n    </tr>\n  </tbody>\n</table>\n</div>"
     },
     "metadata": {},
     "output_type": "display_data"
    }
   ],
   "source": [
    "query = 'select * from album_information_details'\n",
    "albums_df = dbu.sqlalchemy_query_to_df(query, ['name', 'release_date', 'artist_name', 'record_label_name', 'track_number'])\n",
    "display(albums_df)"
   ],
   "metadata": {
    "collapsed": false,
    "ExecuteTime": {
     "end_time": "2024-03-17T16:31:09.652347Z",
     "start_time": "2024-03-17T16:31:09.593482Z"
    }
   },
   "id": "49b4d27ff4a23086",
   "execution_count": 4
  },
  {
   "cell_type": "markdown",
   "source": [
    "## Show which members are in which bands"
   ],
   "metadata": {
    "collapsed": false
   },
   "id": "75746f07509a9c40"
  },
  {
   "cell_type": "code",
   "outputs": [
    {
     "data": {
      "text/plain": "                member_name member_from_date member_to_date\nartist_name                                                \nPink Floyd      Syd Barrett       1965-01-01     1968-01-01\nPink Floyd     Roger Waters       1965-01-01     1985-01-01\nPink Floyd   Richard Wright       1965-01-01     1980-01-01\nPink Floyd       Nick Mason       1965-01-01     1995-01-01\nPink Floyd    David Gilmour       1968-01-01     1995-01-01\nBoston           Tom Scholz       1975-01-01     1989-01-01\nBoston            Brad Delp       1975-01-01     2007-01-01\nBoston       Barry Goudreau       1975-01-01     1981-01-01\nBoston         Fran Sheehan       1975-01-01     1986-01-01\nBoston          Sib Hashian       1975-01-01     1986-01-01",
      "text/html": "<div>\n<style scoped>\n    .dataframe tbody tr th:only-of-type {\n        vertical-align: middle;\n    }\n\n    .dataframe tbody tr th {\n        vertical-align: top;\n    }\n\n    .dataframe thead th {\n        text-align: right;\n    }\n</style>\n<table border=\"1\" class=\"dataframe\">\n  <thead>\n    <tr style=\"text-align: right;\">\n      <th></th>\n      <th>member_name</th>\n      <th>member_from_date</th>\n      <th>member_to_date</th>\n    </tr>\n    <tr>\n      <th>artist_name</th>\n      <th></th>\n      <th></th>\n      <th></th>\n    </tr>\n  </thead>\n  <tbody>\n    <tr>\n      <th>Pink Floyd</th>\n      <td>Syd Barrett</td>\n      <td>1965-01-01</td>\n      <td>1968-01-01</td>\n    </tr>\n    <tr>\n      <th>Pink Floyd</th>\n      <td>Roger Waters</td>\n      <td>1965-01-01</td>\n      <td>1985-01-01</td>\n    </tr>\n    <tr>\n      <th>Pink Floyd</th>\n      <td>Richard Wright</td>\n      <td>1965-01-01</td>\n      <td>1980-01-01</td>\n    </tr>\n    <tr>\n      <th>Pink Floyd</th>\n      <td>Nick Mason</td>\n      <td>1965-01-01</td>\n      <td>1995-01-01</td>\n    </tr>\n    <tr>\n      <th>Pink Floyd</th>\n      <td>David Gilmour</td>\n      <td>1968-01-01</td>\n      <td>1995-01-01</td>\n    </tr>\n    <tr>\n      <th>Boston</th>\n      <td>Tom Scholz</td>\n      <td>1975-01-01</td>\n      <td>1989-01-01</td>\n    </tr>\n    <tr>\n      <th>Boston</th>\n      <td>Brad Delp</td>\n      <td>1975-01-01</td>\n      <td>2007-01-01</td>\n    </tr>\n    <tr>\n      <th>Boston</th>\n      <td>Barry Goudreau</td>\n      <td>1975-01-01</td>\n      <td>1981-01-01</td>\n    </tr>\n    <tr>\n      <th>Boston</th>\n      <td>Fran Sheehan</td>\n      <td>1975-01-01</td>\n      <td>1986-01-01</td>\n    </tr>\n    <tr>\n      <th>Boston</th>\n      <td>Sib Hashian</td>\n      <td>1975-01-01</td>\n      <td>1986-01-01</td>\n    </tr>\n  </tbody>\n</table>\n</div>"
     },
     "metadata": {},
     "output_type": "display_data"
    }
   ],
   "source": [
    "query = 'select * from band_members'\n",
    "albums_df = dbu.sqlalchemy_query_to_df(query, 'artist_name')\n",
    "display(albums_df)"
   ],
   "metadata": {
    "collapsed": false,
    "ExecuteTime": {
     "end_time": "2024-03-17T16:31:02.770624Z",
     "start_time": "2024-03-17T16:31:02.750543Z"
    }
   },
   "id": "a638a7f4553aa5b",
   "execution_count": 3
  },
  {
   "cell_type": "markdown",
   "source": [
    "## Read record_labels from the database using the business object"
   ],
   "metadata": {
    "collapsed": false
   },
   "id": "2a1727f1e7e1a1a7"
  },
  {
   "cell_type": "code",
   "outputs": [
    {
     "ename": "ProgrammingError",
     "evalue": "1146 (42S02): Table 'album_information.record_label' doesn't exist",
     "output_type": "error",
     "traceback": [
      "\u001B[1;31m---------------------------------------------------------------------------\u001B[0m",
      "\u001B[1;31mMySQLInterfaceError\u001B[0m                       Traceback (most recent call last)",
      "File \u001B[1;32m~\\anaconda3\\envs\\CS-GY_6083\\Lib\\site-packages\\mysql\\connector\\connection_cext.py:661\u001B[0m, in \u001B[0;36mCMySQLConnection.cmd_query\u001B[1;34m(self, query, raw, buffered, raw_as_string)\u001B[0m\n\u001B[0;32m    660\u001B[0m         query \u001B[38;5;241m=\u001B[39m query\u001B[38;5;241m.\u001B[39mencode(\u001B[38;5;124m\"\u001B[39m\u001B[38;5;124mutf-8\u001B[39m\u001B[38;5;124m\"\u001B[39m)\n\u001B[1;32m--> 661\u001B[0m     \u001B[38;5;28;43mself\u001B[39;49m\u001B[38;5;241;43m.\u001B[39;49m\u001B[43m_cmysql\u001B[49m\u001B[38;5;241;43m.\u001B[39;49m\u001B[43mquery\u001B[49m\u001B[43m(\u001B[49m\n\u001B[0;32m    662\u001B[0m \u001B[43m        \u001B[49m\u001B[43mquery\u001B[49m\u001B[43m,\u001B[49m\n\u001B[0;32m    663\u001B[0m \u001B[43m        \u001B[49m\u001B[43mraw\u001B[49m\u001B[38;5;241;43m=\u001B[39;49m\u001B[43mraw\u001B[49m\u001B[43m,\u001B[49m\n\u001B[0;32m    664\u001B[0m \u001B[43m        \u001B[49m\u001B[43mbuffered\u001B[49m\u001B[38;5;241;43m=\u001B[39;49m\u001B[43mbuffered\u001B[49m\u001B[43m,\u001B[49m\n\u001B[0;32m    665\u001B[0m \u001B[43m        \u001B[49m\u001B[43mraw_as_string\u001B[49m\u001B[38;5;241;43m=\u001B[39;49m\u001B[43mraw_as_string\u001B[49m\u001B[43m,\u001B[49m\n\u001B[0;32m    666\u001B[0m \u001B[43m        \u001B[49m\u001B[43mquery_attrs\u001B[49m\u001B[38;5;241;43m=\u001B[39;49m\u001B[38;5;28;43mself\u001B[39;49m\u001B[38;5;241;43m.\u001B[39;49m\u001B[43mquery_attrs\u001B[49m\u001B[43m,\u001B[49m\n\u001B[0;32m    667\u001B[0m \u001B[43m    \u001B[49m\u001B[43m)\u001B[49m\n\u001B[0;32m    668\u001B[0m \u001B[38;5;28;01mexcept\u001B[39;00m MySQLInterfaceError \u001B[38;5;28;01mas\u001B[39;00m err:\n",
      "\u001B[1;31mMySQLInterfaceError\u001B[0m: Table 'album_information.record_label' doesn't exist",
      "\nThe above exception was the direct cause of the following exception:\n",
      "\u001B[1;31mProgrammingError\u001B[0m                          Traceback (most recent call last)",
      "Cell \u001B[1;32mIn[8], line 2\u001B[0m\n\u001B[0;32m      1\u001B[0m \u001B[38;5;28;01mfrom\u001B[39;00m \u001B[38;5;21;01mproject\u001B[39;00m\u001B[38;5;21;01m.\u001B[39;00m\u001B[38;5;21;01mbusiness_objects\u001B[39;00m \u001B[38;5;28;01mimport\u001B[39;00m record_label_bo \u001B[38;5;28;01mas\u001B[39;00m rl_bo\n\u001B[1;32m----> 2\u001B[0m record_label_row \u001B[38;5;241m=\u001B[39m \u001B[43mrl_bo\u001B[49m\u001B[38;5;241;43m.\u001B[39;49m\u001B[43mread_record_label\u001B[49m\u001B[43m(\u001B[49m\u001B[38;5;241;43m1\u001B[39;49m\u001B[43m)\u001B[49m\n\u001B[0;32m      3\u001B[0m \u001B[38;5;28mprint\u001B[39m(record_label_row)\n",
      "File \u001B[1;32m~\\Anaconda Projects\\CS-GY_6083_principles_of_database_systems\\project\\business_objects\\record_label_bo.py:11\u001B[0m, in \u001B[0;36mread_record_label\u001B[1;34m(record_label_id)\u001B[0m\n\u001B[0;32m      9\u001B[0m conn \u001B[38;5;241m=\u001B[39m dbu\u001B[38;5;241m.\u001B[39mconnect_to_db()\n\u001B[0;32m     10\u001B[0m cursor \u001B[38;5;241m=\u001B[39m conn\u001B[38;5;241m.\u001B[39mcursor()\n\u001B[1;32m---> 11\u001B[0m \u001B[43mcursor\u001B[49m\u001B[38;5;241;43m.\u001B[39;49m\u001B[43mexecute\u001B[49m\u001B[43m(\u001B[49m\u001B[38;5;124;43mf\u001B[39;49m\u001B[38;5;124;43m\"\u001B[39;49m\u001B[38;5;124;43mSELECT * FROM record_label WHERE record_label_id = \u001B[39;49m\u001B[38;5;124;43m'\u001B[39;49m\u001B[38;5;132;43;01m{\u001B[39;49;00m\u001B[43mrecord_label_id\u001B[49m\u001B[38;5;132;43;01m}\u001B[39;49;00m\u001B[38;5;124;43m'\u001B[39;49m\u001B[38;5;124;43m\"\u001B[39;49m\u001B[43m)\u001B[49m\n\u001B[0;32m     12\u001B[0m record_label_row \u001B[38;5;241m=\u001B[39m cursor\u001B[38;5;241m.\u001B[39mfetchone()\n\u001B[0;32m     13\u001B[0m conn\u001B[38;5;241m.\u001B[39mclose()\n",
      "File \u001B[1;32m~\\anaconda3\\envs\\CS-GY_6083\\Lib\\site-packages\\mysql\\connector\\cursor_cext.py:374\u001B[0m, in \u001B[0;36mCMySQLCursor.execute\u001B[1;34m(self, operation, params, multi)\u001B[0m\n\u001B[0;32m    369\u001B[0m             \u001B[38;5;28;01mraise\u001B[39;00m ProgrammingError(\n\u001B[0;32m    370\u001B[0m                 \u001B[38;5;124m\"\u001B[39m\u001B[38;5;124mNot all parameters were used in the SQL statement\u001B[39m\u001B[38;5;124m\"\u001B[39m\n\u001B[0;32m    371\u001B[0m             )\n\u001B[0;32m    373\u001B[0m \u001B[38;5;28;01mtry\u001B[39;00m:\n\u001B[1;32m--> 374\u001B[0m     result \u001B[38;5;241m=\u001B[39m \u001B[38;5;28;43mself\u001B[39;49m\u001B[38;5;241;43m.\u001B[39;49m\u001B[43m_cnx\u001B[49m\u001B[38;5;241;43m.\u001B[39;49m\u001B[43mcmd_query\u001B[49m\u001B[43m(\u001B[49m\n\u001B[0;32m    375\u001B[0m \u001B[43m        \u001B[49m\u001B[43mstmt\u001B[49m\u001B[43m,\u001B[49m\n\u001B[0;32m    376\u001B[0m \u001B[43m        \u001B[49m\u001B[43mraw\u001B[49m\u001B[38;5;241;43m=\u001B[39;49m\u001B[38;5;28;43mself\u001B[39;49m\u001B[38;5;241;43m.\u001B[39;49m\u001B[43m_raw\u001B[49m\u001B[43m,\u001B[49m\n\u001B[0;32m    377\u001B[0m \u001B[43m        \u001B[49m\u001B[43mbuffered\u001B[49m\u001B[38;5;241;43m=\u001B[39;49m\u001B[38;5;28;43mself\u001B[39;49m\u001B[38;5;241;43m.\u001B[39;49m\u001B[43m_buffered\u001B[49m\u001B[43m,\u001B[49m\n\u001B[0;32m    378\u001B[0m \u001B[43m        \u001B[49m\u001B[43mraw_as_string\u001B[49m\u001B[38;5;241;43m=\u001B[39;49m\u001B[38;5;28;43mself\u001B[39;49m\u001B[38;5;241;43m.\u001B[39;49m\u001B[43m_raw_as_string\u001B[49m\u001B[43m,\u001B[49m\n\u001B[0;32m    379\u001B[0m \u001B[43m    \u001B[49m\u001B[43m)\u001B[49m\n\u001B[0;32m    380\u001B[0m \u001B[38;5;28;01mexcept\u001B[39;00m MySQLInterfaceError \u001B[38;5;28;01mas\u001B[39;00m err:\n\u001B[0;32m    381\u001B[0m     \u001B[38;5;28;01mraise\u001B[39;00m get_mysql_exception(\n\u001B[0;32m    382\u001B[0m         msg\u001B[38;5;241m=\u001B[39merr\u001B[38;5;241m.\u001B[39mmsg, errno\u001B[38;5;241m=\u001B[39merr\u001B[38;5;241m.\u001B[39merrno, sqlstate\u001B[38;5;241m=\u001B[39merr\u001B[38;5;241m.\u001B[39msqlstate\n\u001B[0;32m    383\u001B[0m     ) \u001B[38;5;28;01mfrom\u001B[39;00m \u001B[38;5;21;01merr\u001B[39;00m\n",
      "File \u001B[1;32m~\\anaconda3\\envs\\CS-GY_6083\\Lib\\site-packages\\mysql\\connector\\opentelemetry\\context_propagation.py:74\u001B[0m, in \u001B[0;36mwith_context_propagation.<locals>.wrapper\u001B[1;34m(cnx, *args, **kwargs)\u001B[0m\n\u001B[0;32m     72\u001B[0m \u001B[38;5;250m\u001B[39m\u001B[38;5;124;03m\"\"\"Context propagation decorator.\"\"\"\u001B[39;00m\n\u001B[0;32m     73\u001B[0m \u001B[38;5;28;01mif\u001B[39;00m \u001B[38;5;129;01mnot\u001B[39;00m OTEL_ENABLED \u001B[38;5;129;01mor\u001B[39;00m \u001B[38;5;129;01mnot\u001B[39;00m cnx\u001B[38;5;241m.\u001B[39motel_context_propagation:\n\u001B[1;32m---> 74\u001B[0m     \u001B[38;5;28;01mreturn\u001B[39;00m \u001B[43mmethod\u001B[49m\u001B[43m(\u001B[49m\u001B[43mcnx\u001B[49m\u001B[43m,\u001B[49m\u001B[43m \u001B[49m\u001B[38;5;241;43m*\u001B[39;49m\u001B[43margs\u001B[49m\u001B[43m,\u001B[49m\u001B[43m \u001B[49m\u001B[38;5;241;43m*\u001B[39;49m\u001B[38;5;241;43m*\u001B[39;49m\u001B[43mkwargs\u001B[49m\u001B[43m)\u001B[49m\n\u001B[0;32m     76\u001B[0m current_span \u001B[38;5;241m=\u001B[39m trace\u001B[38;5;241m.\u001B[39mget_current_span()\n\u001B[0;32m     77\u001B[0m tp_header \u001B[38;5;241m=\u001B[39m \u001B[38;5;28;01mNone\u001B[39;00m\n",
      "File \u001B[1;32m~\\anaconda3\\envs\\CS-GY_6083\\Lib\\site-packages\\mysql\\connector\\connection_cext.py:669\u001B[0m, in \u001B[0;36mCMySQLConnection.cmd_query\u001B[1;34m(self, query, raw, buffered, raw_as_string)\u001B[0m\n\u001B[0;32m    661\u001B[0m     \u001B[38;5;28mself\u001B[39m\u001B[38;5;241m.\u001B[39m_cmysql\u001B[38;5;241m.\u001B[39mquery(\n\u001B[0;32m    662\u001B[0m         query,\n\u001B[0;32m    663\u001B[0m         raw\u001B[38;5;241m=\u001B[39mraw,\n\u001B[1;32m   (...)\u001B[0m\n\u001B[0;32m    666\u001B[0m         query_attrs\u001B[38;5;241m=\u001B[39m\u001B[38;5;28mself\u001B[39m\u001B[38;5;241m.\u001B[39mquery_attrs,\n\u001B[0;32m    667\u001B[0m     )\n\u001B[0;32m    668\u001B[0m \u001B[38;5;28;01mexcept\u001B[39;00m MySQLInterfaceError \u001B[38;5;28;01mas\u001B[39;00m err:\n\u001B[1;32m--> 669\u001B[0m     \u001B[38;5;28;01mraise\u001B[39;00m get_mysql_exception(\n\u001B[0;32m    670\u001B[0m         err\u001B[38;5;241m.\u001B[39merrno, msg\u001B[38;5;241m=\u001B[39merr\u001B[38;5;241m.\u001B[39mmsg, sqlstate\u001B[38;5;241m=\u001B[39merr\u001B[38;5;241m.\u001B[39msqlstate\n\u001B[0;32m    671\u001B[0m     ) \u001B[38;5;28;01mfrom\u001B[39;00m \u001B[38;5;21;01merr\u001B[39;00m\n\u001B[0;32m    672\u001B[0m \u001B[38;5;28;01mexcept\u001B[39;00m \u001B[38;5;167;01mAttributeError\u001B[39;00m \u001B[38;5;28;01mas\u001B[39;00m err:\n\u001B[0;32m    673\u001B[0m     addr \u001B[38;5;241m=\u001B[39m (\n\u001B[0;32m    674\u001B[0m         \u001B[38;5;28mself\u001B[39m\u001B[38;5;241m.\u001B[39m_unix_socket \u001B[38;5;28;01mif\u001B[39;00m \u001B[38;5;28mself\u001B[39m\u001B[38;5;241m.\u001B[39m_unix_socket \u001B[38;5;28;01melse\u001B[39;00m \u001B[38;5;124mf\u001B[39m\u001B[38;5;124m\"\u001B[39m\u001B[38;5;132;01m{\u001B[39;00m\u001B[38;5;28mself\u001B[39m\u001B[38;5;241m.\u001B[39m_host\u001B[38;5;132;01m}\u001B[39;00m\u001B[38;5;124m:\u001B[39m\u001B[38;5;132;01m{\u001B[39;00m\u001B[38;5;28mself\u001B[39m\u001B[38;5;241m.\u001B[39m_port\u001B[38;5;132;01m}\u001B[39;00m\u001B[38;5;124m\"\u001B[39m\n\u001B[0;32m    675\u001B[0m     )\n",
      "\u001B[1;31mProgrammingError\u001B[0m: 1146 (42S02): Table 'album_information.record_label' doesn't exist"
     ]
    }
   ],
   "source": [
    "from project.business_objects import record_label_bo as rl_bo\n",
    "record_label_row = rl_bo.read_record_label(1)\n",
    "print(record_label_row)"
   ],
   "metadata": {
    "collapsed": false,
    "ExecuteTime": {
     "end_time": "2024-03-16T13:24:03.056129Z",
     "start_time": "2024-03-16T13:24:02.913306Z"
    }
   },
   "id": "ffae0b59c51f3e2b",
   "execution_count": 8
  }
 ],
 "metadata": {
  "kernelspec": {
   "display_name": "Python 3",
   "language": "python",
   "name": "python3"
  },
  "language_info": {
   "codemirror_mode": {
    "name": "ipython",
    "version": 2
   },
   "file_extension": ".py",
   "mimetype": "text/x-python",
   "name": "python",
   "nbconvert_exporter": "python",
   "pygments_lexer": "ipython2",
   "version": "2.7.6"
  }
 },
 "nbformat": 4,
 "nbformat_minor": 5
}
