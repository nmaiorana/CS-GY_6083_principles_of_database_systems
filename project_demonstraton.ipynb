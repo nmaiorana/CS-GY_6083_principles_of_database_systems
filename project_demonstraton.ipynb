{
 "cells": [
  {
   "cell_type": "markdown",
   "source": [
    "# This notebook will demonstrate all the features I developed for the project."
   ],
   "metadata": {
    "collapsed": false
   },
   "id": "4077cfd9a10e9d92"
  },
  {
   "cell_type": "code",
   "outputs": [],
   "source": [
    "import db_utils as dbu"
   ],
   "metadata": {
    "collapsed": true,
    "ExecuteTime": {
     "end_time": "2024-03-04T03:52:44.551861Z",
     "start_time": "2024-03-04T03:52:44.539135Z"
    }
   },
   "id": "initial_id",
   "execution_count": 4
  },
  {
   "cell_type": "markdown",
   "source": [
    "## Get all the connecting information"
   ],
   "metadata": {
    "collapsed": false
   },
   "id": "b6052679bab2c114"
  },
  {
   "cell_type": "code",
   "outputs": [
    {
     "data": {
      "text/plain": "                         album_name album_release_date  artist_id  genre_id  \\\nalbum_id                                                                      \n1         The Dark Side of the Moon         1973-03-01          1         1   \n2                            Boston         1976-08-25          2         1   \n\n          record_label_id  \nalbum_id                   \n1                       1  \n2                       2  ",
      "text/html": "<div>\n<style scoped>\n    .dataframe tbody tr th:only-of-type {\n        vertical-align: middle;\n    }\n\n    .dataframe tbody tr th {\n        vertical-align: top;\n    }\n\n    .dataframe thead th {\n        text-align: right;\n    }\n</style>\n<table border=\"1\" class=\"dataframe\">\n  <thead>\n    <tr style=\"text-align: right;\">\n      <th></th>\n      <th>album_name</th>\n      <th>album_release_date</th>\n      <th>artist_id</th>\n      <th>genre_id</th>\n      <th>record_label_id</th>\n    </tr>\n    <tr>\n      <th>album_id</th>\n      <th></th>\n      <th></th>\n      <th></th>\n      <th></th>\n      <th></th>\n    </tr>\n  </thead>\n  <tbody>\n    <tr>\n      <th>1</th>\n      <td>The Dark Side of the Moon</td>\n      <td>1973-03-01</td>\n      <td>1</td>\n      <td>1</td>\n      <td>1</td>\n    </tr>\n    <tr>\n      <th>2</th>\n      <td>Boston</td>\n      <td>1976-08-25</td>\n      <td>2</td>\n      <td>1</td>\n      <td>2</td>\n    </tr>\n  </tbody>\n</table>\n</div>"
     },
     "metadata": {},
     "output_type": "display_data"
    },
    {
     "data": {
      "text/plain": "          artist_name\nartist_id            \n1          Pink Floyd\n2              Boston",
      "text/html": "<div>\n<style scoped>\n    .dataframe tbody tr th:only-of-type {\n        vertical-align: middle;\n    }\n\n    .dataframe tbody tr th {\n        vertical-align: top;\n    }\n\n    .dataframe thead th {\n        text-align: right;\n    }\n</style>\n<table border=\"1\" class=\"dataframe\">\n  <thead>\n    <tr style=\"text-align: right;\">\n      <th></th>\n      <th>artist_name</th>\n    </tr>\n    <tr>\n      <th>artist_id</th>\n      <th></th>\n    </tr>\n  </thead>\n  <tbody>\n    <tr>\n      <th>1</th>\n      <td>Pink Floyd</td>\n    </tr>\n    <tr>\n      <th>2</th>\n      <td>Boston</td>\n    </tr>\n  </tbody>\n</table>\n</div>"
     },
     "metadata": {},
     "output_type": "display_data"
    },
    {
     "data": {
      "text/plain": "              member_name\nmember_id                \n1             Syd Barrett\n2            Roger Waters\n3          Richard Wright\n4              Nick Mason\n5           David Gilmour\n6              Tom Scholz\n7               Brad Delp\n8          Barry Goudreau\n9            Fran Sheehan\n10            Sib Hashian",
      "text/html": "<div>\n<style scoped>\n    .dataframe tbody tr th:only-of-type {\n        vertical-align: middle;\n    }\n\n    .dataframe tbody tr th {\n        vertical-align: top;\n    }\n\n    .dataframe thead th {\n        text-align: right;\n    }\n</style>\n<table border=\"1\" class=\"dataframe\">\n  <thead>\n    <tr style=\"text-align: right;\">\n      <th></th>\n      <th>member_name</th>\n    </tr>\n    <tr>\n      <th>member_id</th>\n      <th></th>\n    </tr>\n  </thead>\n  <tbody>\n    <tr>\n      <th>1</th>\n      <td>Syd Barrett</td>\n    </tr>\n    <tr>\n      <th>2</th>\n      <td>Roger Waters</td>\n    </tr>\n    <tr>\n      <th>3</th>\n      <td>Richard Wright</td>\n    </tr>\n    <tr>\n      <th>4</th>\n      <td>Nick Mason</td>\n    </tr>\n    <tr>\n      <th>5</th>\n      <td>David Gilmour</td>\n    </tr>\n    <tr>\n      <th>6</th>\n      <td>Tom Scholz</td>\n    </tr>\n    <tr>\n      <th>7</th>\n      <td>Brad Delp</td>\n    </tr>\n    <tr>\n      <th>8</th>\n      <td>Barry Goudreau</td>\n    </tr>\n    <tr>\n      <th>9</th>\n      <td>Fran Sheehan</td>\n    </tr>\n    <tr>\n      <th>10</th>\n      <td>Sib Hashian</td>\n    </tr>\n  </tbody>\n</table>\n</div>"
     },
     "metadata": {},
     "output_type": "display_data"
    },
    {
     "data": {
      "text/plain": "         genre_name genre_description\ngenre_id                             \n1              Rock        Rock music",
      "text/html": "<div>\n<style scoped>\n    .dataframe tbody tr th:only-of-type {\n        vertical-align: middle;\n    }\n\n    .dataframe tbody tr th {\n        vertical-align: top;\n    }\n\n    .dataframe thead th {\n        text-align: right;\n    }\n</style>\n<table border=\"1\" class=\"dataframe\">\n  <thead>\n    <tr style=\"text-align: right;\">\n      <th></th>\n      <th>genre_name</th>\n      <th>genre_description</th>\n    </tr>\n    <tr>\n      <th>genre_id</th>\n      <th></th>\n      <th></th>\n    </tr>\n  </thead>\n  <tbody>\n    <tr>\n      <th>1</th>\n      <td>Rock</td>\n      <td>Rock music</td>\n    </tr>\n  </tbody>\n</table>\n</div>"
     },
     "metadata": {},
     "output_type": "display_data"
    },
    {
     "data": {
      "text/plain": "                       record_label_name\nrecord_label_id                         \n1                Harvest Capitol Records\n2                           Epic Records",
      "text/html": "<div>\n<style scoped>\n    .dataframe tbody tr th:only-of-type {\n        vertical-align: middle;\n    }\n\n    .dataframe tbody tr th {\n        vertical-align: top;\n    }\n\n    .dataframe thead th {\n        text-align: right;\n    }\n</style>\n<table border=\"1\" class=\"dataframe\">\n  <thead>\n    <tr style=\"text-align: right;\">\n      <th></th>\n      <th>record_label_name</th>\n    </tr>\n    <tr>\n      <th>record_label_id</th>\n      <th></th>\n    </tr>\n  </thead>\n  <tbody>\n    <tr>\n      <th>1</th>\n      <td>Harvest Capitol Records</td>\n    </tr>\n    <tr>\n      <th>2</th>\n      <td>Epic Records</td>\n    </tr>\n  </tbody>\n</table>\n</div>"
     },
     "metadata": {},
     "output_type": "display_data"
    },
    {
     "data": {
      "text/plain": "                            track_name  track_number  genre_id\ntrack_id                                                      \n1                          Speak to Me             1         1\n2                 Breathe (In the Air)             2         1\n3                           On the Run             3         1\n4                                 Time             4         1\n5             The Great Gig in the Sky             5         1\n6                                Money             6         1\n7                          Us and Them             7         1\n8                  Any Colour You Like             8         1\n9                         Brain Damage             9         1\n10                             Eclipse            10         1\n11                 More Than a Feeling             1         1\n12                       Peace of Mind             2         1\n13                  Foreplay/Long Time             3         1\n14                    Rock & Roll Band             4         1\n15                              Smokin             5         1\n16                        Hitch a Ride             6         1\n17                 Something About You             7         1\n18        Let Me Take You Home Tonight             8         1",
      "text/html": "<div>\n<style scoped>\n    .dataframe tbody tr th:only-of-type {\n        vertical-align: middle;\n    }\n\n    .dataframe tbody tr th {\n        vertical-align: top;\n    }\n\n    .dataframe thead th {\n        text-align: right;\n    }\n</style>\n<table border=\"1\" class=\"dataframe\">\n  <thead>\n    <tr style=\"text-align: right;\">\n      <th></th>\n      <th>track_name</th>\n      <th>track_number</th>\n      <th>genre_id</th>\n    </tr>\n    <tr>\n      <th>track_id</th>\n      <th></th>\n      <th></th>\n      <th></th>\n    </tr>\n  </thead>\n  <tbody>\n    <tr>\n      <th>1</th>\n      <td>Speak to Me</td>\n      <td>1</td>\n      <td>1</td>\n    </tr>\n    <tr>\n      <th>2</th>\n      <td>Breathe (In the Air)</td>\n      <td>2</td>\n      <td>1</td>\n    </tr>\n    <tr>\n      <th>3</th>\n      <td>On the Run</td>\n      <td>3</td>\n      <td>1</td>\n    </tr>\n    <tr>\n      <th>4</th>\n      <td>Time</td>\n      <td>4</td>\n      <td>1</td>\n    </tr>\n    <tr>\n      <th>5</th>\n      <td>The Great Gig in the Sky</td>\n      <td>5</td>\n      <td>1</td>\n    </tr>\n    <tr>\n      <th>6</th>\n      <td>Money</td>\n      <td>6</td>\n      <td>1</td>\n    </tr>\n    <tr>\n      <th>7</th>\n      <td>Us and Them</td>\n      <td>7</td>\n      <td>1</td>\n    </tr>\n    <tr>\n      <th>8</th>\n      <td>Any Colour You Like</td>\n      <td>8</td>\n      <td>1</td>\n    </tr>\n    <tr>\n      <th>9</th>\n      <td>Brain Damage</td>\n      <td>9</td>\n      <td>1</td>\n    </tr>\n    <tr>\n      <th>10</th>\n      <td>Eclipse</td>\n      <td>10</td>\n      <td>1</td>\n    </tr>\n    <tr>\n      <th>11</th>\n      <td>More Than a Feeling</td>\n      <td>1</td>\n      <td>1</td>\n    </tr>\n    <tr>\n      <th>12</th>\n      <td>Peace of Mind</td>\n      <td>2</td>\n      <td>1</td>\n    </tr>\n    <tr>\n      <th>13</th>\n      <td>Foreplay/Long Time</td>\n      <td>3</td>\n      <td>1</td>\n    </tr>\n    <tr>\n      <th>14</th>\n      <td>Rock &amp; Roll Band</td>\n      <td>4</td>\n      <td>1</td>\n    </tr>\n    <tr>\n      <th>15</th>\n      <td>Smokin</td>\n      <td>5</td>\n      <td>1</td>\n    </tr>\n    <tr>\n      <th>16</th>\n      <td>Hitch a Ride</td>\n      <td>6</td>\n      <td>1</td>\n    </tr>\n    <tr>\n      <th>17</th>\n      <td>Something About You</td>\n      <td>7</td>\n      <td>1</td>\n    </tr>\n    <tr>\n      <th>18</th>\n      <td>Let Me Take You Home Tonight</td>\n      <td>8</td>\n      <td>1</td>\n    </tr>\n  </tbody>\n</table>\n</div>"
     },
     "metadata": {},
     "output_type": "display_data"
    },
    {
     "data": {
      "text/plain": "         album_id   sale_date  sale_quantity unit_sale_price\nsale_id                                                     \n1               1  1973-01-01        1000000              10\n2               1  1974-01-01        1000000              10\n3               1  1975-01-01        1000000              10\n4               1  1976-01-01        1000000              10\n5               1  1977-01-01        1000000              10\n6               1  1978-01-01        1000000              10\n7               1  1979-01-01        1000000              10\n8               1  1980-01-01        1000000              10\n9               1  1981-01-01        1000000              10\n10              1  1982-01-01        1000000              10\n11              1  1983-01-01        1000000              10\n12              1  1984-01-01        1000000              10\n13              1  1985-01-01        1000000              10\n14              1  1986-01-01        1000000              10\n15              1  1987-01-01        1000000              10\n16              2  1976-01-01        1000000              10\n17              2  1977-01-01        1000000              10\n18              2  1978-01-01        1000000              10\n19              2  1979-01-01        1000000              10\n20              2  1980-01-01        1000000              10\n21              2  1981-01-01        1000000              10\n22              2  1982-01-01        1000000              10\n23              2  1983-01-01        1000000              10\n24              2  1984-01-01        1000000              10\n25              2  1985-01-01        1000000              10\n26              2  1986-01-01        1000000              10\n27              2  1987-01-01        1000000              10",
      "text/html": "<div>\n<style scoped>\n    .dataframe tbody tr th:only-of-type {\n        vertical-align: middle;\n    }\n\n    .dataframe tbody tr th {\n        vertical-align: top;\n    }\n\n    .dataframe thead th {\n        text-align: right;\n    }\n</style>\n<table border=\"1\" class=\"dataframe\">\n  <thead>\n    <tr style=\"text-align: right;\">\n      <th></th>\n      <th>album_id</th>\n      <th>sale_date</th>\n      <th>sale_quantity</th>\n      <th>unit_sale_price</th>\n    </tr>\n    <tr>\n      <th>sale_id</th>\n      <th></th>\n      <th></th>\n      <th></th>\n      <th></th>\n    </tr>\n  </thead>\n  <tbody>\n    <tr>\n      <th>1</th>\n      <td>1</td>\n      <td>1973-01-01</td>\n      <td>1000000</td>\n      <td>10</td>\n    </tr>\n    <tr>\n      <th>2</th>\n      <td>1</td>\n      <td>1974-01-01</td>\n      <td>1000000</td>\n      <td>10</td>\n    </tr>\n    <tr>\n      <th>3</th>\n      <td>1</td>\n      <td>1975-01-01</td>\n      <td>1000000</td>\n      <td>10</td>\n    </tr>\n    <tr>\n      <th>4</th>\n      <td>1</td>\n      <td>1976-01-01</td>\n      <td>1000000</td>\n      <td>10</td>\n    </tr>\n    <tr>\n      <th>5</th>\n      <td>1</td>\n      <td>1977-01-01</td>\n      <td>1000000</td>\n      <td>10</td>\n    </tr>\n    <tr>\n      <th>6</th>\n      <td>1</td>\n      <td>1978-01-01</td>\n      <td>1000000</td>\n      <td>10</td>\n    </tr>\n    <tr>\n      <th>7</th>\n      <td>1</td>\n      <td>1979-01-01</td>\n      <td>1000000</td>\n      <td>10</td>\n    </tr>\n    <tr>\n      <th>8</th>\n      <td>1</td>\n      <td>1980-01-01</td>\n      <td>1000000</td>\n      <td>10</td>\n    </tr>\n    <tr>\n      <th>9</th>\n      <td>1</td>\n      <td>1981-01-01</td>\n      <td>1000000</td>\n      <td>10</td>\n    </tr>\n    <tr>\n      <th>10</th>\n      <td>1</td>\n      <td>1982-01-01</td>\n      <td>1000000</td>\n      <td>10</td>\n    </tr>\n    <tr>\n      <th>11</th>\n      <td>1</td>\n      <td>1983-01-01</td>\n      <td>1000000</td>\n      <td>10</td>\n    </tr>\n    <tr>\n      <th>12</th>\n      <td>1</td>\n      <td>1984-01-01</td>\n      <td>1000000</td>\n      <td>10</td>\n    </tr>\n    <tr>\n      <th>13</th>\n      <td>1</td>\n      <td>1985-01-01</td>\n      <td>1000000</td>\n      <td>10</td>\n    </tr>\n    <tr>\n      <th>14</th>\n      <td>1</td>\n      <td>1986-01-01</td>\n      <td>1000000</td>\n      <td>10</td>\n    </tr>\n    <tr>\n      <th>15</th>\n      <td>1</td>\n      <td>1987-01-01</td>\n      <td>1000000</td>\n      <td>10</td>\n    </tr>\n    <tr>\n      <th>16</th>\n      <td>2</td>\n      <td>1976-01-01</td>\n      <td>1000000</td>\n      <td>10</td>\n    </tr>\n    <tr>\n      <th>17</th>\n      <td>2</td>\n      <td>1977-01-01</td>\n      <td>1000000</td>\n      <td>10</td>\n    </tr>\n    <tr>\n      <th>18</th>\n      <td>2</td>\n      <td>1978-01-01</td>\n      <td>1000000</td>\n      <td>10</td>\n    </tr>\n    <tr>\n      <th>19</th>\n      <td>2</td>\n      <td>1979-01-01</td>\n      <td>1000000</td>\n      <td>10</td>\n    </tr>\n    <tr>\n      <th>20</th>\n      <td>2</td>\n      <td>1980-01-01</td>\n      <td>1000000</td>\n      <td>10</td>\n    </tr>\n    <tr>\n      <th>21</th>\n      <td>2</td>\n      <td>1981-01-01</td>\n      <td>1000000</td>\n      <td>10</td>\n    </tr>\n    <tr>\n      <th>22</th>\n      <td>2</td>\n      <td>1982-01-01</td>\n      <td>1000000</td>\n      <td>10</td>\n    </tr>\n    <tr>\n      <th>23</th>\n      <td>2</td>\n      <td>1983-01-01</td>\n      <td>1000000</td>\n      <td>10</td>\n    </tr>\n    <tr>\n      <th>24</th>\n      <td>2</td>\n      <td>1984-01-01</td>\n      <td>1000000</td>\n      <td>10</td>\n    </tr>\n    <tr>\n      <th>25</th>\n      <td>2</td>\n      <td>1985-01-01</td>\n      <td>1000000</td>\n      <td>10</td>\n    </tr>\n    <tr>\n      <th>26</th>\n      <td>2</td>\n      <td>1986-01-01</td>\n      <td>1000000</td>\n      <td>10</td>\n    </tr>\n    <tr>\n      <th>27</th>\n      <td>2</td>\n      <td>1987-01-01</td>\n      <td>1000000</td>\n      <td>10</td>\n    </tr>\n  </tbody>\n</table>\n</div>"
     },
     "metadata": {},
     "output_type": "display_data"
    }
   ],
   "source": [
    "display(dbu.db_query_to_df('select * from record_albums'))\n",
    "display(dbu.db_query_to_df('select * from record_artists'))\n",
    "display(dbu.db_query_to_df('select * from group_members'))\n",
    "display(dbu.db_query_to_df('select * from record_genres'))\n",
    "display(dbu.db_query_to_df('select * from record_labels'))\n",
    "display(dbu.db_query_to_df('select * from record_tracks'))\n",
    "display(dbu.db_query_to_df('select * from record_sales'))"
   ],
   "metadata": {
    "collapsed": false,
    "ExecuteTime": {
     "end_time": "2024-03-04T03:53:45.422634Z",
     "start_time": "2024-03-04T03:53:45.242515Z"
    }
   },
   "id": "786b399a06a807c3",
   "execution_count": 5
  },
  {
   "cell_type": "markdown",
   "source": [
    "## Read all the album information from the database view album_information into a dataframe"
   ],
   "metadata": {
    "collapsed": false
   },
   "id": "4b148027cd49e010"
  },
  {
   "cell_type": "code",
   "outputs": [
    {
     "data": {
      "text/plain": "                                                         genre_name  \\\nalbum_name                album_release_date artist_name              \nThe Dark Side of the Moon 1973-03-01         Pink Floyd        Rock   \nBoston                    1976-08-25         Boston            Rock   \n\n                                                                record_label_name  \nalbum_name                album_release_date artist_name                           \nThe Dark Side of the Moon 1973-03-01         Pink Floyd   Harvest Capitol Records  \nBoston                    1976-08-25         Boston                  Epic Records  ",
      "text/html": "<div>\n<style scoped>\n    .dataframe tbody tr th:only-of-type {\n        vertical-align: middle;\n    }\n\n    .dataframe tbody tr th {\n        vertical-align: top;\n    }\n\n    .dataframe thead th {\n        text-align: right;\n    }\n</style>\n<table border=\"1\" class=\"dataframe\">\n  <thead>\n    <tr style=\"text-align: right;\">\n      <th></th>\n      <th></th>\n      <th></th>\n      <th>genre_name</th>\n      <th>record_label_name</th>\n    </tr>\n    <tr>\n      <th>album_name</th>\n      <th>album_release_date</th>\n      <th>artist_name</th>\n      <th></th>\n      <th></th>\n    </tr>\n  </thead>\n  <tbody>\n    <tr>\n      <th>The Dark Side of the Moon</th>\n      <th>1973-03-01</th>\n      <th>Pink Floyd</th>\n      <td>Rock</td>\n      <td>Harvest Capitol Records</td>\n    </tr>\n    <tr>\n      <th>Boston</th>\n      <th>1976-08-25</th>\n      <th>Boston</th>\n      <td>Rock</td>\n      <td>Epic Records</td>\n    </tr>\n  </tbody>\n</table>\n</div>"
     },
     "metadata": {},
     "output_type": "display_data"
    }
   ],
   "source": [
    "query = 'select * from album_information'\n",
    "albums_df = dbu.db_query_to_df(query)\n",
    "albums_df = albums_df.reset_index()\n",
    "albums_df = albums_df.set_index(['album_name', 'album_release_date', 'artist_name'])\n",
    "display(albums_df)"
   ],
   "metadata": {
    "collapsed": false,
    "ExecuteTime": {
     "end_time": "2024-03-04T03:54:01.632870Z",
     "start_time": "2024-03-04T03:54:01.522571Z"
    }
   },
   "id": "24ee7bd3302756aa",
   "execution_count": 6
  },
  {
   "cell_type": "markdown",
   "source": [
    "## Read all the album detail information from the database view album_information details into a dataframe"
   ],
   "metadata": {
    "collapsed": false
   },
   "id": "6432d3aadc96f1a0"
  },
  {
   "cell_type": "code",
   "outputs": [
    {
     "data": {
      "text/plain": "                                                                                              genre_name  \\\nalbum_name                album_release_date artist_name record_label_name       track_number              \nBoston                    1976-08-25         Boston      Epic Records            1                  Rock   \n                                                                                 2                  Rock   \n                                                                                 3                  Rock   \n                                                                                 4                  Rock   \n                                                                                 5                  Rock   \n                                                                                 6                  Rock   \n                                                                                 7                  Rock   \n                                                                                 8                  Rock   \nThe Dark Side of the Moon 1973-03-01         Pink Floyd  Harvest Capitol Records 1                  Rock   \n                                                                                 2                  Rock   \n                                                                                 3                  Rock   \n                                                                                 4                  Rock   \n                                                                                 5                  Rock   \n                                                                                 6                  Rock   \n                                                                                 7                  Rock   \n                                                                                 8                  Rock   \n                                                                                 9                  Rock   \n                                                                                 10                 Rock   \n\n                                                                                                                 track_name  \nalbum_name                album_release_date artist_name record_label_name       track_number                                \nBoston                    1976-08-25         Boston      Epic Records            1                      More Than a Feeling  \n                                                                                 2                            Peace of Mind  \n                                                                                 3                       Foreplay/Long Time  \n                                                                                 4                         Rock & Roll Band  \n                                                                                 5                                   Smokin  \n                                                                                 6                             Hitch a Ride  \n                                                                                 7                      Something About You  \n                                                                                 8             Let Me Take You Home Tonight  \nThe Dark Side of the Moon 1973-03-01         Pink Floyd  Harvest Capitol Records 1                              Speak to Me  \n                                                                                 2                     Breathe (In the Air)  \n                                                                                 3                               On the Run  \n                                                                                 4                                     Time  \n                                                                                 5                 The Great Gig in the Sky  \n                                                                                 6                                    Money  \n                                                                                 7                              Us and Them  \n                                                                                 8                      Any Colour You Like  \n                                                                                 9                             Brain Damage  \n                                                                                 10                                 Eclipse  ",
      "text/html": "<div>\n<style scoped>\n    .dataframe tbody tr th:only-of-type {\n        vertical-align: middle;\n    }\n\n    .dataframe tbody tr th {\n        vertical-align: top;\n    }\n\n    .dataframe thead th {\n        text-align: right;\n    }\n</style>\n<table border=\"1\" class=\"dataframe\">\n  <thead>\n    <tr style=\"text-align: right;\">\n      <th></th>\n      <th></th>\n      <th></th>\n      <th></th>\n      <th></th>\n      <th>genre_name</th>\n      <th>track_name</th>\n    </tr>\n    <tr>\n      <th>album_name</th>\n      <th>album_release_date</th>\n      <th>artist_name</th>\n      <th>record_label_name</th>\n      <th>track_number</th>\n      <th></th>\n      <th></th>\n    </tr>\n  </thead>\n  <tbody>\n    <tr>\n      <th rowspan=\"8\" valign=\"top\">Boston</th>\n      <th rowspan=\"8\" valign=\"top\">1976-08-25</th>\n      <th rowspan=\"8\" valign=\"top\">Boston</th>\n      <th rowspan=\"8\" valign=\"top\">Epic Records</th>\n      <th>1</th>\n      <td>Rock</td>\n      <td>More Than a Feeling</td>\n    </tr>\n    <tr>\n      <th>2</th>\n      <td>Rock</td>\n      <td>Peace of Mind</td>\n    </tr>\n    <tr>\n      <th>3</th>\n      <td>Rock</td>\n      <td>Foreplay/Long Time</td>\n    </tr>\n    <tr>\n      <th>4</th>\n      <td>Rock</td>\n      <td>Rock &amp; Roll Band</td>\n    </tr>\n    <tr>\n      <th>5</th>\n      <td>Rock</td>\n      <td>Smokin</td>\n    </tr>\n    <tr>\n      <th>6</th>\n      <td>Rock</td>\n      <td>Hitch a Ride</td>\n    </tr>\n    <tr>\n      <th>7</th>\n      <td>Rock</td>\n      <td>Something About You</td>\n    </tr>\n    <tr>\n      <th>8</th>\n      <td>Rock</td>\n      <td>Let Me Take You Home Tonight</td>\n    </tr>\n    <tr>\n      <th rowspan=\"10\" valign=\"top\">The Dark Side of the Moon</th>\n      <th rowspan=\"10\" valign=\"top\">1973-03-01</th>\n      <th rowspan=\"10\" valign=\"top\">Pink Floyd</th>\n      <th rowspan=\"10\" valign=\"top\">Harvest Capitol Records</th>\n      <th>1</th>\n      <td>Rock</td>\n      <td>Speak to Me</td>\n    </tr>\n    <tr>\n      <th>2</th>\n      <td>Rock</td>\n      <td>Breathe (In the Air)</td>\n    </tr>\n    <tr>\n      <th>3</th>\n      <td>Rock</td>\n      <td>On the Run</td>\n    </tr>\n    <tr>\n      <th>4</th>\n      <td>Rock</td>\n      <td>Time</td>\n    </tr>\n    <tr>\n      <th>5</th>\n      <td>Rock</td>\n      <td>The Great Gig in the Sky</td>\n    </tr>\n    <tr>\n      <th>6</th>\n      <td>Rock</td>\n      <td>Money</td>\n    </tr>\n    <tr>\n      <th>7</th>\n      <td>Rock</td>\n      <td>Us and Them</td>\n    </tr>\n    <tr>\n      <th>8</th>\n      <td>Rock</td>\n      <td>Any Colour You Like</td>\n    </tr>\n    <tr>\n      <th>9</th>\n      <td>Rock</td>\n      <td>Brain Damage</td>\n    </tr>\n    <tr>\n      <th>10</th>\n      <td>Rock</td>\n      <td>Eclipse</td>\n    </tr>\n  </tbody>\n</table>\n</div>"
     },
     "metadata": {},
     "output_type": "display_data"
    }
   ],
   "source": [
    "query = 'select * from album_information_details'\n",
    "albums_df = dbu.db_query_to_df(query)\n",
    "albums_df = albums_df.reset_index()\n",
    "albums_df = albums_df.set_index(['album_name', 'album_release_date', 'artist_name', 'record_label_name', 'track_number'])\n",
    "display(albums_df)"
   ],
   "metadata": {
    "collapsed": false,
    "ExecuteTime": {
     "end_time": "2024-03-04T03:54:08.827982Z",
     "start_time": "2024-03-04T03:54:08.771603Z"
    }
   },
   "id": "49b4d27ff4a23086",
   "execution_count": 7
  },
  {
   "cell_type": "markdown",
   "source": [
    "## Show which members are in which bands"
   ],
   "metadata": {
    "collapsed": false
   },
   "id": "75746f07509a9c40"
  },
  {
   "cell_type": "code",
   "outputs": [
    {
     "data": {
      "text/plain": "                member_name\nartist_name                \nPink Floyd      Syd Barrett\nPink Floyd     Roger Waters\nPink Floyd   Richard Wright\nPink Floyd       Nick Mason\nPink Floyd    David Gilmour\nBoston           Tom Scholz\nBoston            Brad Delp\nBoston       Barry Goudreau\nBoston         Fran Sheehan\nBoston          Sib Hashian",
      "text/html": "<div>\n<style scoped>\n    .dataframe tbody tr th:only-of-type {\n        vertical-align: middle;\n    }\n\n    .dataframe tbody tr th {\n        vertical-align: top;\n    }\n\n    .dataframe thead th {\n        text-align: right;\n    }\n</style>\n<table border=\"1\" class=\"dataframe\">\n  <thead>\n    <tr style=\"text-align: right;\">\n      <th></th>\n      <th>member_name</th>\n    </tr>\n    <tr>\n      <th>artist_name</th>\n      <th></th>\n    </tr>\n  </thead>\n  <tbody>\n    <tr>\n      <th>Pink Floyd</th>\n      <td>Syd Barrett</td>\n    </tr>\n    <tr>\n      <th>Pink Floyd</th>\n      <td>Roger Waters</td>\n    </tr>\n    <tr>\n      <th>Pink Floyd</th>\n      <td>Richard Wright</td>\n    </tr>\n    <tr>\n      <th>Pink Floyd</th>\n      <td>Nick Mason</td>\n    </tr>\n    <tr>\n      <th>Pink Floyd</th>\n      <td>David Gilmour</td>\n    </tr>\n    <tr>\n      <th>Boston</th>\n      <td>Tom Scholz</td>\n    </tr>\n    <tr>\n      <th>Boston</th>\n      <td>Brad Delp</td>\n    </tr>\n    <tr>\n      <th>Boston</th>\n      <td>Barry Goudreau</td>\n    </tr>\n    <tr>\n      <th>Boston</th>\n      <td>Fran Sheehan</td>\n    </tr>\n    <tr>\n      <th>Boston</th>\n      <td>Sib Hashian</td>\n    </tr>\n  </tbody>\n</table>\n</div>"
     },
     "metadata": {},
     "output_type": "display_data"
    }
   ],
   "source": [
    "query = 'select * from band_members'\n",
    "albums_df = dbu.db_query_to_df(query)\n",
    "albums_df = albums_df.reset_index()\n",
    "albums_df = albums_df.set_index(['artist_name'])\n",
    "display(albums_df)"
   ],
   "metadata": {
    "collapsed": false,
    "ExecuteTime": {
     "end_time": "2024-03-04T03:54:13.779564Z",
     "start_time": "2024-03-04T03:54:13.748024Z"
    }
   },
   "id": "a638a7f4553aa5b",
   "execution_count": 8
  }
 ],
 "metadata": {
  "kernelspec": {
   "display_name": "Python 3",
   "language": "python",
   "name": "python3"
  },
  "language_info": {
   "codemirror_mode": {
    "name": "ipython",
    "version": 2
   },
   "file_extension": ".py",
   "mimetype": "text/x-python",
   "name": "python",
   "nbconvert_exporter": "python",
   "pygments_lexer": "ipython2",
   "version": "2.7.6"
  }
 },
 "nbformat": 4,
 "nbformat_minor": 5
}
