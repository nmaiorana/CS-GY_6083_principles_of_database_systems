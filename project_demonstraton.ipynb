{
 "cells": [
  {
   "cell_type": "markdown",
   "source": [
    "# CS-GY 6083 Principals of Database Systems - Spring 2024\n",
    "* **Author**: [Nicola Maiorana]\n",
    "* **Date**: [2024-03-23]\n",
    "* **Email**: [nam10102@nyu.edu]\n",
    "* **Class**: [CS-GY 6083]\n",
    "\n",
    "## Introduction\n",
    "This notebook will demonstrate all the features I developed for the project. It will present the database schema I used for the project and then the various capabilities required for the project.\n",
    "\n",
    "## Architecture\n",
    "This project will demonstrate a 2-tiered database architecture where the Python modules/classes will interact directly with the MySQL database. The name of the database is called \"album_information\" and is an example of a method to store record album data.\n",
    "\n",
    "### Database\n",
    "The database will be coded in the record_album_information.sql file. Here all the necessary constructs from tables to triggers will be defined. Also, sample data for the database will be included so that the database can be recreated with a single execution. The database will consist of the following:\n",
    "#### Tables\n",
    "- record_artists - Creators of the albums\n",
    "- group_members - Band members to form the artist groups\n",
    "- record_genres - The overall musical style of the album and each song on the album\n",
    "- record_labels - The organizations responsible for producing the record albums\n",
    "- record_tracks - The songs on each album\n",
    "- record_sales - Various periodic sales (Yearly) for each album\n",
    "- record_albums - The information all linked together to provide data about each record album\n",
    "- members_to_artists - Link the band members to the artist records\n",
    "\n",
    "#### Views\n",
    "- album_information - High level album information\n",
    "- album_information_details - Detailed information including songs\n",
    "- band_members - Band members and the dates they were part of the group\n",
    "\n",
    "### Python Tools\n",
    "- Various Database tools to interact with a local server\n",
    "    - mysql.connector: connectivity to the server\n",
    "    - sqlalchemy: For construction of the Object Relational Models (ORMs)\n",
    "    - Pandas to render the query data into easy to view structures\n",
    "- Custom classes created for this project\n",
    "-   db_utils.py - Basic interaction with the database and helpers for the ORMs\n",
    "\n",
    "\n",
    "\n"
   ],
   "metadata": {
    "collapsed": false
   },
   "id": "4077cfd9a10e9d92"
  },
  {
   "cell_type": "markdown",
   "source": [
    "## Import required modules"
   ],
   "metadata": {
    "collapsed": false
   },
   "id": "629106c02294c810"
  },
  {
   "cell_type": "code",
   "outputs": [],
   "source": [
    "import project.tools.db_utils as dbu"
   ],
   "metadata": {
    "collapsed": true,
    "ExecuteTime": {
     "end_time": "2024-03-23T16:00:31.684563Z",
     "start_time": "2024-03-23T16:00:30.024682Z"
    }
   },
   "id": "initial_id",
   "execution_count": 1
  },
  {
   "cell_type": "markdown",
   "source": [
    "## Get metadata from the database using SQLAlchemy"
   ],
   "metadata": {
    "collapsed": false
   },
   "id": "5dc8b5c3047879e2"
  },
  {
   "cell_type": "markdown",
   "source": [
    "### Table Names"
   ],
   "metadata": {
    "collapsed": false
   },
   "id": "795fc63cb54be62e"
  },
  {
   "cell_type": "code",
   "outputs": [
    {
     "name": "stdout",
     "output_type": "stream",
     "text": [
      "Table: group_members\n",
      "Table: members_to_artists\n",
      "Table: record_albums\n",
      "Table: record_artists\n",
      "Table: record_genres\n",
      "Table: record_labels\n",
      "Table: record_sales\n",
      "Table: record_tracks\n"
     ]
    }
   ],
   "source": [
    "for table_name in dbu.get_table_names():\n",
    "    print(f'Table: {table_name}')"
   ],
   "metadata": {
    "collapsed": false,
    "ExecuteTime": {
     "end_time": "2024-03-23T16:01:37.178947Z",
     "start_time": "2024-03-23T16:01:36.938509Z"
    }
   },
   "id": "e57d65fafff35b4d",
   "execution_count": 2
  },
  {
   "cell_type": "markdown",
   "source": [
    "### View Names"
   ],
   "metadata": {
    "collapsed": false
   },
   "id": "f28a555492d772ee"
  },
  {
   "cell_type": "code",
   "outputs": [
    {
     "name": "stdout",
     "output_type": "stream",
     "text": [
      "View: album_information\n",
      "View: album_information_details\n",
      "View: band_members\n"
     ]
    }
   ],
   "source": [
    "for view_names in dbu.get_view_names():\n",
    "    print(f'View: {view_names}')"
   ],
   "metadata": {
    "collapsed": false,
    "ExecuteTime": {
     "end_time": "2024-03-23T16:01:55.899969Z",
     "start_time": "2024-03-23T16:01:55.885351Z"
    }
   },
   "id": "c3e8ecf91e1ce1ae",
   "execution_count": 3
  },
  {
   "cell_type": "markdown",
   "source": [
    "### Column Names"
   ],
   "metadata": {
    "collapsed": false
   },
   "id": "4e2e3940c4b5e13e"
  },
  {
   "cell_type": "code",
   "outputs": [
    {
     "name": "stdout",
     "output_type": "stream",
     "text": [
      "Column (members_to_artists): members_to_artists_id     Type: INTEGER\n",
      "Column (members_to_artists): member_id                 Type: INTEGER\n",
      "Column (members_to_artists): artist_id                 Type: INTEGER\n",
      "Column (members_to_artists): member_from_date          Type: DATE\n",
      "Column (members_to_artists): member_to_date            Type: DATE\n"
     ]
    }
   ],
   "source": [
    "table_name = 'members_to_artists'\n",
    "for column in dbu.get_columns(table_name):\n",
    "    print(f\"Column ({table_name}): {column['name']:<25} Type: {column['type']}\")"
   ],
   "metadata": {
    "collapsed": false,
    "ExecuteTime": {
     "end_time": "2024-03-23T16:04:22.580214Z",
     "start_time": "2024-03-23T16:04:22.569747Z"
    }
   },
   "id": "c9fce5fe2da5fa19",
   "execution_count": 7
  },
  {
   "cell_type": "markdown",
   "source": [
    "### Simple Query"
   ],
   "metadata": {
    "collapsed": false
   },
   "id": "b6052679bab2c114"
  },
  {
   "cell_type": "code",
   "outputs": [
    {
     "data": {
      "text/plain": "                                                                                        genre_name  \\\nname                      release_date artist_name record_label_name       track_number              \nThe Dark Side of the Moon 1973-03-01   Pink Floyd  Harvest Capitol Records 1                  Rock   \n                                                                           2                  Rock   \n                                                                           3                  Rock   \n                                                                           4                  Rock   \n                                                                           5                  Rock   \n                                                                           6                  Rock   \n                                                                           7                  Rock   \n                                                                           8                  Rock   \n                                                                           9                  Rock   \n                                                                           10                 Rock   \nBoston                    1976-08-25   Boston      Epic Records            1                  Rock   \n                                                                           2                  Rock   \n                                                                           3                  Rock   \n                                                                           4                  Rock   \n                                                                           5                  Rock   \n                                                                           6                  Rock   \n                                                                           7                  Rock   \n                                                                           8                  Rock   \n\n                                                                                                           track_name  \nname                      release_date artist_name record_label_name       track_number                                \nThe Dark Side of the Moon 1973-03-01   Pink Floyd  Harvest Capitol Records 1                              Speak to Me  \n                                                                           2                     Breathe (In the Air)  \n                                                                           3                               On the Run  \n                                                                           4                                     Time  \n                                                                           5                 The Great Gig in the Sky  \n                                                                           6                                    Money  \n                                                                           7                              Us and Them  \n                                                                           8                      Any Colour You Like  \n                                                                           9                             Brain Damage  \n                                                                           10                                 Eclipse  \nBoston                    1976-08-25   Boston      Epic Records            1                      More Than a Feeling  \n                                                                           2                            Peace of Mind  \n                                                                           3                       Foreplay/Long Time  \n                                                                           4                         Rock & Roll Band  \n                                                                           5                                   Smokin  \n                                                                           6                             Hitch a Ride  \n                                                                           7                      Something About You  \n                                                                           8             Let Me Take You Home Tonight  ",
      "text/html": "<div>\n<style scoped>\n    .dataframe tbody tr th:only-of-type {\n        vertical-align: middle;\n    }\n\n    .dataframe tbody tr th {\n        vertical-align: top;\n    }\n\n    .dataframe thead th {\n        text-align: right;\n    }\n</style>\n<table border=\"1\" class=\"dataframe\">\n  <thead>\n    <tr style=\"text-align: right;\">\n      <th></th>\n      <th></th>\n      <th></th>\n      <th></th>\n      <th></th>\n      <th>genre_name</th>\n      <th>track_name</th>\n    </tr>\n    <tr>\n      <th>name</th>\n      <th>release_date</th>\n      <th>artist_name</th>\n      <th>record_label_name</th>\n      <th>track_number</th>\n      <th></th>\n      <th></th>\n    </tr>\n  </thead>\n  <tbody>\n    <tr>\n      <th rowspan=\"10\" valign=\"top\">The Dark Side of the Moon</th>\n      <th rowspan=\"10\" valign=\"top\">1973-03-01</th>\n      <th rowspan=\"10\" valign=\"top\">Pink Floyd</th>\n      <th rowspan=\"10\" valign=\"top\">Harvest Capitol Records</th>\n      <th>1</th>\n      <td>Rock</td>\n      <td>Speak to Me</td>\n    </tr>\n    <tr>\n      <th>2</th>\n      <td>Rock</td>\n      <td>Breathe (In the Air)</td>\n    </tr>\n    <tr>\n      <th>3</th>\n      <td>Rock</td>\n      <td>On the Run</td>\n    </tr>\n    <tr>\n      <th>4</th>\n      <td>Rock</td>\n      <td>Time</td>\n    </tr>\n    <tr>\n      <th>5</th>\n      <td>Rock</td>\n      <td>The Great Gig in the Sky</td>\n    </tr>\n    <tr>\n      <th>6</th>\n      <td>Rock</td>\n      <td>Money</td>\n    </tr>\n    <tr>\n      <th>7</th>\n      <td>Rock</td>\n      <td>Us and Them</td>\n    </tr>\n    <tr>\n      <th>8</th>\n      <td>Rock</td>\n      <td>Any Colour You Like</td>\n    </tr>\n    <tr>\n      <th>9</th>\n      <td>Rock</td>\n      <td>Brain Damage</td>\n    </tr>\n    <tr>\n      <th>10</th>\n      <td>Rock</td>\n      <td>Eclipse</td>\n    </tr>\n    <tr>\n      <th rowspan=\"8\" valign=\"top\">Boston</th>\n      <th rowspan=\"8\" valign=\"top\">1976-08-25</th>\n      <th rowspan=\"8\" valign=\"top\">Boston</th>\n      <th rowspan=\"8\" valign=\"top\">Epic Records</th>\n      <th>1</th>\n      <td>Rock</td>\n      <td>More Than a Feeling</td>\n    </tr>\n    <tr>\n      <th>2</th>\n      <td>Rock</td>\n      <td>Peace of Mind</td>\n    </tr>\n    <tr>\n      <th>3</th>\n      <td>Rock</td>\n      <td>Foreplay/Long Time</td>\n    </tr>\n    <tr>\n      <th>4</th>\n      <td>Rock</td>\n      <td>Rock &amp; Roll Band</td>\n    </tr>\n    <tr>\n      <th>5</th>\n      <td>Rock</td>\n      <td>Smokin</td>\n    </tr>\n    <tr>\n      <th>6</th>\n      <td>Rock</td>\n      <td>Hitch a Ride</td>\n    </tr>\n    <tr>\n      <th>7</th>\n      <td>Rock</td>\n      <td>Something About You</td>\n    </tr>\n    <tr>\n      <th>8</th>\n      <td>Rock</td>\n      <td>Let Me Take You Home Tonight</td>\n    </tr>\n  </tbody>\n</table>\n</div>"
     },
     "metadata": {},
     "output_type": "display_data"
    }
   ],
   "source": [
    "pandas_index_settings = ['name', 'release_date', 'artist_name', 'record_label_name', 'track_number']\n",
    "display(dbu.sqlalchemy_query_to_df('select * from album_information_details order by release_date', pandas_index_settings))"
   ],
   "metadata": {
    "collapsed": false,
    "ExecuteTime": {
     "end_time": "2024-03-23T16:09:48.916925Z",
     "start_time": "2024-03-23T16:09:48.886184Z"
    }
   },
   "id": "786b399a06a807c3",
   "execution_count": 11
  },
  {
   "cell_type": "markdown",
   "source": [
    "## Procedure DDL"
   ],
   "metadata": {
    "collapsed": false
   },
   "id": "d84e8dfdb4e22f29"
  },
  {
   "cell_type": "markdown",
   "source": [
    "## Function DDL"
   ],
   "metadata": {
    "collapsed": false
   },
   "id": "4049a97cf1f8e0d2"
  },
  {
   "cell_type": "markdown",
   "source": [
    "## Trigger DDL"
   ],
   "metadata": {
    "collapsed": false
   },
   "id": "ada3d31c5523231e"
  },
  {
   "cell_type": "markdown",
   "source": [
    "## Normalization"
   ],
   "metadata": {
    "collapsed": false
   },
   "id": "cbe9bbebe423f68"
  },
  {
   "cell_type": "markdown",
   "source": [
    "## Integrity Enforcement"
   ],
   "metadata": {
    "collapsed": false
   },
   "id": "f072429fbc8d26a1"
  },
  {
   "cell_type": "markdown",
   "source": [
    "## Isolation Level"
   ],
   "metadata": {
    "collapsed": false
   },
   "id": "d212c9a878b5dc26"
  },
  {
   "cell_type": "markdown",
   "source": [
    "## Forms\n",
    "- Table Inserts\n",
    "- Table Updates\n",
    "- Table Deletes\n",
    "- Selects"
   ],
   "metadata": {
    "collapsed": false
   },
   "id": "7a6e5e3a4e379fbe"
  },
  {
   "cell_type": "markdown",
   "source": [
    "## Reports"
   ],
   "metadata": {
    "collapsed": false
   },
   "id": "7f0a44b30506f23f"
  }
 ],
 "metadata": {
  "kernelspec": {
   "display_name": "Python 3",
   "language": "python",
   "name": "python3"
  },
  "language_info": {
   "codemirror_mode": {
    "name": "ipython",
    "version": 2
   },
   "file_extension": ".py",
   "mimetype": "text/x-python",
   "name": "python",
   "nbconvert_exporter": "python",
   "pygments_lexer": "ipython2",
   "version": "2.7.6"
  }
 },
 "nbformat": 4,
 "nbformat_minor": 5
}
