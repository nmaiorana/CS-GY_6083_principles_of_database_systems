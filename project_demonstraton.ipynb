{
 "cells": [
  {
   "cell_type": "markdown",
   "source": [
    "# This notebook will demonstrate all the features I developed for the project."
   ],
   "metadata": {
    "collapsed": false
   },
   "id": "4077cfd9a10e9d92"
  },
  {
   "cell_type": "code",
   "outputs": [],
   "source": [
    "import mysql.connector\n",
    "from mysql.connector import errorcode\n",
    "import pandas as pd\n",
    "import os"
   ],
   "metadata": {
    "collapsed": true,
    "ExecuteTime": {
     "end_time": "2024-03-02T19:50:11.618989Z",
     "start_time": "2024-03-02T19:50:10.495475Z"
    }
   },
   "id": "initial_id",
   "execution_count": 1
  },
  {
   "cell_type": "markdown",
   "source": [
    "## Get all the connecting information"
   ],
   "metadata": {
    "collapsed": false
   },
   "id": "b6052679bab2c114"
  },
  {
   "cell_type": "code",
   "outputs": [],
   "source": [
    "MYSQL_USER = 'root'\n",
    "MYSQL_PW = os.getenv('my_sql_pw')\n",
    "MYSQL_HOST = 'localhost'\n",
    "MYSQL_DB = 'album_information'\n",
    "\n",
    "def connect_to_db():\n",
    "    cnx = None\n",
    "    try:\n",
    "        cnx = mysql.connector.connect(user=MYSQL_USER, password=MYSQL_PW, host=MYSQL_HOST, database=MYSQL_DB)\n",
    "        return cnx\n",
    "    except mysql.connector.Error as db_error:\n",
    "        if db_error.errno == errorcode.ER_ACCESS_DENIED_ERROR:\n",
    "            print(\"Something is wrong with your user name or password\")\n",
    "        elif db_error.errno == errorcode.ER_BAD_DB_ERROR:\n",
    "            print(\"Database does not exist\")\n",
    "        else:\n",
    "            print(db_error)\n",
    "        raise db_error"
   ],
   "metadata": {
    "collapsed": false,
    "ExecuteTime": {
     "end_time": "2024-03-02T19:50:14.044568Z",
     "start_time": "2024-03-02T19:50:14.034299Z"
    }
   },
   "id": "786b399a06a807c3",
   "execution_count": 2
  },
  {
   "cell_type": "markdown",
   "source": [
    "## Read all the album information from the database view album_information into a dataframe"
   ],
   "metadata": {
    "collapsed": false
   },
   "id": "4b148027cd49e010"
  },
  {
   "cell_type": "code",
   "outputs": [
    {
     "data": {
      "text/plain": "                                                         genre_name  \\\nalbum_name                album_release_date artist_name              \nThe Dark Side of the Moon 1973-03-01         Pink Floyd        Rock   \n\n                                                                record_label_name  \nalbum_name                album_release_date artist_name                           \nThe Dark Side of the Moon 1973-03-01         Pink Floyd   Harvest Capitol Records  ",
      "text/html": "<div>\n<style scoped>\n    .dataframe tbody tr th:only-of-type {\n        vertical-align: middle;\n    }\n\n    .dataframe tbody tr th {\n        vertical-align: top;\n    }\n\n    .dataframe thead th {\n        text-align: right;\n    }\n</style>\n<table border=\"1\" class=\"dataframe\">\n  <thead>\n    <tr style=\"text-align: right;\">\n      <th></th>\n      <th></th>\n      <th></th>\n      <th>genre_name</th>\n      <th>record_label_name</th>\n    </tr>\n    <tr>\n      <th>album_name</th>\n      <th>album_release_date</th>\n      <th>artist_name</th>\n      <th></th>\n      <th></th>\n    </tr>\n  </thead>\n  <tbody>\n    <tr>\n      <th>The Dark Side of the Moon</th>\n      <th>1973-03-01</th>\n      <th>Pink Floyd</th>\n      <td>Rock</td>\n      <td>Harvest Capitol Records</td>\n    </tr>\n  </tbody>\n</table>\n</div>"
     },
     "metadata": {},
     "output_type": "display_data"
    }
   ],
   "source": [
    "try:\n",
    "    cnx = connect_to_db()\n",
    "    cursor = cnx.cursor()\n",
    "    query = 'select * from album_information'\n",
    "    cursor.execute(query)\n",
    "    albums_table = cursor.fetchall()\n",
    "    albums_df = pd.DataFrame(albums_table, columns=cursor.column_names)\n",
    "    albums_df = albums_df.set_index(['album_name', 'album_release_date', 'artist_name'])\n",
    "    display(albums_df)\n",
    "    cnx.close()\n",
    "except mysql.connector.Error as err:\n",
    "    if err.errno == errorcode.ER_ACCESS_DENIED_ERROR:\n",
    "        print(\"Something is wrong with your user name or password\")\n",
    "    elif err.errno == errorcode.ER_BAD_DB_ERROR:\n",
    "        print(\"Database does not exist\")\n",
    "    else:\n",
    "        print(err)"
   ],
   "metadata": {
    "collapsed": false,
    "ExecuteTime": {
     "end_time": "2024-03-02T19:55:26.250727Z",
     "start_time": "2024-03-02T19:55:26.210413Z"
    }
   },
   "id": "24ee7bd3302756aa",
   "execution_count": 11
  },
  {
   "cell_type": "markdown",
   "source": [
    "## Read all the album detail information from the database view album_information details into a dataframe"
   ],
   "metadata": {
    "collapsed": false
   },
   "id": "6432d3aadc96f1a0"
  },
  {
   "cell_type": "code",
   "outputs": [
    {
     "data": {
      "text/plain": "                                                                                              genre_name  \\\nalbum_name                album_release_date artist_name record_label_name       track_number              \nThe Dark Side of the Moon 1973-03-01         Pink Floyd  Harvest Capitol Records 1                  Rock   \n                                                                                 2                  Rock   \n                                                                                 3                  Rock   \n                                                                                 4                  Rock   \n                                                                                 5                  Rock   \n                                                                                 6                  Rock   \n                                                                                 7                  Rock   \n                                                                                 8                  Rock   \n                                                                                 9                  Rock   \n                                                                                 10                 Rock   \n\n                                                                                                             track_name  \nalbum_name                album_release_date artist_name record_label_name       track_number                            \nThe Dark Side of the Moon 1973-03-01         Pink Floyd  Harvest Capitol Records 1                          Speak to Me  \n                                                                                 2                 Breathe (In the Air)  \n                                                                                 3                           On the Run  \n                                                                                 4                                 Time  \n                                                                                 5             The Great Gig in the Sky  \n                                                                                 6                                Money  \n                                                                                 7                          Us and Them  \n                                                                                 8                  Any Colour You Like  \n                                                                                 9                         Brain Damage  \n                                                                                 10                             Eclipse  ",
      "text/html": "<div>\n<style scoped>\n    .dataframe tbody tr th:only-of-type {\n        vertical-align: middle;\n    }\n\n    .dataframe tbody tr th {\n        vertical-align: top;\n    }\n\n    .dataframe thead th {\n        text-align: right;\n    }\n</style>\n<table border=\"1\" class=\"dataframe\">\n  <thead>\n    <tr style=\"text-align: right;\">\n      <th></th>\n      <th></th>\n      <th></th>\n      <th></th>\n      <th></th>\n      <th>genre_name</th>\n      <th>track_name</th>\n    </tr>\n    <tr>\n      <th>album_name</th>\n      <th>album_release_date</th>\n      <th>artist_name</th>\n      <th>record_label_name</th>\n      <th>track_number</th>\n      <th></th>\n      <th></th>\n    </tr>\n  </thead>\n  <tbody>\n    <tr>\n      <th rowspan=\"10\" valign=\"top\">The Dark Side of the Moon</th>\n      <th rowspan=\"10\" valign=\"top\">1973-03-01</th>\n      <th rowspan=\"10\" valign=\"top\">Pink Floyd</th>\n      <th rowspan=\"10\" valign=\"top\">Harvest Capitol Records</th>\n      <th>1</th>\n      <td>Rock</td>\n      <td>Speak to Me</td>\n    </tr>\n    <tr>\n      <th>2</th>\n      <td>Rock</td>\n      <td>Breathe (In the Air)</td>\n    </tr>\n    <tr>\n      <th>3</th>\n      <td>Rock</td>\n      <td>On the Run</td>\n    </tr>\n    <tr>\n      <th>4</th>\n      <td>Rock</td>\n      <td>Time</td>\n    </tr>\n    <tr>\n      <th>5</th>\n      <td>Rock</td>\n      <td>The Great Gig in the Sky</td>\n    </tr>\n    <tr>\n      <th>6</th>\n      <td>Rock</td>\n      <td>Money</td>\n    </tr>\n    <tr>\n      <th>7</th>\n      <td>Rock</td>\n      <td>Us and Them</td>\n    </tr>\n    <tr>\n      <th>8</th>\n      <td>Rock</td>\n      <td>Any Colour You Like</td>\n    </tr>\n    <tr>\n      <th>9</th>\n      <td>Rock</td>\n      <td>Brain Damage</td>\n    </tr>\n    <tr>\n      <th>10</th>\n      <td>Rock</td>\n      <td>Eclipse</td>\n    </tr>\n  </tbody>\n</table>\n</div>"
     },
     "metadata": {},
     "output_type": "display_data"
    }
   ],
   "source": [
    "try:\n",
    "    cnx = connect_to_db()\n",
    "    cursor = cnx.cursor()\n",
    "    query = 'select * from album_information_details'\n",
    "    cursor.execute(query)\n",
    "    albums_table = cursor.fetchall()\n",
    "    albums_df = pd.DataFrame(albums_table, columns=cursor.column_names)\n",
    "    albums_df = albums_df.set_index(['album_name', 'album_release_date', 'artist_name', 'record_label_name', 'track_number'])\n",
    "    display(albums_df)\n",
    "    cnx.close()\n",
    "except mysql.connector.Error as err:\n",
    "    if err.errno == errorcode.ER_ACCESS_DENIED_ERROR:\n",
    "        print(\"Something is wrong with your user name or password\")\n",
    "    elif err.errno == errorcode.ER_BAD_DB_ERROR:\n",
    "        print(\"Database does not exist\")\n",
    "    else:\n",
    "        print(err)"
   ],
   "metadata": {
    "collapsed": false,
    "ExecuteTime": {
     "end_time": "2024-03-02T19:56:49.003229Z",
     "start_time": "2024-03-02T19:56:48.964392Z"
    }
   },
   "id": "49b4d27ff4a23086",
   "execution_count": 13
  }
 ],
 "metadata": {
  "kernelspec": {
   "display_name": "Python 3",
   "language": "python",
   "name": "python3"
  },
  "language_info": {
   "codemirror_mode": {
    "name": "ipython",
    "version": 2
   },
   "file_extension": ".py",
   "mimetype": "text/x-python",
   "name": "python",
   "nbconvert_exporter": "python",
   "pygments_lexer": "ipython2",
   "version": "2.7.6"
  }
 },
 "nbformat": 4,
 "nbformat_minor": 5
}
