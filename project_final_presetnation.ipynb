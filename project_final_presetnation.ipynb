{
 "cells": [
  {
   "cell_type": "markdown",
   "source": [
    "# Project Part 3: Final Presentation\n",
    "\n",
    "### CS-GY 6083 Principals of Database Systems - Spring 2024\n",
    "\n",
    "* **Author**: [Nicola Maiorana]\n",
    "* **Date**: [2024-04-14]\n",
    "* **Email**: [nam10102@nyu.edu]\n",
    "* **Class**: [CS-GY 6083]\n",
    "---\n",
    "\n",
    "## Overview of Presentation\n",
    "- Project Overview\n",
    "- IDE And Presentation Tools\n",
    "- Code\n",
    "    - ER Diagram\n",
    "    - Tables DDL (8 Tables)\n",
    "    - Views DDL (3 Views)\n",
    "    - Procedures DDL (2 Procedures)\n",
    "    - Functions DDL (2 Functions)\n",
    "    - Triggers DDL (2 Triggers)\n",
    "    - Business Objects (8 Classes)\n",
    "- Forms\n",
    "    - Table Inserts\n",
    "    - Table Deletes\n",
    "    - Selects\n",
    "- Reports\n",
    "    - Total Sales\n",
    "    - Total Units Sold\n",
    "---\n",
    "\n",
    "## Project Overview\n",
    "- MySQL Database\n",
    "- Python\n",
    "- 2-Tier Architecture\n",
    "- Record Album Information:\n",
    "    - Album Name, Recording Date, Artists, Record Label, Genre, Sales Information\n",
    "    - Supporting Tables:\n",
    "        - Artist, Genre, Record Label, Album, Track, Sales Tables\n",
    "- Business Objects:\n",
    "    - RecordArtist, RecordGenre, RecordLabel, RecordAlbum, RecordTrack, RecordSale, GroupMember, MembersToArtists\n",
    "    - CRUD Operations:\n",
    "        - Create, Read, Update, Delete\n",
    "    - Helper Operations:\n",
    "        - Read All, Read By Id, Read By Name, Add Member, Remove Member, ...\n",
    "\n",
    "- Forms Demonstration:\n",
    "    - Record Album Manager\n",
    "    - Record Tracks Manager\n",
    "\n",
    "---"
   ],
   "metadata": {
    "collapsed": false
   },
   "id": "951da5f18e32d8cf"
  },
  {
   "cell_type": "code",
   "outputs": [],
   "source": [
    "import tools.db_utils as dbu\n",
    "import tools.mermaid_diagrams as md"
   ],
   "metadata": {
    "collapsed": false,
    "ExecuteTime": {
     "end_time": "2024-04-20T15:43:05.437398Z",
     "start_time": "2024-04-20T15:43:05.422709Z"
    }
   },
   "id": "ffc8dc8e0896d0c1",
   "execution_count": 5
  },
  {
   "cell_type": "markdown",
   "source": [
    "### Import required modules\n",
    "\n",
    "- tools.db_utils: Contains the database connection and query functions\n",
    "- tools.mermaid_diagrams: Allows for the creation of Mermaid diagrams"
   ],
   "metadata": {
    "collapsed": false
   },
   "id": "495f7142cff2f921"
  },
  {
   "cell_type": "markdown",
   "source": [
    "## Code"
   ],
   "metadata": {
    "collapsed": false
   },
   "id": "77c1a0a004b37417"
  },
  {
   "cell_type": "markdown",
   "source": [
    "### ER Diagram\n",
    "- Normalization\n",
    "- Integrity Enforcement Used (Where/Why)\n",
    "- Isolation Level Used (Where/Why)"
   ],
   "metadata": {
    "collapsed": false
   },
   "id": "4ce118c0c5bcda92"
  },
  {
   "cell_type": "code",
   "outputs": [
    {
     "data": {
      "text/html": "<img src=\"https://mermaid.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\"/>",
      "text/plain": "<IPython.core.display.Image object>"
     },
     "metadata": {},
     "output_type": "display_data"
    }
   ],
   "source": [
    "md.mm(md.er_diargram)"
   ],
   "metadata": {
    "collapsed": false,
    "ExecuteTime": {
     "end_time": "2024-04-14T15:22:24.140309Z",
     "start_time": "2024-04-14T15:22:24.131194Z"
    }
   },
   "id": "143a08af7868dc59",
   "execution_count": 4
  },
  {
   "cell_type": "markdown",
   "source": [
    "---\n",
    "## Tables DDL\n",
    "- Record Artists\n",
    "- Group Members\n",
    "- Members To Artists\n",
    "- Record Genres\n",
    "- Record Labels\n",
    "- Record Albums\n",
    "- Record Tracks\n",
    "- Record Sales\n",
    "```sql\n",
    "CREATE TABLE RECORD_ARTISTS (\n",
    "    artist_id int NOT NULL AUTO_INCREMENT,\n",
    "    artist_name varchar(40),\n",
    "    PRIMARY KEY (artist_id)\n",
    ");\n",
    "\n",
    "CREATE TABLE GROUP_MEMBERS (\n",
    "    member_id int NOT NULL AUTO_INCREMENT,\n",
    "    member_name varchar(40),\n",
    "    member_country varchar(40),\n",
    "    member_birthdate date,\n",
    "    PRIMARY KEY (member_id)\n",
    ");\n",
    "\n",
    "CREATE TABLE MEMBERS_TO_ARTISTS (\n",
    "    members_to_artists_id int NOT NULL AUTO_INCREMENT,\n",
    "    member_id int,\n",
    "    artist_id int,\n",
    "    member_from_date date,\n",
    "    member_to_date date,\n",
    "    PRIMARY KEY (members_to_artists_id),\n",
    "    FOREIGN KEY (member_id) REFERENCES GROUP_MEMBERS(member_id),\n",
    "    FOREIGN KEY (artist_id) REFERENCES RECORD_ARTISTS(artist_id)\n",
    ");\n",
    "\n",
    "CREATE TABLE RECORD_GENRES (\n",
    "    genre_id int NOT NULL AUTO_INCREMENT,\n",
    "    genre_name varchar(40),\n",
    "    genre_description varchar(255),\n",
    "    PRIMARY KEY (genre_id),\n",
    "    UNIQUE (genre_name)\n",
    ");\n",
    "\n",
    "CREATE TABLE RECORD_LABELS (\n",
    "    record_label_id int NOT NULL AUTO_INCREMENT,\n",
    "    record_label_name varchar(50),\n",
    "    PRIMARY KEY (record_label_id),\n",
    "    UNIQUE (record_label_name)\n",
    ");\n",
    "\n",
    "CREATE TABLE RECORD_ALBUMS (\n",
    "    album_id int NOT NULL AUTO_INCREMENT,\n",
    "    album_name varchar(50),\n",
    "    release_date date,\n",
    "    artist_id int,\n",
    "    genre_id int,\n",
    "    record_label_id int,\n",
    "    PRIMARY KEY (album_id),\n",
    "    FOREIGN KEY (artist_id) REFERENCES RECORD_ARTISTS(artist_id),\n",
    "    FOREIGN KEY (genre_id) REFERENCES RECORD_GENRES(genre_id),\n",
    "    FOREIGN KEY (record_label_id) REFERENCES RECORD_LABELS(record_label_id),\n",
    "    UNIQUE (album_name, release_date)\n",
    ");\n",
    "\n",
    "CREATE TABLE RECORD_TRACKS (\n",
    "    track_id int NOT NULL AUTO_INCREMENT,\n",
    "    album_id int,\n",
    "    track_name varchar(40),\n",
    "    track_number int,\n",
    "    genre_id int,\n",
    "    PRIMARY KEY (track_id),\n",
    "    FOREIGN KEY (album_id) REFERENCES RECORD_ALBUMS(album_id),\n",
    "    FOREIGN KEY (genre_id) REFERENCES RECORD_GENRES(genre_id),\n",
    "    UNIQUE (album_id, track_number)\n",
    ");\n",
    "\n",
    "CREATE TABLE RECORD_SALES (\n",
    "    sale_id int NOT NULL AUTO_INCREMENT,\n",
    "    album_id int,\n",
    "    sale_date date,\n",
    "    sale_quantity int,\n",
    "    unit_sale_price decimal,\n",
    "    PRIMARY KEY (sale_id),\n",
    "    FOREIGN KEY (album_id) REFERENCES RECORD_ALBUMS(album_id)\n",
    ");\n",
    "```"
   ],
   "metadata": {
    "collapsed": false
   },
   "id": "8787087bc4a6ec93"
  },
  {
   "cell_type": "markdown",
   "source": [
    "### Database Utility Functions\n",
    "\n",
    "- Query DB and return a pandas DataFrame"
   ],
   "metadata": {
    "collapsed": false
   },
   "id": "85e88a6fa370910b"
  },
  {
   "cell_type": "code",
   "outputs": [
    {
     "data": {
      "text/plain": "                         album_name artist_name genre_name genre_description  \\\nalbum_id                                                                       \n1         The Dark Side of the Moon  Pink Floyd       Rock        Rock music   \n2                            Boston      Boston       Rock        Rock music   \n3                         Watermark        Enya    New Age     New Age music   \n\n                record_label_name  \nalbum_id                           \n1         Harvest Capitol Records  \n2                    Epic Records  \n3            Warner Bros. Records  ",
      "text/html": "<div>\n<style scoped>\n    .dataframe tbody tr th:only-of-type {\n        vertical-align: middle;\n    }\n\n    .dataframe tbody tr th {\n        vertical-align: top;\n    }\n\n    .dataframe thead th {\n        text-align: right;\n    }\n</style>\n<table border=\"1\" class=\"dataframe\">\n  <thead>\n    <tr style=\"text-align: right;\">\n      <th></th>\n      <th>album_name</th>\n      <th>artist_name</th>\n      <th>genre_name</th>\n      <th>genre_description</th>\n      <th>record_label_name</th>\n    </tr>\n    <tr>\n      <th>album_id</th>\n      <th></th>\n      <th></th>\n      <th></th>\n      <th></th>\n      <th></th>\n    </tr>\n  </thead>\n  <tbody>\n    <tr>\n      <th>1</th>\n      <td>The Dark Side of the Moon</td>\n      <td>Pink Floyd</td>\n      <td>Rock</td>\n      <td>Rock music</td>\n      <td>Harvest Capitol Records</td>\n    </tr>\n    <tr>\n      <th>2</th>\n      <td>Boston</td>\n      <td>Boston</td>\n      <td>Rock</td>\n      <td>Rock music</td>\n      <td>Epic Records</td>\n    </tr>\n    <tr>\n      <th>3</th>\n      <td>Watermark</td>\n      <td>Enya</td>\n      <td>New Age</td>\n      <td>New Age music</td>\n      <td>Warner Bros. Records</td>\n    </tr>\n  </tbody>\n</table>\n</div>"
     },
     "metadata": {},
     "output_type": "display_data"
    }
   ],
   "source": [
    "import tools.db_utils as dbu\n",
    "pandas_index_settings = ['album_id']\n",
    "display(dbu.query_to_df(('select '\n",
    "                            'rec.album_id, '\n",
    "                            'rec.album_name, '\n",
    "                            'ra.artist_name, '\n",
    "                            'rg.genre_name, '\n",
    "                            'rg.genre_description, '\n",
    "                            'rl.record_label_name '\n",
    "                            'from record_albums rec '\n",
    "                            'JOIN record_artists ra ON ra.artist_id = rec.artist_id '\n",
    "                            'JOIN record_genres rg ON rg.genre_id = rec.genre_id '\n",
    "                            'JOIN record_labels rl ON rl.record_label_id = rec.record_label_id'), pandas_index_settings))"
   ],
   "metadata": {
    "collapsed": false,
    "ExecuteTime": {
     "end_time": "2024-04-24T00:22:23.712429Z",
     "start_time": "2024-04-24T00:22:23.672602Z"
    }
   },
   "id": "235f67810f64c2bd",
   "execution_count": 7
  },
  {
   "cell_type": "markdown",
   "source": [
    "___\n",
    "### Views DDL\n",
    "- Album Information\n",
    "- Album Information Details\n",
    "- Band Members"
   ],
   "metadata": {
    "collapsed": false
   },
   "id": "33e9c58f3eb52dcd"
  },
  {
   "cell_type": "markdown",
   "source": [
    "#### Album Information View\n",
    "```sql\n",
    "CREATE VIEW album_information AS\n",
    "    SELECT\n",
    "        RECORD_ALBUMS.album_name,\n",
    "        RECORD_ARTISTS.artist_name,\n",
    "        RECORD_GENRES.genre_name,\n",
    "        RECORD_LABELS.record_label_name,\n",
    "        RECORD_ALBUMS.release_date\n",
    "    FROM\n",
    "        RECORD_ALBUMS\n",
    "    JOIN RECORD_ARTISTS ON RECORD_ALBUMS.artist_id = RECORD_ARTISTS.artist_id\n",
    "    JOIN RECORD_LABELS ON RECORD_ALBUMS.record_label_id = RECORD_LABELS.record_label_id\n",
    "    JOIN RECORD_GENRES ON RECORD_ALBUMS.genre_id = RECORD_GENRES.genre_id;\n",
    "```"
   ],
   "metadata": {
    "collapsed": false
   },
   "id": "42e2bdd3a165f825"
  },
  {
   "cell_type": "code",
   "outputs": [
    {
     "data": {
      "text/plain": "                          artist_name genre_name        record_label_name  \\\nalbum_name                                                                  \nThe Dark Side of the Moon  Pink Floyd       Rock  Harvest Capitol Records   \nBoston                         Boston       Rock             Epic Records   \nWatermark                        Enya    New Age     Warner Bros. Records   \n\n                          release_date  \nalbum_name                              \nThe Dark Side of the Moon   1973-03-01  \nBoston                      1976-08-25  \nWatermark                   1988-09-19  ",
      "text/html": "<div>\n<style scoped>\n    .dataframe tbody tr th:only-of-type {\n        vertical-align: middle;\n    }\n\n    .dataframe tbody tr th {\n        vertical-align: top;\n    }\n\n    .dataframe thead th {\n        text-align: right;\n    }\n</style>\n<table border=\"1\" class=\"dataframe\">\n  <thead>\n    <tr style=\"text-align: right;\">\n      <th></th>\n      <th>artist_name</th>\n      <th>genre_name</th>\n      <th>record_label_name</th>\n      <th>release_date</th>\n    </tr>\n    <tr>\n      <th>album_name</th>\n      <th></th>\n      <th></th>\n      <th></th>\n      <th></th>\n    </tr>\n  </thead>\n  <tbody>\n    <tr>\n      <th>The Dark Side of the Moon</th>\n      <td>Pink Floyd</td>\n      <td>Rock</td>\n      <td>Harvest Capitol Records</td>\n      <td>1973-03-01</td>\n    </tr>\n    <tr>\n      <th>Boston</th>\n      <td>Boston</td>\n      <td>Rock</td>\n      <td>Epic Records</td>\n      <td>1976-08-25</td>\n    </tr>\n    <tr>\n      <th>Watermark</th>\n      <td>Enya</td>\n      <td>New Age</td>\n      <td>Warner Bros. Records</td>\n      <td>1988-09-19</td>\n    </tr>\n  </tbody>\n</table>\n</div>"
     },
     "metadata": {},
     "output_type": "display_data"
    }
   ],
   "source": [
    "import tools.db_utils as dbu\n",
    "pandas_index_settings = ['album_name']\n",
    "display(dbu.query_to_df('select * from album_information order by release_date', pandas_index_settings))"
   ],
   "metadata": {
    "collapsed": false,
    "ExecuteTime": {
     "end_time": "2024-04-20T15:45:21.627300Z",
     "start_time": "2024-04-20T15:45:21.585273Z"
    }
   },
   "id": "65f47a06753e3895",
   "execution_count": 7
  },
  {
   "cell_type": "markdown",
   "source": [
    "#### Album Information Details View\n",
    "```sql\n",
    "CREATE VIEW album_information_details AS\n",
    "    SELECT\n",
    "        RECORD_ALBUMS.album_name,\n",
    "        RECORD_ARTISTS.artist_name,\n",
    "        record_genres.genre_name,\n",
    "        RECORD_LABELS.record_label_name,\n",
    "        RECORD_TRACKS.track_number,\n",
    "        RECORD_TRACKS.track_name,\n",
    "        RECORD_ALBUMS.release_date\n",
    "    FROM\n",
    "        RECORD_ALBUMS\n",
    "    JOIN RECORD_ARTISTS ON RECORD_ALBUMS.artist_id = RECORD_ARTISTS.artist_id\n",
    "    JOIN RECORD_LABELS ON RECORD_ALBUMS.record_label_id = RECORD_LABELS.record_label_id\n",
    "    JOIN RECORD_TRACKS ON RECORD_ALBUMS.album_id = RECORD_TRACKS.album_id\n",
    "    JOIN RECORD_GENRES ON RECORD_TRACKS.genre_id = RECORD_GENRES.genre_id\n",
    "ORDER BY\n",
    "    RECORD_ALBUMS.album_name, RECORD_TRACKS.track_number;\n",
    "```"
   ],
   "metadata": {
    "collapsed": false
   },
   "id": "1db5def01defea6d"
  },
  {
   "cell_type": "code",
   "outputs": [
    {
     "data": {
      "text/plain": "                                                                                        genre_name  \\\nalbum_name                release_date artist_name record_label_name       track_number              \nThe Dark Side of the Moon 1973-03-01   Pink Floyd  Harvest Capitol Records 1                  Rock   \n                                                                           2                  Rock   \n                                                                           3                  Rock   \n                                                                           4                  Rock   \n                                                                           5                  Rock   \n                                                                           6                  Rock   \n                                                                           7                  Rock   \n                                                                           8                  Rock   \n                                                                           9                  Rock   \n                                                                           10                 Rock   \nBoston                    1976-08-25   Boston      Epic Records            1                  Rock   \n                                                                           2                  Rock   \n                                                                           3                  Rock   \n                                                                           4                  Rock   \n                                                                           5                  Rock   \n                                                                           6                  Rock   \n                                                                           7                  Rock   \n                                                                           8                  Rock   \nWatermark                 1988-09-19   Enya        Warner Bros. Records    1               New Age   \n                                                                           2               New Age   \n                                                                           3               New Age   \n                                                                           4               New Age   \n                                                                           5               New Age   \n                                                                           6               New Age   \n                                                                           7               New Age   \n                                                                           8               New Age   \n                                                                           9               New Age   \n                                                                           10              New Age   \n                                                                           11              New Age   \n\n                                                                                                           track_name  \nalbum_name                release_date artist_name record_label_name       track_number                                \nThe Dark Side of the Moon 1973-03-01   Pink Floyd  Harvest Capitol Records 1                              Speak to Me  \n                                                                           2                     Breathe (In the Air)  \n                                                                           3                               On the Run  \n                                                                           4                                     Time  \n                                                                           5                 The Great Gig in the Sky  \n                                                                           6                                    Money  \n                                                                           7                              Us and Them  \n                                                                           8                      Any Colour You Like  \n                                                                           9                             Brain Damage  \n                                                                           10                                 Eclipse  \nBoston                    1976-08-25   Boston      Epic Records            1                      More Than a Feeling  \n                                                                           2                            Peace of Mind  \n                                                                           3                       Foreplay/Long Time  \n                                                                           4                         Rock & Roll Band  \n                                                                           5                                   Smokin  \n                                                                           6                             Hitch a Ride  \n                                                                           7                      Something About You  \n                                                                           8             Let Me Take You Home Tonight  \nWatermark                 1988-09-19   Enya        Warner Bros. Records    1                                Watermark  \n                                                                           2                          Cursum Perficio  \n                                                                           3                            On Your Shore  \n                                                                           4                         Storms in Africa  \n                                                                           5                                    Exile  \n                                                                           6                     Miss Clare Remembers  \n                                                                           7                             Orinoco Flow  \n                                                                           8                            Evening Falls  \n                                                                           9                                    River  \n                                                                           10                           The Longships  \n                                                                           11                    Na Laetha Geal M'ige  ",
      "text/html": "<div>\n<style scoped>\n    .dataframe tbody tr th:only-of-type {\n        vertical-align: middle;\n    }\n\n    .dataframe tbody tr th {\n        vertical-align: top;\n    }\n\n    .dataframe thead th {\n        text-align: right;\n    }\n</style>\n<table border=\"1\" class=\"dataframe\">\n  <thead>\n    <tr style=\"text-align: right;\">\n      <th></th>\n      <th></th>\n      <th></th>\n      <th></th>\n      <th></th>\n      <th>genre_name</th>\n      <th>track_name</th>\n    </tr>\n    <tr>\n      <th>album_name</th>\n      <th>release_date</th>\n      <th>artist_name</th>\n      <th>record_label_name</th>\n      <th>track_number</th>\n      <th></th>\n      <th></th>\n    </tr>\n  </thead>\n  <tbody>\n    <tr>\n      <th rowspan=\"10\" valign=\"top\">The Dark Side of the Moon</th>\n      <th rowspan=\"10\" valign=\"top\">1973-03-01</th>\n      <th rowspan=\"10\" valign=\"top\">Pink Floyd</th>\n      <th rowspan=\"10\" valign=\"top\">Harvest Capitol Records</th>\n      <th>1</th>\n      <td>Rock</td>\n      <td>Speak to Me</td>\n    </tr>\n    <tr>\n      <th>2</th>\n      <td>Rock</td>\n      <td>Breathe (In the Air)</td>\n    </tr>\n    <tr>\n      <th>3</th>\n      <td>Rock</td>\n      <td>On the Run</td>\n    </tr>\n    <tr>\n      <th>4</th>\n      <td>Rock</td>\n      <td>Time</td>\n    </tr>\n    <tr>\n      <th>5</th>\n      <td>Rock</td>\n      <td>The Great Gig in the Sky</td>\n    </tr>\n    <tr>\n      <th>6</th>\n      <td>Rock</td>\n      <td>Money</td>\n    </tr>\n    <tr>\n      <th>7</th>\n      <td>Rock</td>\n      <td>Us and Them</td>\n    </tr>\n    <tr>\n      <th>8</th>\n      <td>Rock</td>\n      <td>Any Colour You Like</td>\n    </tr>\n    <tr>\n      <th>9</th>\n      <td>Rock</td>\n      <td>Brain Damage</td>\n    </tr>\n    <tr>\n      <th>10</th>\n      <td>Rock</td>\n      <td>Eclipse</td>\n    </tr>\n    <tr>\n      <th rowspan=\"8\" valign=\"top\">Boston</th>\n      <th rowspan=\"8\" valign=\"top\">1976-08-25</th>\n      <th rowspan=\"8\" valign=\"top\">Boston</th>\n      <th rowspan=\"8\" valign=\"top\">Epic Records</th>\n      <th>1</th>\n      <td>Rock</td>\n      <td>More Than a Feeling</td>\n    </tr>\n    <tr>\n      <th>2</th>\n      <td>Rock</td>\n      <td>Peace of Mind</td>\n    </tr>\n    <tr>\n      <th>3</th>\n      <td>Rock</td>\n      <td>Foreplay/Long Time</td>\n    </tr>\n    <tr>\n      <th>4</th>\n      <td>Rock</td>\n      <td>Rock &amp; Roll Band</td>\n    </tr>\n    <tr>\n      <th>5</th>\n      <td>Rock</td>\n      <td>Smokin</td>\n    </tr>\n    <tr>\n      <th>6</th>\n      <td>Rock</td>\n      <td>Hitch a Ride</td>\n    </tr>\n    <tr>\n      <th>7</th>\n      <td>Rock</td>\n      <td>Something About You</td>\n    </tr>\n    <tr>\n      <th>8</th>\n      <td>Rock</td>\n      <td>Let Me Take You Home Tonight</td>\n    </tr>\n    <tr>\n      <th rowspan=\"11\" valign=\"top\">Watermark</th>\n      <th rowspan=\"11\" valign=\"top\">1988-09-19</th>\n      <th rowspan=\"11\" valign=\"top\">Enya</th>\n      <th rowspan=\"11\" valign=\"top\">Warner Bros. Records</th>\n      <th>1</th>\n      <td>New Age</td>\n      <td>Watermark</td>\n    </tr>\n    <tr>\n      <th>2</th>\n      <td>New Age</td>\n      <td>Cursum Perficio</td>\n    </tr>\n    <tr>\n      <th>3</th>\n      <td>New Age</td>\n      <td>On Your Shore</td>\n    </tr>\n    <tr>\n      <th>4</th>\n      <td>New Age</td>\n      <td>Storms in Africa</td>\n    </tr>\n    <tr>\n      <th>5</th>\n      <td>New Age</td>\n      <td>Exile</td>\n    </tr>\n    <tr>\n      <th>6</th>\n      <td>New Age</td>\n      <td>Miss Clare Remembers</td>\n    </tr>\n    <tr>\n      <th>7</th>\n      <td>New Age</td>\n      <td>Orinoco Flow</td>\n    </tr>\n    <tr>\n      <th>8</th>\n      <td>New Age</td>\n      <td>Evening Falls</td>\n    </tr>\n    <tr>\n      <th>9</th>\n      <td>New Age</td>\n      <td>River</td>\n    </tr>\n    <tr>\n      <th>10</th>\n      <td>New Age</td>\n      <td>The Longships</td>\n    </tr>\n    <tr>\n      <th>11</th>\n      <td>New Age</td>\n      <td>Na Laetha Geal M'ige</td>\n    </tr>\n  </tbody>\n</table>\n</div>"
     },
     "metadata": {},
     "output_type": "display_data"
    }
   ],
   "source": [
    "import tools.db_utils as dbu\n",
    "pandas_index_settings = ['album_name', 'release_date', 'artist_name', 'record_label_name', 'track_number']\n",
    "display(dbu.query_to_df('select * from album_information_details order by release_date', pandas_index_settings))"
   ],
   "metadata": {
    "collapsed": false,
    "ExecuteTime": {
     "end_time": "2024-04-20T15:46:50.551707Z",
     "start_time": "2024-04-20T15:46:50.485275Z"
    }
   },
   "id": "41aa6f2562d2b194",
   "execution_count": 8
  },
  {
   "cell_type": "markdown",
   "source": [
    "#### Band Members View\n",
    "```sql\n",
    "CREATE VIEW band_members AS\n",
    "    SELECT\n",
    "        RECORD_ARTISTS.artist_name,\n",
    "        GROUP_MEMBERS.member_name,\n",
    "        GROUP_MEMBERS.member_country,\n",
    "        MEMBERS_TO_ARTISTS.member_from_date,\n",
    "        MEMBERS_TO_ARTISTS.member_to_date\n",
    "    FROM\n",
    "        RECORD_ARTISTS\n",
    "    JOIN MEMBERS_TO_ARTISTS ON RECORD_ARTISTS.artist_id = MEMBERS_TO_ARTISTS.artist_id\n",
    "    JOIN GROUP_MEMBERS ON MEMBERS_TO_ARTISTS.member_id = GROUP_MEMBERS.member_id;\n",
    "```"
   ],
   "metadata": {
    "collapsed": false
   },
   "id": "dc359e7ae7a11be8"
  },
  {
   "cell_type": "code",
   "outputs": [
    {
     "data": {
      "text/plain": "                           member_country member_from_date member_to_date\nartist_name member_name                                                  \nBoston      Barry Goudreau            USA       1975-01-01     1981-01-01\n            Brad Delp                 USA       1975-01-01     2007-01-01\n            Fran Sheehan              USA       1975-01-01     1986-01-01\n            Sib Hashian               USA       1975-01-01     1986-01-01\n            Tom Scholz                USA       1975-01-01     1989-01-01\nEnya        Enya                  Ireland       1982-01-01     2020-01-01\nPink Floyd  David Gilmour         England       1968-01-01     1995-01-01\n            Nick Mason            England       1965-01-01     1995-01-01\n            Richard Wright        England       1965-01-01     1980-01-01\n            Roger Waters          England       1965-01-01     1985-01-01\n            Syd Barrett           England       1965-01-01     1968-01-01",
      "text/html": "<div>\n<style scoped>\n    .dataframe tbody tr th:only-of-type {\n        vertical-align: middle;\n    }\n\n    .dataframe tbody tr th {\n        vertical-align: top;\n    }\n\n    .dataframe thead th {\n        text-align: right;\n    }\n</style>\n<table border=\"1\" class=\"dataframe\">\n  <thead>\n    <tr style=\"text-align: right;\">\n      <th></th>\n      <th></th>\n      <th>member_country</th>\n      <th>member_from_date</th>\n      <th>member_to_date</th>\n    </tr>\n    <tr>\n      <th>artist_name</th>\n      <th>member_name</th>\n      <th></th>\n      <th></th>\n      <th></th>\n    </tr>\n  </thead>\n  <tbody>\n    <tr>\n      <th rowspan=\"5\" valign=\"top\">Boston</th>\n      <th>Barry Goudreau</th>\n      <td>USA</td>\n      <td>1975-01-01</td>\n      <td>1981-01-01</td>\n    </tr>\n    <tr>\n      <th>Brad Delp</th>\n      <td>USA</td>\n      <td>1975-01-01</td>\n      <td>2007-01-01</td>\n    </tr>\n    <tr>\n      <th>Fran Sheehan</th>\n      <td>USA</td>\n      <td>1975-01-01</td>\n      <td>1986-01-01</td>\n    </tr>\n    <tr>\n      <th>Sib Hashian</th>\n      <td>USA</td>\n      <td>1975-01-01</td>\n      <td>1986-01-01</td>\n    </tr>\n    <tr>\n      <th>Tom Scholz</th>\n      <td>USA</td>\n      <td>1975-01-01</td>\n      <td>1989-01-01</td>\n    </tr>\n    <tr>\n      <th>Enya</th>\n      <th>Enya</th>\n      <td>Ireland</td>\n      <td>1982-01-01</td>\n      <td>2020-01-01</td>\n    </tr>\n    <tr>\n      <th rowspan=\"5\" valign=\"top\">Pink Floyd</th>\n      <th>David Gilmour</th>\n      <td>England</td>\n      <td>1968-01-01</td>\n      <td>1995-01-01</td>\n    </tr>\n    <tr>\n      <th>Nick Mason</th>\n      <td>England</td>\n      <td>1965-01-01</td>\n      <td>1995-01-01</td>\n    </tr>\n    <tr>\n      <th>Richard Wright</th>\n      <td>England</td>\n      <td>1965-01-01</td>\n      <td>1980-01-01</td>\n    </tr>\n    <tr>\n      <th>Roger Waters</th>\n      <td>England</td>\n      <td>1965-01-01</td>\n      <td>1985-01-01</td>\n    </tr>\n    <tr>\n      <th>Syd Barrett</th>\n      <td>England</td>\n      <td>1965-01-01</td>\n      <td>1968-01-01</td>\n    </tr>\n  </tbody>\n</table>\n</div>"
     },
     "metadata": {},
     "output_type": "display_data"
    }
   ],
   "source": [
    "import tools.db_utils as dbu\n",
    "pandas_index_settings = ['artist_name', 'member_name']\n",
    "display(dbu.query_to_df('select * from band_members order by artist_name, member_name', pandas_index_settings))"
   ],
   "metadata": {
    "collapsed": false,
    "ExecuteTime": {
     "end_time": "2024-04-14T15:29:25.440777Z",
     "start_time": "2024-04-14T15:29:25.391458Z"
    }
   },
   "id": "cc720d770229fcb5",
   "execution_count": 5
  },
  {
   "cell_type": "markdown",
   "source": [
    "___\n",
    "### Procedures DDL\n",
    "- Count Record Sales\n",
    "- Total Record Sales"
   ],
   "metadata": {
    "collapsed": false
   },
   "id": "86cfe06440130437"
  },
  {
   "cell_type": "markdown",
   "source": [
    "\n",
    "### Procedure to count the number of sales for a given album\n",
    "```\n",
    "DELIMITER //\n",
    "CREATE PROCEDURE count_record_sales(IN album_id INT, OUT sales_count INT)\n",
    "BEGIN\n",
    "\tSET @album_id = album_id;\n",
    "    SELECT \n",
    "        COUNT(sale_id) INTO sales_count\n",
    "    FROM RECORD_SALES\n",
    "    WHERE RECORD_SALES.album_id = @album_id;\n",
    "\n",
    "END //\n",
    "DELIMITER ;\n",
    "```\n"
   ],
   "metadata": {
    "collapsed": false
   },
   "id": "d84e8dfdb4e22f29"
  },
  {
   "cell_type": "code",
   "outputs": [
    {
     "name": "stdout",
     "output_type": "stream",
     "text": [
      "Number of sales for album Boston using select statement    : 12\n",
      "Number of sales for album Boston using the stored procedure: 12\n"
     ]
    }
   ],
   "source": [
    "import tools.db_utils as dbu\n",
    "from business_objects.record_album_sql import RecordAlbum\n",
    "from business_objects.record_sales_sql import RecordSales\n",
    "with dbu.get_connector() as conn:\n",
    "    with conn.cursor() as cur:\n",
    "        record_album = RecordAlbum.read_by_name(\"Boston\")\n",
    "        all_sales = RecordSales.read_by_album_id(record_album.album_id)\n",
    "        print(f'Number of sales for album {record_album.album_name} using select statement    : {len(all_sales)}')\n",
    "        result = cur.callproc('count_record_sales', [record_album.album_id, 0])[1]\n",
    "        print(f'Number of sales for album {record_album.album_name} using the stored procedure: {result}')"
   ],
   "metadata": {
    "collapsed": false,
    "ExecuteTime": {
     "end_time": "2024-04-20T15:54:14.312245Z",
     "start_time": "2024-04-20T15:54:14.265701Z"
    }
   },
   "id": "96a6b1381a3a4562",
   "execution_count": 14
  },
  {
   "cell_type": "markdown",
   "source": [
    "### Procedure to get the total sales for all albums\n",
    "```sql\n",
    "DELIMITER //\n",
    "CREATE PROCEDURE total_record_sales(IN album_id INT, OUT total_sales NUMERIC)\n",
    "BEGIN\n",
    "\tSET @album_id = album_id;\n",
    "    SELECT \n",
    "        sum(sale_quantity * unit_sale_price) INTO total_sales\n",
    "    FROM RECORD_SALES\n",
    "    WHERE RECORD_SALES.album_id = @album_id;\n",
    "\n",
    "END //\n",
    "DELIMITER ;\n",
    "```"
   ],
   "metadata": {
    "collapsed": false
   },
   "id": "ecf1d28b7a2dafe2"
  },
  {
   "cell_type": "code",
   "outputs": [
    {
     "name": "stdout",
     "output_type": "stream",
     "text": [
      "Total sales for album Boston using select statement    : 120000000.0\n",
      "Total sales for album Boston using the stored procedure: 120000000.0\n"
     ]
    }
   ],
   "source": [
    "import tools.db_utils as dbu\n",
    "from business_objects.record_album_sql import RecordAlbum\n",
    "with dbu.get_connector() as conn:\n",
    "    with conn.cursor() as cur:\n",
    "        record_album = RecordAlbum.read_by_name(\"Boston\")\n",
    "        total_sales_query = dbu.query_to_df(f\"select sum(sale_quantity * unit_sale_price) as total_sales from record_sales where album_id = {record_album.album_id}\")[\"total_sales\"][0]\n",
    "        print(f'Total sales for album {record_album.album_name} using select statement    : {total_sales_query}')\n",
    "        result = float(cur.callproc('total_record_sales', (record_album.album_id, 0))[1])\n",
    "        print(f'Total sales for album {record_album.album_name} using the stored procedure: {result}')"
   ],
   "metadata": {
    "collapsed": false,
    "ExecuteTime": {
     "end_time": "2024-04-20T16:00:24.280340Z",
     "start_time": "2024-04-20T16:00:24.229016Z"
    }
   },
   "id": "f7716bbd0e8040f4",
   "execution_count": 18
  },
  {
   "cell_type": "markdown",
   "source": [
    "___\n",
    "### Function DLL\n",
    "- Album Summary Function to return a summary for an album to include the artist, producer, release date and tracks\n",
    "```sql\n",
    "DELIMITER //\n",
    "CREATE FUNCTION album_summary (album_id int) RETURNS varchar(600)\n",
    "\tREADS SQL DATA\n",
    "BEGIN\n",
    "\tDECLARE done int default false;\n",
    "    DECLARE track_summary varchar(400);\n",
    "\tDECLARE album_summary varchar(200);\n",
    "    DECLARE response_summary varchar(600);\n",
    "\tDECLARE result_cursor CURSOR FOR\n",
    "\t\tSELECT\n",
    "\t\t\tconcat(\" \", t.track_number, \"-\", t.track_name) AS track_summary\n",
    "\t\t\tFROM record_tracks t\n",
    "\t\t\tWHERE t.album_id = album_id\n",
    "\t\t\tORDER BY t.track_number;\n",
    "\tDECLARE CONTINUE HANDLER FOR not found SET done = true;\n",
    "\tSET album_summary = \"\";\n",
    "    SET response_summary = \"\";\n",
    "\tOPEN result_cursor;\n",
    "\tread_loop: LOOP\n",
    "\t\tFETCH result_cursor INTO track_summary;\n",
    "        IF done THEN\n",
    "\t\t\tLEAVE read_loop;\n",
    "\t\tEND IF;\n",
    "        SET response_summary = CONCAT(response_summary, track_summary, \"\\n \");\n",
    "    END LOOP;\n",
    "    CLOSE result_cursor;\n",
    "\tSELECT\n",
    "\t\tconcat(\n",
    "\t\t\tr.album_name, \"\\n \",\n",
    "\t\t\t\"Perfomed by: \", a.artist_name, \"\\n \",\n",
    "            \"Produced by: \", l.record_label_name, \"\\n \",\n",
    "\t\t\t\"Released   : \", r.release_date, \"\\n \"\n",
    "            ) INTO album_summary\n",
    "\t\tFROM record_albums r, record_artists a, record_labels l\n",
    "\t\tWHERE r.album_id = album_id and a.artist_id = r.artist_id and l.record_label_id = r.record_label_id;\n",
    "\tSET response_summary = CONCAT(album_summary, response_summary);\n",
    "    RETURN response_summary;\n",
    "END //\n",
    "DELIMITER ;\n",
    "```"
   ],
   "metadata": {
    "collapsed": false
   },
   "id": "8b3c441b9d028ed1"
  },
  {
   "cell_type": "code",
   "outputs": [
    {
     "name": "stdout",
     "output_type": "stream",
     "text": [
      "Album summary:\n",
      " Boston\n",
      " Perfomed by: Boston\n",
      " Produced by: Epic Records\n",
      " Released   : 1976-08-25\n",
      "  1-More Than a Feeling\n",
      "  2-Peace of Mind\n",
      "  3-Foreplay/Long Time\n",
      "  4-Rock & Roll Band\n",
      "  5-Smokin\n",
      "  6-Hitch a Ride\n",
      "  7-Something About You\n",
      "  8-Let Me Take You Home Tonight\n",
      " \n"
     ]
    }
   ],
   "source": [
    "import tools.db_utils as dbu\n",
    "from business_objects.record_album_sql import RecordAlbum\n",
    "with dbu.get_connector() as conn:\n",
    "    with conn.cursor() as cur:\n",
    "        record_album = RecordAlbum.read_by_name(\"Boston\")\n",
    "        cur.execute(f'select album_summary(%s)', (record_album.album_id,))\n",
    "        result = cur.fetchone()[0]\n",
    "        print(f'Album summary:\\n {result}')"
   ],
   "metadata": {
    "collapsed": false,
    "ExecuteTime": {
     "end_time": "2024-04-20T16:01:36.726265Z",
     "start_time": "2024-04-20T16:01:36.689889Z"
    }
   },
   "id": "26900b6900406456",
   "execution_count": 19
  },
  {
   "cell_type": "markdown",
   "source": [
    "### Function to show all the members of a band over time\n",
    "\n",
    "```sql\n",
    "# Function to summarize an band members for an artist\n",
    "DROP FUNCTION IF EXISTS band_summary;\n",
    "DELIMITER //\n",
    "CREATE FUNCTION band_summary (artist_id int) RETURNS varchar(600)\n",
    "\tREADS SQL DATA\n",
    "BEGIN\n",
    "\tDECLARE done int default false;\n",
    "    DECLARE member_summary varchar(400);\n",
    "\tDECLARE band_summary varchar(200);\n",
    "    DECLARE response_summary varchar(600);\n",
    "\tDECLARE result_cursor CURSOR FOR\n",
    "\t\tSELECT\n",
    "\t\t\tconcat(\" \", group_members.member_name,\n",
    "\t\t\t\t   \" (\", group_members.member_country, \")\", \n",
    "\t\t\t\t   \" from: \",  members_to_artists.member_from_date, \n",
    "\t\t\t\t   \" till: \", members_to_artists.member_to_date) AS member_summary\n",
    "\t\t\tFROM\n",
    "\t\t\t\trecord_artists\n",
    "\t\t\tJOIN members_to_artists ON record_artists.artist_id = members_to_artists.artist_id\n",
    "\t\t\tJOIN group_members ON members_to_artists.member_id = group_members.member_id\n",
    "\t\t\tWHERE record_artists.artist_id = artist_id;\n",
    "\tDECLARE CONTINUE HANDLER FOR not found SET done = true;\n",
    "\tSET band_summary = \"\";\n",
    "    SET response_summary = \"\";\n",
    "\tOPEN result_cursor;\n",
    "\tread_loop: LOOP\n",
    "\t\tFETCH result_cursor INTO member_summary;\n",
    "        IF done THEN\n",
    "\t\t\tLEAVE read_loop;\n",
    "\t\tEND IF;\n",
    "        SET response_summary = CONCAT(response_summary, member_summary, \"\\n \");\n",
    "    END LOOP;\n",
    "    CLOSE result_cursor;\n",
    "\tSELECT\n",
    "\t\tconcat(a.artist_name, \" - Band Members: \\n \") INTO band_summary\n",
    "\t\tFROM record_artists a\n",
    "\t\tWHERE a.artist_id = artist_id;\n",
    "\tSET response_summary = CONCAT(band_summary, response_summary);\n",
    "    RETURN response_summary;\n",
    "END //\n",
    "DELIMITER ;\n",
    "```"
   ],
   "metadata": {
    "collapsed": false
   },
   "id": "9d22f0955198d950"
  },
  {
   "cell_type": "code",
   "outputs": [
    {
     "name": "stdout",
     "output_type": "stream",
     "text": [
      "Summary for Pink Floyd:\n",
      "Pink Floyd - Band Members: \n",
      "  Syd Barrett (England) from: 1965-01-01 till: 1968-01-01\n",
      "  Roger Waters (England) from: 1965-01-01 till: 1985-01-01\n",
      "  Richard Wright (England) from: 1965-01-01 till: 1980-01-01\n",
      "  Nick Mason (England) from: 1965-01-01 till: 1995-01-01\n",
      "  David Gilmour (England) from: 1968-01-01 till: 1995-01-01\n",
      " \n"
     ]
    }
   ],
   "source": [
    "import tools.db_utils as dbu\n",
    "from business_objects.record_artists_sql import RecordArtist\n",
    "with dbu.get_connector() as conn:\n",
    "    with conn.cursor() as cur:\n",
    "        artist_id = 1\n",
    "        record_artist = RecordArtist.read_by_name(\"Pink Floyd\")\n",
    "        cur.execute(f'select band_summary(%s)', (record_artist.artist_id,))\n",
    "        result = cur.fetchone()[0]\n",
    "        print(f'Summary for {record_artist.artist_name}:\\n{result}')"
   ],
   "metadata": {
    "collapsed": false,
    "ExecuteTime": {
     "end_time": "2024-04-20T16:05:15.272692Z",
     "start_time": "2024-04-20T16:05:15.239433Z"
    }
   },
   "id": "3c8816ac47027d91",
   "execution_count": 21
  },
  {
   "cell_type": "markdown",
   "source": [
    "___\n",
    "### Trigger DDL\n",
    "- Cleanup Artists\n",
    "- Cleanup Tracks"
   ],
   "metadata": {
    "collapsed": false
   },
   "id": "520bd17f1d649d0"
  },
  {
   "cell_type": "markdown",
   "source": [
    "### Trigger to cleanup members_to_artists and albums when an artist is deleted\n",
    "```sql\n",
    "DROP TRIGGER IF EXISTS cleanup_artists;\n",
    "\n",
    "DELIMITER //\n",
    "CREATE TRIGGER cleanup_artists BEFORE DELETE ON record_artists\n",
    "FOR EACH ROW\n",
    "BEGIN\n",
    "    DELETE FROM members_to_artists m WHERE m.artist_id = OLD.artist_id;\n",
    "    UPDATE record_albums r set artist_id = null WHERE r.artist_id = OLD.artist_id;\n",
    "END //\n",
    "DELIMITER ;\n",
    "```"
   ],
   "metadata": {
    "collapsed": false
   },
   "id": "ada3d31c5523231e"
  },
  {
   "cell_type": "code",
   "outputs": [
    {
     "name": "stdout",
     "output_type": "stream",
     "text": [
      "Number of members for artist Boston using business object    : 5\n",
      "Deleting artist Boston...\n",
      "Number of members for artist Boston using business object    : 0\n"
     ]
    }
   ],
   "source": [
    "import tools.db_utils as dbu\n",
    "from business_objects.record_artists_sql import RecordArtist\n",
    "from business_objects.members_to_artists_sql import MembersToArtists\n",
    "pandas_index_settings = ['artist_name', 'member_name']\n",
    "\n",
    "with dbu.get_connector() as conn:\n",
    "    with conn.cursor() as cur:\n",
    "        record_artist = RecordArtist.read_by_name(\"Boston\")\n",
    "        if record_artist is None:\n",
    "            print(f'Artist Boston not found. Init data...')\n",
    "            \n",
    "        else:\n",
    "            all_members = MembersToArtists.read_members(record_artist.artist_id)\n",
    "            print(f'Number of members for artist {record_artist.artist_name} using business object    : {len(all_members)}')\n",
    "            print(f'Deleting artist {record_artist.artist_name}...')\n",
    "            cur.execute('delete from record_artists where artist_name = \"Boston\"')\n",
    "            conn.commit()\n",
    "            all_members = MembersToArtists.read_members(record_artist.artist_id)\n",
    "            print(f'Number of members for artist {record_artist.artist_name} using business object    : {len(all_members)}')"
   ],
   "metadata": {
    "collapsed": false,
    "ExecuteTime": {
     "end_time": "2024-04-20T16:15:30.720701Z",
     "start_time": "2024-04-20T16:15:30.658004Z"
    }
   },
   "id": "c7bbdb194bd29f58",
   "execution_count": 28
  },
  {
   "cell_type": "markdown",
   "source": [
    "### Trigger to cleanup tracks and sales when an album is deleted\n",
    "```sql\n",
    "DROP TRIGGER IF EXISTS cleanup_tracks;\n",
    "\n",
    "DELIMITER //\n",
    "CREATE TRIGGER cleanup_tracks BEFORE DELETE ON record_albums\n",
    "FOR EACH ROW\n",
    "BEGIN\n",
    "    DELETE FROM record_tracks t WHERE t.album_id = OLD.album_id;\n",
    "    DELETE FROM record_sales s WHERE s.album_id = OLD.album_id;\n",
    "END //\n",
    "DELIMITER ;\n",
    "```"
   ],
   "metadata": {
    "collapsed": false
   },
   "id": "118aa3b207fe232"
  },
  {
   "cell_type": "code",
   "outputs": [
    {
     "name": "stdout",
     "output_type": "stream",
     "text": [
      "Number of tracks for album Boston using business object    : 8\n",
      "Number of sales for album Boston using business object     : 12\n",
      "Deleting album Boston...\n",
      "Number of tracks for album Boston using business object    : 0\n",
      "Number of sales for album Boston using business object     : 0\n"
     ]
    }
   ],
   "source": [
    "import tools.db_utils as dbu\n",
    "from business_objects.record_album_sql import RecordAlbum\n",
    "from business_objects.record_tracks_sql import RecordTrack\n",
    "from business_objects.record_sales_sql import RecordSales\n",
    "\n",
    "pandas_index_settings = ['album_name', 'release_date', 'artist_name', 'record_label_name', 'track_number']\n",
    "with dbu.get_connector() as conn:\n",
    "    with conn.cursor() as cur:\n",
    "        record_album = RecordAlbum.read_by_name(\"Boston\")\n",
    "        if record_album is None:\n",
    "            print(f'Album Boston not found. Init data...')\n",
    "            \n",
    "        else:\n",
    "            record_tracks = RecordTrack.read_by_album_id(record_album.album_id)\n",
    "            record_sales = RecordSales.read_by_album_id(record_album.album_id)\n",
    "            print(f'Number of tracks for album {record_album.album_name} using business object    : {len(record_tracks)}')\n",
    "            print(f'Number of sales for album {record_album.album_name} using business object     : {len(record_sales)}')\n",
    "            print(f'Deleting album {record_album.album_name}...')\n",
    "            cur.execute('delete from record_albums where album_name = \"Boston\"')\n",
    "            conn.commit()\n",
    "            record_tracks = RecordTrack.read_by_album_id(record_album.album_id)\n",
    "            record_sales = RecordSales.read_by_album_id(record_album.album_id)\n",
    "            print(f'Number of tracks for album {record_album.album_name} using business object    : {len(record_tracks)}')\n",
    "            print(f'Number of sales for album {record_album.album_name} using business object     : {len(record_sales)}')"
   ],
   "metadata": {
    "collapsed": false,
    "ExecuteTime": {
     "end_time": "2024-04-20T16:20:16.414713Z",
     "start_time": "2024-04-20T16:20:16.311186Z"
    }
   },
   "id": "9cc257e29d5ad268",
   "execution_count": 31
  },
  {
   "cell_type": "markdown",
   "source": [
    "---\n",
    "## Reports\n",
    "\n",
    "- Album Total Sales\n",
    "- Album Annual Sales"
   ],
   "metadata": {
    "collapsed": false
   },
   "id": "7f0a44b30506f23f"
  },
  {
   "cell_type": "code",
   "outputs": [
    {
     "name": "stdout",
     "output_type": "stream",
     "text": [
      "Total Sales\n"
     ]
    },
    {
     "data": {
      "text/plain": "                           Units Sold  Total Sales\nAlbum Name                                        \nBoston                      1168200.0   11150000.0\nThe Dark Side of the Moon   3610870.0   38946350.0\nWatermark                   1395789.0   18183945.0",
      "text/html": "<div>\n<style scoped>\n    .dataframe tbody tr th:only-of-type {\n        vertical-align: middle;\n    }\n\n    .dataframe tbody tr th {\n        vertical-align: top;\n    }\n\n    .dataframe thead th {\n        text-align: right;\n    }\n</style>\n<table border=\"1\" class=\"dataframe\">\n  <thead>\n    <tr style=\"text-align: right;\">\n      <th></th>\n      <th>Units Sold</th>\n      <th>Total Sales</th>\n    </tr>\n    <tr>\n      <th>Album Name</th>\n      <th></th>\n      <th></th>\n    </tr>\n  </thead>\n  <tbody>\n    <tr>\n      <th>Boston</th>\n      <td>1168200.0</td>\n      <td>11150000.0</td>\n    </tr>\n    <tr>\n      <th>The Dark Side of the Moon</th>\n      <td>3610870.0</td>\n      <td>38946350.0</td>\n    </tr>\n    <tr>\n      <th>Watermark</th>\n      <td>1395789.0</td>\n      <td>18183945.0</td>\n    </tr>\n  </tbody>\n</table>\n</div>"
     },
     "metadata": {},
     "output_type": "display_data"
    },
    {
     "name": "stdout",
     "output_type": "stream",
     "text": [
      "Annual Sales\n"
     ]
    },
    {
     "data": {
      "text/plain": "                                Units Sold       Sales\nAlbum Name                Year                        \nBoston                    1976    120000.0   1200000.0\n                          1977    130000.0   1300000.0\n                          1978    200000.0   2000000.0\n                          1979    250000.0   2500000.0\n                          1980    175000.0   1750000.0\n                          1981    120000.0   1200000.0\n                          1982     75000.0    525000.0\n                          1983     60000.0    420000.0\n                          1984     20000.0    140000.0\n                          1985     12000.0     84000.0\n                          1986      5000.0     25000.0\n                          1987      1200.0      6000.0\nThe Dark Side of the Moon 1973    750000.0   7500000.0\n                          1974   1200000.0  14400000.0\n                          1975    500000.0   6000000.0\n                          1976    340000.0   3400000.0\n                          1977    276000.0   2760000.0\n                          1978    170000.0   1700000.0\n                          1979    125000.0   1250000.0\n                          1980     96000.0    768000.0\n                          1981     70000.0    560000.0\n                          1982     40000.0    320000.0\n                          1983     23000.0    184000.0\n                          1984     12000.0     60000.0\n                          1985      4670.0     23350.0\n                          1986      3400.0     17000.0\n                          1987       800.0      4000.0\nWatermark                 1989    300000.0   4500000.0\n                          1990    240000.0   3600000.0\n                          1991    200000.0   3000000.0\n                          1992    189000.0   2835000.0\n                          1993    150000.0   1500000.0\n                          1994    125000.0   1250000.0\n                          1995     80000.0    640000.0\n                          1996     55000.0    440000.0\n                          1997     30000.0    240000.0\n                          1998     15000.0    120000.0\n                          1999      8000.0     40000.0\n                          2000      2300.0     11500.0\n                          2001      1489.0      7445.0",
      "text/html": "<div>\n<style scoped>\n    .dataframe tbody tr th:only-of-type {\n        vertical-align: middle;\n    }\n\n    .dataframe tbody tr th {\n        vertical-align: top;\n    }\n\n    .dataframe thead th {\n        text-align: right;\n    }\n</style>\n<table border=\"1\" class=\"dataframe\">\n  <thead>\n    <tr style=\"text-align: right;\">\n      <th></th>\n      <th></th>\n      <th>Units Sold</th>\n      <th>Sales</th>\n    </tr>\n    <tr>\n      <th>Album Name</th>\n      <th>Year</th>\n      <th></th>\n      <th></th>\n    </tr>\n  </thead>\n  <tbody>\n    <tr>\n      <th rowspan=\"12\" valign=\"top\">Boston</th>\n      <th>1976</th>\n      <td>120000.0</td>\n      <td>1200000.0</td>\n    </tr>\n    <tr>\n      <th>1977</th>\n      <td>130000.0</td>\n      <td>1300000.0</td>\n    </tr>\n    <tr>\n      <th>1978</th>\n      <td>200000.0</td>\n      <td>2000000.0</td>\n    </tr>\n    <tr>\n      <th>1979</th>\n      <td>250000.0</td>\n      <td>2500000.0</td>\n    </tr>\n    <tr>\n      <th>1980</th>\n      <td>175000.0</td>\n      <td>1750000.0</td>\n    </tr>\n    <tr>\n      <th>1981</th>\n      <td>120000.0</td>\n      <td>1200000.0</td>\n    </tr>\n    <tr>\n      <th>1982</th>\n      <td>75000.0</td>\n      <td>525000.0</td>\n    </tr>\n    <tr>\n      <th>1983</th>\n      <td>60000.0</td>\n      <td>420000.0</td>\n    </tr>\n    <tr>\n      <th>1984</th>\n      <td>20000.0</td>\n      <td>140000.0</td>\n    </tr>\n    <tr>\n      <th>1985</th>\n      <td>12000.0</td>\n      <td>84000.0</td>\n    </tr>\n    <tr>\n      <th>1986</th>\n      <td>5000.0</td>\n      <td>25000.0</td>\n    </tr>\n    <tr>\n      <th>1987</th>\n      <td>1200.0</td>\n      <td>6000.0</td>\n    </tr>\n    <tr>\n      <th rowspan=\"15\" valign=\"top\">The Dark Side of the Moon</th>\n      <th>1973</th>\n      <td>750000.0</td>\n      <td>7500000.0</td>\n    </tr>\n    <tr>\n      <th>1974</th>\n      <td>1200000.0</td>\n      <td>14400000.0</td>\n    </tr>\n    <tr>\n      <th>1975</th>\n      <td>500000.0</td>\n      <td>6000000.0</td>\n    </tr>\n    <tr>\n      <th>1976</th>\n      <td>340000.0</td>\n      <td>3400000.0</td>\n    </tr>\n    <tr>\n      <th>1977</th>\n      <td>276000.0</td>\n      <td>2760000.0</td>\n    </tr>\n    <tr>\n      <th>1978</th>\n      <td>170000.0</td>\n      <td>1700000.0</td>\n    </tr>\n    <tr>\n      <th>1979</th>\n      <td>125000.0</td>\n      <td>1250000.0</td>\n    </tr>\n    <tr>\n      <th>1980</th>\n      <td>96000.0</td>\n      <td>768000.0</td>\n    </tr>\n    <tr>\n      <th>1981</th>\n      <td>70000.0</td>\n      <td>560000.0</td>\n    </tr>\n    <tr>\n      <th>1982</th>\n      <td>40000.0</td>\n      <td>320000.0</td>\n    </tr>\n    <tr>\n      <th>1983</th>\n      <td>23000.0</td>\n      <td>184000.0</td>\n    </tr>\n    <tr>\n      <th>1984</th>\n      <td>12000.0</td>\n      <td>60000.0</td>\n    </tr>\n    <tr>\n      <th>1985</th>\n      <td>4670.0</td>\n      <td>23350.0</td>\n    </tr>\n    <tr>\n      <th>1986</th>\n      <td>3400.0</td>\n      <td>17000.0</td>\n    </tr>\n    <tr>\n      <th>1987</th>\n      <td>800.0</td>\n      <td>4000.0</td>\n    </tr>\n    <tr>\n      <th rowspan=\"13\" valign=\"top\">Watermark</th>\n      <th>1989</th>\n      <td>300000.0</td>\n      <td>4500000.0</td>\n    </tr>\n    <tr>\n      <th>1990</th>\n      <td>240000.0</td>\n      <td>3600000.0</td>\n    </tr>\n    <tr>\n      <th>1991</th>\n      <td>200000.0</td>\n      <td>3000000.0</td>\n    </tr>\n    <tr>\n      <th>1992</th>\n      <td>189000.0</td>\n      <td>2835000.0</td>\n    </tr>\n    <tr>\n      <th>1993</th>\n      <td>150000.0</td>\n      <td>1500000.0</td>\n    </tr>\n    <tr>\n      <th>1994</th>\n      <td>125000.0</td>\n      <td>1250000.0</td>\n    </tr>\n    <tr>\n      <th>1995</th>\n      <td>80000.0</td>\n      <td>640000.0</td>\n    </tr>\n    <tr>\n      <th>1996</th>\n      <td>55000.0</td>\n      <td>440000.0</td>\n    </tr>\n    <tr>\n      <th>1997</th>\n      <td>30000.0</td>\n      <td>240000.0</td>\n    </tr>\n    <tr>\n      <th>1998</th>\n      <td>15000.0</td>\n      <td>120000.0</td>\n    </tr>\n    <tr>\n      <th>1999</th>\n      <td>8000.0</td>\n      <td>40000.0</td>\n    </tr>\n    <tr>\n      <th>2000</th>\n      <td>2300.0</td>\n      <td>11500.0</td>\n    </tr>\n    <tr>\n      <th>2001</th>\n      <td>1489.0</td>\n      <td>7445.0</td>\n    </tr>\n  </tbody>\n</table>\n</div>"
     },
     "metadata": {},
     "output_type": "display_data"
    }
   ],
   "source": [
    "import tools.db_utils as dbu\n",
    "pandas_index_settings = ['Album Name']\n",
    "print(f'Total Sales')\n",
    "display(dbu.query_to_df(('SELECT '\n",
    "                            'ra.album_name as \"Album Name\", '\n",
    "                            'SUM(rs.sale_quantity) as \"Units Sold\", '\n",
    "                            'SUM(rs.sale_quantity * rs.unit_sale_price) as \"Total Sales\" '\n",
    "                        'FROM record_sales rs '\n",
    "                        'JOIN record_albums ra ON ra.album_id = rs.album_id '\n",
    "                        'GROUP BY ra.album_name '\n",
    "                        'ORDER BY ra.album_name'), pandas_index_settings))\n",
    "\n",
    "pandas_index_settings = ['Album Name', 'Year']\n",
    "print(f'Annual Sales')\n",
    "display(dbu.query_to_df(('SELECT '\n",
    "                            'ra.album_name as \"Album Name\", '\n",
    "                            'YEAR(rs.sale_date) as \"Year\", '\n",
    "                            'SUM(rs.sale_quantity) as \"Units Sold\", '\n",
    "                            'SUM(rs.sale_quantity * rs.unit_sale_price) as \"Sales\" '\n",
    "                        'FROM record_sales rs '\n",
    "                        'JOIN record_albums ra ON ra.album_id = rs.album_id '\n",
    "                        'GROUP BY YEAR(rs.sale_date), rs.album_id '\n",
    "                        'ORDER BY ra.album_name'), pandas_index_settings))"
   ],
   "metadata": {
    "collapsed": false,
    "ExecuteTime": {
     "end_time": "2024-04-24T01:02:07.635020Z",
     "start_time": "2024-04-24T01:02:07.536049Z"
    }
   },
   "id": "885b82460fc42625",
   "execution_count": 14
  },
  {
   "cell_type": "markdown",
   "source": [
    "___\n",
    "## Forms Demonstration\n",
    "- Record Album Manager\n",
    "- Record Tracks Manager"
   ],
   "metadata": {
    "collapsed": false
   },
   "id": "7a6e5e3a4e379fbe"
  },
  {
   "cell_type": "code",
   "outputs": [
    {
     "data": {
      "text/plain": "<ui_objects.record_album_manager_ui.RecordAlbumUI at 0x185645c5d90>"
     },
     "execution_count": 5,
     "metadata": {},
     "output_type": "execute_result"
    }
   ],
   "source": [
    "from ui_objects.record_album_manager_ui import RecordAlbumUI\n",
    "\n",
    "RecordAlbumUI()\n"
   ],
   "metadata": {
    "collapsed": false,
    "ExecuteTime": {
     "end_time": "2024-04-22T12:26:43.121753Z",
     "start_time": "2024-04-22T12:08:44.807836Z"
    }
   },
   "id": "4ab9829339244174",
   "execution_count": 5
  },
  {
   "cell_type": "markdown",
   "source": [
    "### Table Inserts"
   ],
   "metadata": {
    "collapsed": false
   },
   "id": "b2675d6d733c5cea"
  },
  {
   "cell_type": "code",
   "outputs": [
    {
     "data": {
      "text/plain": "          genre_name genre_description\ngenre_id                              \n39        TEST Genre       A new genre",
      "text/html": "<div>\n<style scoped>\n    .dataframe tbody tr th:only-of-type {\n        vertical-align: middle;\n    }\n\n    .dataframe tbody tr th {\n        vertical-align: top;\n    }\n\n    .dataframe thead th {\n        text-align: right;\n    }\n</style>\n<table border=\"1\" class=\"dataframe\">\n  <thead>\n    <tr style=\"text-align: right;\">\n      <th></th>\n      <th>genre_name</th>\n      <th>genre_description</th>\n    </tr>\n    <tr>\n      <th>genre_id</th>\n      <th></th>\n      <th></th>\n    </tr>\n  </thead>\n  <tbody>\n    <tr>\n      <th>39</th>\n      <td>TEST Genre</td>\n      <td>A new genre</td>\n    </tr>\n  </tbody>\n</table>\n</div>"
     },
     "metadata": {},
     "output_type": "display_data"
    }
   ],
   "source": [
    "import tools.db_utils as dbu\n",
    "from business_objects.record_genres_sql import RecordGenre\n",
    "\n",
    "# Setup\n",
    "test_genre_name = 'TEST Genre'\n",
    "RecordGenre.delete_by_name(test_genre_name)\n",
    "# Insert\n",
    "new_record = RecordGenre.create(genre_name=test_genre_name, genre_description='A new genre')\n",
    "display(dbu.query_to_df(f\"select * from record_genres where genre_name = '{test_genre_name}'\",  'genre_id'))\n",
    "# Cleanup\n",
    "RecordGenre.delete_by_name(test_genre_name)"
   ],
   "metadata": {
    "collapsed": false,
    "ExecuteTime": {
     "end_time": "2024-04-06T19:27:07.973902Z",
     "start_time": "2024-04-06T19:27:07.884870Z"
    }
   },
   "id": "c153f36a3a0592a7",
   "execution_count": 6
  },
  {
   "cell_type": "markdown",
   "source": [
    "### Table Reads"
   ],
   "metadata": {
    "collapsed": false
   },
   "id": "51a4626744f1edb7"
  },
  {
   "cell_type": "code",
   "outputs": [
    {
     "name": "stdout",
     "output_type": "stream",
     "text": [
      "Read all albumns\n",
      "RecordAlbum(album_id=1, album_name='The Dark Side of the Moon', release_date=datetime.date(2024, 4, 21), artist_id=1, genre_id=1, record_label_id=2)\n",
      "RecordAlbum(album_id=2, album_name='Boston', release_date=datetime.date(1976, 8, 25), artist_id=2, genre_id=1, record_label_id=1)\n",
      "RecordAlbum(album_id=3, album_name='Watermark', release_date=datetime.date(1988, 9, 19), artist_id=3, genre_id=17, record_label_id=6)\n",
      "RecordAlbum(album_id=7, album_name='Test', release_date=datetime.date(2024, 4, 21), artist_id=6, genre_id=4, record_label_id=4)\n",
      "\n",
      "\n",
      "Read by id: 5\n",
      "RecordAlbum(album_id=1, album_name='The Dark Side of the Moon', release_date=datetime.date(2024, 4, 21), artist_id=1, genre_id=1, record_label_id=2)\n",
      "\n",
      "\n",
      "Read by name: The Dark Side of the Moon\n",
      "RecordAlbum(album_id=1, album_name='The Dark Side of the Moon', release_date=datetime.date(2024, 4, 21), artist_id=1, genre_id=1, record_label_id=2)\n"
     ]
    }
   ],
   "source": [
    "from business_objects.record_album_sql import RecordAlbum\n",
    "print(f'Read all albumns')\n",
    "for album in RecordAlbum.read_all()[:5]:\n",
    "    print(album)\n",
    "    \n",
    "print(f'\\n\\nRead by id: 5')\n",
    "print(RecordAlbum.read(1))\n",
    "print(f'\\n\\nRead by name: The Dark Side of the Moon')\n",
    "print(RecordAlbum.read_by_name('The Dark Side of the Moon'))"
   ],
   "metadata": {
    "collapsed": false,
    "ExecuteTime": {
     "end_time": "2024-04-22T12:05:21.886326Z",
     "start_time": "2024-04-22T12:05:21.841721Z"
    }
   },
   "id": "a14c1f2d0115e1d4",
   "execution_count": 4
  },
  {
   "cell_type": "markdown",
   "source": [
    "### Table Updates"
   ],
   "metadata": {
    "collapsed": false
   },
   "id": "3fd129f6fa508c47"
  },
  {
   "cell_type": "code",
   "outputs": [
    {
     "data": {
      "text/plain": "          genre_name genre_description\ngenre_id                              \n50        TEST Genre       A new genre",
      "text/html": "<div>\n<style scoped>\n    .dataframe tbody tr th:only-of-type {\n        vertical-align: middle;\n    }\n\n    .dataframe tbody tr th {\n        vertical-align: top;\n    }\n\n    .dataframe thead th {\n        text-align: right;\n    }\n</style>\n<table border=\"1\" class=\"dataframe\">\n  <thead>\n    <tr style=\"text-align: right;\">\n      <th></th>\n      <th>genre_name</th>\n      <th>genre_description</th>\n    </tr>\n    <tr>\n      <th>genre_id</th>\n      <th></th>\n      <th></th>\n    </tr>\n  </thead>\n  <tbody>\n    <tr>\n      <th>50</th>\n      <td>TEST Genre</td>\n      <td>A new genre</td>\n    </tr>\n  </tbody>\n</table>\n</div>"
     },
     "metadata": {},
     "output_type": "display_data"
    },
    {
     "name": "stdout",
     "output_type": "stream",
     "text": [
      "Record to update: RecordGenre(genre_id=50, genre_name='Updated Genre', genre_description='An updated genre')\n"
     ]
    },
    {
     "data": {
      "text/plain": "             genre_name genre_description\ngenre_id                                 \n50        Updated Genre  An updated genre",
      "text/html": "<div>\n<style scoped>\n    .dataframe tbody tr th:only-of-type {\n        vertical-align: middle;\n    }\n\n    .dataframe tbody tr th {\n        vertical-align: top;\n    }\n\n    .dataframe thead th {\n        text-align: right;\n    }\n</style>\n<table border=\"1\" class=\"dataframe\">\n  <thead>\n    <tr style=\"text-align: right;\">\n      <th></th>\n      <th>genre_name</th>\n      <th>genre_description</th>\n    </tr>\n    <tr>\n      <th>genre_id</th>\n      <th></th>\n      <th></th>\n    </tr>\n  </thead>\n  <tbody>\n    <tr>\n      <th>50</th>\n      <td>Updated Genre</td>\n      <td>An updated genre</td>\n    </tr>\n  </tbody>\n</table>\n</div>"
     },
     "metadata": {},
     "output_type": "display_data"
    }
   ],
   "source": [
    "from business_objects.record_genres_sql import RecordGenre\n",
    "\n",
    "# Setup\n",
    "test_genre_name = 'TEST Genre'\n",
    "updated_genre_name = 'Updated Genre'\n",
    "RecordGenre.delete_by_name(test_genre_name)\n",
    "RecordGenre.delete_by_name(updated_genre_name)\n",
    "new_record = RecordGenre.create(genre_name=test_genre_name, genre_description='A new genre')\n",
    "display(dbu.query_to_df(f\"select * from record_genres where genre_name = '{test_genre_name}'\",  'genre_id'))\n",
    "# Update\n",
    "new_record.genre_name = updated_genre_name\n",
    "new_record.genre_description = 'An updated genre'\n",
    "print(f'Record to update: {new_record}')\n",
    "new_record.update()\n",
    "display(dbu.query_to_df(f\"select * from record_genres where genre_name = '{updated_genre_name}'\",  'genre_id'))\n",
    "# Cleanup\n",
    "RecordGenre.delete_by_name(test_genre_name)\n",
    "RecordGenre.delete_by_name(updated_genre_name)"
   ],
   "metadata": {
    "collapsed": false,
    "ExecuteTime": {
     "end_time": "2024-04-06T19:38:15.234458Z",
     "start_time": "2024-04-06T19:38:15.073313Z"
    }
   },
   "id": "c138a6e4be9e036",
   "execution_count": 18
  },
  {
   "cell_type": "markdown",
   "source": [
    "### Table Deletes"
   ],
   "metadata": {
    "collapsed": false
   },
   "id": "18ec8f7c74d802c7"
  },
  {
   "cell_type": "code",
   "outputs": [
    {
     "name": "stdout",
     "output_type": "stream",
     "text": [
      "Created record: 51\n"
     ]
    },
    {
     "data": {
      "text/plain": "          genre_name genre_description\ngenre_id                              \n51        TEST Genre       A new genre",
      "text/html": "<div>\n<style scoped>\n    .dataframe tbody tr th:only-of-type {\n        vertical-align: middle;\n    }\n\n    .dataframe tbody tr th {\n        vertical-align: top;\n    }\n\n    .dataframe thead th {\n        text-align: right;\n    }\n</style>\n<table border=\"1\" class=\"dataframe\">\n  <thead>\n    <tr style=\"text-align: right;\">\n      <th></th>\n      <th>genre_name</th>\n      <th>genre_description</th>\n    </tr>\n    <tr>\n      <th>genre_id</th>\n      <th></th>\n      <th></th>\n    </tr>\n  </thead>\n  <tbody>\n    <tr>\n      <th>51</th>\n      <td>TEST Genre</td>\n      <td>A new genre</td>\n    </tr>\n  </tbody>\n</table>\n</div>"
     },
     "metadata": {},
     "output_type": "display_data"
    },
    {
     "name": "stdout",
     "output_type": "stream",
     "text": [
      "After delete by id: 51\n"
     ]
    },
    {
     "data": {
      "text/plain": "Empty DataFrame\nColumns: [genre_name, genre_description]\nIndex: []",
      "text/html": "<div>\n<style scoped>\n    .dataframe tbody tr th:only-of-type {\n        vertical-align: middle;\n    }\n\n    .dataframe tbody tr th {\n        vertical-align: top;\n    }\n\n    .dataframe thead th {\n        text-align: right;\n    }\n</style>\n<table border=\"1\" class=\"dataframe\">\n  <thead>\n    <tr style=\"text-align: right;\">\n      <th></th>\n      <th>genre_name</th>\n      <th>genre_description</th>\n    </tr>\n    <tr>\n      <th>genre_id</th>\n      <th></th>\n      <th></th>\n    </tr>\n  </thead>\n  <tbody>\n  </tbody>\n</table>\n</div>"
     },
     "metadata": {},
     "output_type": "display_data"
    },
    {
     "name": "stdout",
     "output_type": "stream",
     "text": [
      "Created record: 52\n"
     ]
    },
    {
     "data": {
      "text/plain": "          genre_name genre_description\ngenre_id                              \n52        TEST Genre       A new genre",
      "text/html": "<div>\n<style scoped>\n    .dataframe tbody tr th:only-of-type {\n        vertical-align: middle;\n    }\n\n    .dataframe tbody tr th {\n        vertical-align: top;\n    }\n\n    .dataframe thead th {\n        text-align: right;\n    }\n</style>\n<table border=\"1\" class=\"dataframe\">\n  <thead>\n    <tr style=\"text-align: right;\">\n      <th></th>\n      <th>genre_name</th>\n      <th>genre_description</th>\n    </tr>\n    <tr>\n      <th>genre_id</th>\n      <th></th>\n      <th></th>\n    </tr>\n  </thead>\n  <tbody>\n    <tr>\n      <th>52</th>\n      <td>TEST Genre</td>\n      <td>A new genre</td>\n    </tr>\n  </tbody>\n</table>\n</div>"
     },
     "metadata": {},
     "output_type": "display_data"
    },
    {
     "name": "stdout",
     "output_type": "stream",
     "text": [
      "After delete by name: TEST Genre\n"
     ]
    },
    {
     "data": {
      "text/plain": "Empty DataFrame\nColumns: [genre_name, genre_description]\nIndex: []",
      "text/html": "<div>\n<style scoped>\n    .dataframe tbody tr th:only-of-type {\n        vertical-align: middle;\n    }\n\n    .dataframe tbody tr th {\n        vertical-align: top;\n    }\n\n    .dataframe thead th {\n        text-align: right;\n    }\n</style>\n<table border=\"1\" class=\"dataframe\">\n  <thead>\n    <tr style=\"text-align: right;\">\n      <th></th>\n      <th>genre_name</th>\n      <th>genre_description</th>\n    </tr>\n    <tr>\n      <th>genre_id</th>\n      <th></th>\n      <th></th>\n    </tr>\n  </thead>\n  <tbody>\n  </tbody>\n</table>\n</div>"
     },
     "metadata": {},
     "output_type": "display_data"
    }
   ],
   "source": [
    "from business_objects.record_genres_sql import RecordGenre\n",
    "\n",
    "# Setup\n",
    "test_genre_name = 'TEST Genre'\n",
    "RecordGenre.delete_by_name(test_genre_name)\n",
    "new_record = RecordGenre.create(genre_name=test_genre_name, genre_description='A new genre')\n",
    "print(f'Created record: {new_record.genre_id}')\n",
    "display(dbu.query_to_df(f\"select * from record_genres where genre_name = '{test_genre_name}'\",  'genre_id'))\n",
    "# Delete by id\n",
    "new_record.delete()\n",
    "print(f'After delete by id: {new_record.genre_id}')\n",
    "display(dbu.query_to_df(f\"select * from record_genres where genre_id = '{new_record.genre_id}'\",  'genre_id'))\n",
    "# Delete by name\n",
    "new_record = RecordGenre.create(genre_name=test_genre_name, genre_description='A new genre')\n",
    "print(f'Created record: {new_record.genre_id}')\n",
    "display(dbu.query_to_df(f\"select * from record_genres where genre_name = '{test_genre_name}'\",  'genre_id'))\n",
    "RecordGenre.delete_by_name(new_record.genre_name)\n",
    "print(f'After delete by name: {new_record.genre_name}')\n",
    "display(dbu.query_to_df(f\"select * from record_genres where genre_name = '{test_genre_name}'\",  'genre_id'))"
   ],
   "metadata": {
    "collapsed": false,
    "ExecuteTime": {
     "end_time": "2024-04-06T19:38:21.276495Z",
     "start_time": "2024-04-06T19:38:21.037285Z"
    }
   },
   "id": "c96203dfc5144e79",
   "execution_count": 19
  },
  {
   "cell_type": "markdown",
   "source": [],
   "metadata": {
    "collapsed": false
   },
   "id": "ff26f9c83011cb67"
  }
 ],
 "metadata": {
  "kernelspec": {
   "display_name": "Python 3",
   "language": "python",
   "name": "python3"
  },
  "language_info": {
   "codemirror_mode": {
    "name": "ipython",
    "version": 2
   },
   "file_extension": ".py",
   "mimetype": "text/x-python",
   "name": "python",
   "nbconvert_exporter": "python",
   "pygments_lexer": "ipython2",
   "version": "2.7.6"
  }
 },
 "nbformat": 4,
 "nbformat_minor": 5
}
