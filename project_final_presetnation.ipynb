{
 "cells": [
  {
   "cell_type": "markdown",
   "source": [
    "# Project Part 3: Final Presentation\n",
    "\n",
    "### CS-GY 6083 Principals of Database Systems - Spring 2024\n",
    "\n",
    "* **Author**: [Nicola Maiorana]\n",
    "* **Date**: [2024-03-23]\n",
    "* **Email**: [nam10102@nyu.edu]\n",
    "* **Class**: [CS-GY 6083]\n",
    "\n",
    "## Overview of Presentation\n",
    "- Project Overview\n",
    "- IDE And Presentation Tools\n",
    "- Code\n",
    "    - ER Diagram\n",
    "    - Tables DDL\n",
    "    - Views DDL\n",
    "    - Procedures DDL\n",
    "    - Functions DDL\n",
    "    - Triggers DDL\n",
    "\n",
    "- Discussion\n",
    "    - Normalization\n",
    "    - Integrity Enforcement Used (Where/Why)\n",
    "    - Isolation Level Used (Where/Why)\n",
    "- Forms\n",
    "    - Table Inserts\n",
    "    - Table Deletes\n",
    "    - Selects\n",
    "- Reports\n",
    "\n",
    "## Project Overview\n",
    "For this project I will construct a database using MySQL to store information about record album: the name of the album, the recording date, the artists behind the album (bands), the members of the recording group, the record label which produced the album, genre and sales information. This will utilize a 2-tier architecture using Python as the primary Language.\n",
    "\n",
    "I will construct business object classes to represent the data in Python using data classes. To map these data classes to the MySQL db, I will use the MySQL Connect coupled with dataclasses to create my Business Objects. Lastly I will construct a series of UI classes to perform Create, Read, Update and Delete operations on one of the tables.\n",
    "\n",
    "The demonstration will consist of a Python stand-alone class connecting to the MySQL database and performing the CRUD operations on the database. The demonstration will be done using a Jupyter Notebook.\n",
    "\n",
    "## IDE And Presentation Tools\n",
    "- IDE: PyCharm Professional\n",
    "- Presentation: Jupyter Notebook"
   ],
   "metadata": {
    "collapsed": false
   },
   "id": "951da5f18e32d8cf"
  },
  {
   "cell_type": "markdown",
   "source": [
    "## Code"
   ],
   "metadata": {
    "collapsed": false
   },
   "id": "77c1a0a004b37417"
  },
  {
   "cell_type": "markdown",
   "source": [
    "### Import required modules\n",
    "\n",
    "- tools.db_utils: Contains the database connection and query functions\n",
    "- tools.mermaid_diagrams: Allows for the creation of Mermaid diagrams"
   ],
   "metadata": {
    "collapsed": false
   },
   "id": "495f7142cff2f921"
  },
  {
   "cell_type": "code",
   "outputs": [],
   "source": [
    "import tools.db_utils as dbu\n",
    "import tools.mermaid_diagrams as md"
   ],
   "metadata": {
    "collapsed": false,
    "ExecuteTime": {
     "end_time": "2024-04-06T18:39:37.594625Z",
     "start_time": "2024-04-06T18:39:36.615862Z"
    }
   },
   "id": "ffc8dc8e0896d0c1",
   "execution_count": 1
  },
  {
   "cell_type": "markdown",
   "source": [
    "### ER Diagram"
   ],
   "metadata": {
    "collapsed": false
   },
   "id": "4ce118c0c5bcda92"
  },
  {
   "cell_type": "code",
   "outputs": [
    {
     "data": {
      "text/html": "<img src=\"https://mermaid.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\"/>",
      "text/plain": "<IPython.core.display.Image object>"
     },
     "metadata": {},
     "output_type": "display_data"
    }
   ],
   "source": [
    "md.mm(md.er_diargram)"
   ],
   "metadata": {
    "collapsed": false,
    "ExecuteTime": {
     "end_time": "2024-04-06T17:09:23.214228Z",
     "start_time": "2024-04-06T17:09:23.197395Z"
    }
   },
   "id": "143a08af7868dc59",
   "execution_count": 2
  },
  {
   "cell_type": "markdown",
   "source": [
    "```sql\n",
    "CREATE TABLE RECORD_ARTISTS (\n",
    "    artist_id int NOT NULL AUTO_INCREMENT,\n",
    "    artist_name varchar(255),\n",
    "    PRIMARY KEY (artist_id)\n",
    ");\n",
    "\n",
    "CREATE TABLE GROUP_MEMBERS (\n",
    "    member_id int NOT NULL AUTO_INCREMENT,\n",
    "    member_name varchar(255),\n",
    "    PRIMARY KEY (member_id)\n",
    ");\n",
    "\n",
    "CREATE TABLE MEMBERS_TO_ARTISTS (\n",
    "    members_to_artists_id int NOT NULL AUTO_INCREMENT,\n",
    "    member_id int,\n",
    "    artist_id int,\n",
    "    member_from_date date,\n",
    "    member_to_date date,\n",
    "    PRIMARY KEY (members_to_artists_id),\n",
    "    FOREIGN KEY (member_id) REFERENCES GROUP_MEMBERS(member_id),\n",
    "    FOREIGN KEY (artist_id) REFERENCES RECORD_ARTISTS(artist_id)\n",
    ");\n",
    "\n",
    "CREATE TABLE RECORD_GENRES (\n",
    "    genre_id int NOT NULL AUTO_INCREMENT,\n",
    "    genre_name varchar(255),\n",
    "    genre_description varchar(255),\n",
    "    PRIMARY KEY (genre_id),\n",
    "    UNIQUE (genre_name)\n",
    ");\n",
    "\n",
    "CREATE TABLE RECORD_LABELS (\n",
    "    record_label_id int NOT NULL AUTO_INCREMENT,\n",
    "    record_label_name varchar(255),\n",
    "    PRIMARY KEY (record_label_id),\n",
    "    UNIQUE (record_label_name)\n",
    ");\n",
    "\n",
    "CREATE TABLE RECORD_ALBUMS (\n",
    "    album_id int NOT NULL AUTO_INCREMENT,\n",
    "    album_name varchar(255),\n",
    "    release_date date,\n",
    "    artist_id int,\n",
    "    genre_id int,\n",
    "    record_label_id int,\n",
    "    PRIMARY KEY (album_id),\n",
    "    FOREIGN KEY (artist_id) REFERENCES RECORD_ARTISTS(artist_id),\n",
    "    FOREIGN KEY (genre_id) REFERENCES RECORD_GENRES(genre_id),\n",
    "    FOREIGN KEY (record_label_id) REFERENCES RECORD_LABELS(record_label_id),\n",
    "    UNIQUE (album_name, release_date)\n",
    ");\n",
    "\n",
    "CREATE TABLE RECORD_TRACKS (\n",
    "    track_id int NOT NULL AUTO_INCREMENT,\n",
    "    album_id int,\n",
    "    track_name varchar(255),\n",
    "    track_number int,\n",
    "    genre_id int,\n",
    "    PRIMARY KEY (track_id),\n",
    "    FOREIGN KEY (album_id) REFERENCES RECORD_ALBUMS(album_id),\n",
    "    FOREIGN KEY (genre_id) REFERENCES RECORD_GENRES(genre_id)\n",
    ");\n",
    "\n",
    "CREATE TABLE RECORD_SALES (\n",
    "    sale_id int NOT NULL AUTO_INCREMENT,\n",
    "    album_id int,\n",
    "    sale_date date,\n",
    "    sale_quantity int,\n",
    "    unit_sale_price decimal,\n",
    "    PRIMARY KEY (sale_id),\n",
    "    FOREIGN KEY (album_id) REFERENCES RECORD_ALBUMS(album_id)\n",
    ");\n",
    "```"
   ],
   "metadata": {
    "collapsed": false
   },
   "id": "8787087bc4a6ec93"
  },
  {
   "cell_type": "code",
   "outputs": [
    {
     "data": {
      "text/plain": "                         album_name release_date  artist_id  genre_id  \\\nalbum_id                                                                \n1         The Dark Side of the Moon   1973-03-01          1         1   \n2                            Boston   1976-08-25          2         1   \n\n          record_label_id  \nalbum_id                   \n1                       2  \n2                       1  ",
      "text/html": "<div>\n<style scoped>\n    .dataframe tbody tr th:only-of-type {\n        vertical-align: middle;\n    }\n\n    .dataframe tbody tr th {\n        vertical-align: top;\n    }\n\n    .dataframe thead th {\n        text-align: right;\n    }\n</style>\n<table border=\"1\" class=\"dataframe\">\n  <thead>\n    <tr style=\"text-align: right;\">\n      <th></th>\n      <th>album_name</th>\n      <th>release_date</th>\n      <th>artist_id</th>\n      <th>genre_id</th>\n      <th>record_label_id</th>\n    </tr>\n    <tr>\n      <th>album_id</th>\n      <th></th>\n      <th></th>\n      <th></th>\n      <th></th>\n      <th></th>\n    </tr>\n  </thead>\n  <tbody>\n    <tr>\n      <th>1</th>\n      <td>The Dark Side of the Moon</td>\n      <td>1973-03-01</td>\n      <td>1</td>\n      <td>1</td>\n      <td>2</td>\n    </tr>\n    <tr>\n      <th>2</th>\n      <td>Boston</td>\n      <td>1976-08-25</td>\n      <td>2</td>\n      <td>1</td>\n      <td>1</td>\n    </tr>\n  </tbody>\n</table>\n</div>"
     },
     "metadata": {},
     "output_type": "display_data"
    }
   ],
   "source": [
    "import tools.db_utils as dbu\n",
    "pandas_index_settings = ['album_id']\n",
    "display(dbu.query_to_df('select * from record_albums', pandas_index_settings))"
   ],
   "metadata": {
    "collapsed": false,
    "ExecuteTime": {
     "end_time": "2024-04-06T18:49:20.901828Z",
     "start_time": "2024-04-06T18:49:20.862734Z"
    }
   },
   "id": "235f67810f64c2bd",
   "execution_count": 3
  },
  {
   "cell_type": "markdown",
   "source": [
    "### Views DDL"
   ],
   "metadata": {
    "collapsed": false
   },
   "id": "33e9c58f3eb52dcd"
  },
  {
   "cell_type": "markdown",
   "source": [
    "#### Album Information View\n",
    "```sql\n",
    "CREATE VIEW album_information AS\n",
    "    SELECT\n",
    "        RECORD_ALBUMS.album_name,\n",
    "        RECORD_ARTISTS.artist_name,\n",
    "        RECORD_GENRES.genre_name,\n",
    "        RECORD_LABELS.record_label_name,\n",
    "        RECORD_ALBUMS.release_date\n",
    "    FROM\n",
    "        RECORD_ALBUMS\n",
    "    JOIN RECORD_ARTISTS ON RECORD_ALBUMS.artist_id = RECORD_ARTISTS.artist_id\n",
    "    JOIN RECORD_LABELS ON RECORD_ALBUMS.record_label_id = RECORD_LABELS.record_label_id\n",
    "    JOIN RECORD_GENRES ON RECORD_ALBUMS.genre_id = RECORD_GENRES.genre_id;\n",
    "```"
   ],
   "metadata": {
    "collapsed": false
   },
   "id": "42e2bdd3a165f825"
  },
  {
   "cell_type": "code",
   "outputs": [
    {
     "data": {
      "text/plain": "                          artist_name genre_name        record_label_name  \\\nalbum_name                                                                  \nThe Dark Side of the Moon  Pink Floyd       Rock  Harvest Capitol Records   \nBoston                         Boston       Rock             Epic Records   \n\n                          release_date  \nalbum_name                              \nThe Dark Side of the Moon   1973-03-01  \nBoston                      1976-08-25  ",
      "text/html": "<div>\n<style scoped>\n    .dataframe tbody tr th:only-of-type {\n        vertical-align: middle;\n    }\n\n    .dataframe tbody tr th {\n        vertical-align: top;\n    }\n\n    .dataframe thead th {\n        text-align: right;\n    }\n</style>\n<table border=\"1\" class=\"dataframe\">\n  <thead>\n    <tr style=\"text-align: right;\">\n      <th></th>\n      <th>artist_name</th>\n      <th>genre_name</th>\n      <th>record_label_name</th>\n      <th>release_date</th>\n    </tr>\n    <tr>\n      <th>album_name</th>\n      <th></th>\n      <th></th>\n      <th></th>\n      <th></th>\n    </tr>\n  </thead>\n  <tbody>\n    <tr>\n      <th>The Dark Side of the Moon</th>\n      <td>Pink Floyd</td>\n      <td>Rock</td>\n      <td>Harvest Capitol Records</td>\n      <td>1973-03-01</td>\n    </tr>\n    <tr>\n      <th>Boston</th>\n      <td>Boston</td>\n      <td>Rock</td>\n      <td>Epic Records</td>\n      <td>1976-08-25</td>\n    </tr>\n  </tbody>\n</table>\n</div>"
     },
     "metadata": {},
     "output_type": "display_data"
    }
   ],
   "source": [
    "import tools.db_utils as dbu\n",
    "pandas_index_settings = ['album_name']\n",
    "display(dbu.query_to_df('select * from album_information order by release_date', pandas_index_settings))"
   ],
   "metadata": {
    "collapsed": false,
    "ExecuteTime": {
     "end_time": "2024-04-06T18:49:36.951009Z",
     "start_time": "2024-04-06T18:49:36.908428Z"
    }
   },
   "id": "65f47a06753e3895",
   "execution_count": 4
  },
  {
   "cell_type": "markdown",
   "source": [
    "#### Album Information Details View\n",
    "```sql\n",
    "CREATE VIEW album_information_details AS\n",
    "    SELECT\n",
    "        RECORD_ALBUMS.album_name,\n",
    "        RECORD_ARTISTS.artist_name,\n",
    "        record_genres.genre_name,\n",
    "        RECORD_LABELS.record_label_name,\n",
    "        RECORD_TRACKS.track_number,\n",
    "        RECORD_TRACKS.track_name,\n",
    "        RECORD_ALBUMS.release_date\n",
    "    FROM\n",
    "        RECORD_ALBUMS\n",
    "    JOIN RECORD_ARTISTS ON RECORD_ALBUMS.artist_id = RECORD_ARTISTS.artist_id\n",
    "    JOIN RECORD_LABELS ON RECORD_ALBUMS.record_label_id = RECORD_LABELS.record_label_id\n",
    "    JOIN RECORD_TRACKS ON RECORD_ALBUMS.album_id = RECORD_TRACKS.album_id\n",
    "    JOIN RECORD_GENRES ON RECORD_TRACKS.genre_id = RECORD_GENRES.genre_id\n",
    "ORDER BY\n",
    "    RECORD_ALBUMS.album_name, RECORD_TRACKS.track_number;\n",
    "```"
   ],
   "metadata": {
    "collapsed": false
   },
   "id": "1db5def01defea6d"
  },
  {
   "cell_type": "code",
   "outputs": [
    {
     "data": {
      "text/plain": "                                                                                        genre_name  \\\nalbum_name                release_date artist_name record_label_name       track_number              \nThe Dark Side of the Moon 1973-03-01   Pink Floyd  Harvest Capitol Records 1                  Rock   \n                                                                           2                  Rock   \n                                                                           3                  Rock   \n                                                                           4                  Rock   \n                                                                           5                  Rock   \n                                                                           6                  Rock   \n                                                                           7                  Rock   \n                                                                           8                  Rock   \n                                                                           9                  Rock   \n                                                                           10                 Rock   \nBoston                    1976-08-25   Boston      Epic Records            1                  Rock   \n                                                                           2                  Rock   \n                                                                           3                  Rock   \n                                                                           4                  Rock   \n                                                                           5                  Rock   \n                                                                           6                  Rock   \n                                                                           7                  Rock   \n                                                                           8                  Rock   \nWatermark                 1988-09-19   Enya        Warner Bros. Records    1               New Age   \n                                                                           2               New Age   \n                                                                           3               New Age   \n                                                                           4               New Age   \n                                                                           5               New Age   \n                                                                           6               New Age   \n                                                                           7               New Age   \n                                                                           8               New Age   \n                                                                           9               New Age   \n                                                                           10              New Age   \n                                                                           11              New Age   \n\n                                                                                                           track_name  \nalbum_name                release_date artist_name record_label_name       track_number                                \nThe Dark Side of the Moon 1973-03-01   Pink Floyd  Harvest Capitol Records 1                              Speak to Me  \n                                                                           2                     Breathe (In the Air)  \n                                                                           3                               On the Run  \n                                                                           4                                     Time  \n                                                                           5                 The Great Gig in the Sky  \n                                                                           6                                    Money  \n                                                                           7                              Us and Them  \n                                                                           8                      Any Colour You Like  \n                                                                           9                             Brain Damage  \n                                                                           10                                 Eclipse  \nBoston                    1976-08-25   Boston      Epic Records            1                      More Than a Feeling  \n                                                                           2                            Peace of Mind  \n                                                                           3                       Foreplay/Long Time  \n                                                                           4                         Rock & Roll Band  \n                                                                           5                                   Smokin  \n                                                                           6                             Hitch a Ride  \n                                                                           7                      Something About You  \n                                                                           8             Let Me Take You Home Tonight  \nWatermark                 1988-09-19   Enya        Warner Bros. Records    1                                Watermark  \n                                                                           2                          Cursum Perficio  \n                                                                           3                            On Your Shore  \n                                                                           4                         Storms in Africa  \n                                                                           5                                    Exile  \n                                                                           6                     Miss Clare Remembers  \n                                                                           7                             Orinoco Flow  \n                                                                           8                            Evening Falls  \n                                                                           9                                    River  \n                                                                           10                           The Longships  \n                                                                           11                    Na Laetha Geal M'ige  ",
      "text/html": "<div>\n<style scoped>\n    .dataframe tbody tr th:only-of-type {\n        vertical-align: middle;\n    }\n\n    .dataframe tbody tr th {\n        vertical-align: top;\n    }\n\n    .dataframe thead th {\n        text-align: right;\n    }\n</style>\n<table border=\"1\" class=\"dataframe\">\n  <thead>\n    <tr style=\"text-align: right;\">\n      <th></th>\n      <th></th>\n      <th></th>\n      <th></th>\n      <th></th>\n      <th>genre_name</th>\n      <th>track_name</th>\n    </tr>\n    <tr>\n      <th>album_name</th>\n      <th>release_date</th>\n      <th>artist_name</th>\n      <th>record_label_name</th>\n      <th>track_number</th>\n      <th></th>\n      <th></th>\n    </tr>\n  </thead>\n  <tbody>\n    <tr>\n      <th rowspan=\"10\" valign=\"top\">The Dark Side of the Moon</th>\n      <th rowspan=\"10\" valign=\"top\">1973-03-01</th>\n      <th rowspan=\"10\" valign=\"top\">Pink Floyd</th>\n      <th rowspan=\"10\" valign=\"top\">Harvest Capitol Records</th>\n      <th>1</th>\n      <td>Rock</td>\n      <td>Speak to Me</td>\n    </tr>\n    <tr>\n      <th>2</th>\n      <td>Rock</td>\n      <td>Breathe (In the Air)</td>\n    </tr>\n    <tr>\n      <th>3</th>\n      <td>Rock</td>\n      <td>On the Run</td>\n    </tr>\n    <tr>\n      <th>4</th>\n      <td>Rock</td>\n      <td>Time</td>\n    </tr>\n    <tr>\n      <th>5</th>\n      <td>Rock</td>\n      <td>The Great Gig in the Sky</td>\n    </tr>\n    <tr>\n      <th>6</th>\n      <td>Rock</td>\n      <td>Money</td>\n    </tr>\n    <tr>\n      <th>7</th>\n      <td>Rock</td>\n      <td>Us and Them</td>\n    </tr>\n    <tr>\n      <th>8</th>\n      <td>Rock</td>\n      <td>Any Colour You Like</td>\n    </tr>\n    <tr>\n      <th>9</th>\n      <td>Rock</td>\n      <td>Brain Damage</td>\n    </tr>\n    <tr>\n      <th>10</th>\n      <td>Rock</td>\n      <td>Eclipse</td>\n    </tr>\n    <tr>\n      <th rowspan=\"8\" valign=\"top\">Boston</th>\n      <th rowspan=\"8\" valign=\"top\">1976-08-25</th>\n      <th rowspan=\"8\" valign=\"top\">Boston</th>\n      <th rowspan=\"8\" valign=\"top\">Epic Records</th>\n      <th>1</th>\n      <td>Rock</td>\n      <td>More Than a Feeling</td>\n    </tr>\n    <tr>\n      <th>2</th>\n      <td>Rock</td>\n      <td>Peace of Mind</td>\n    </tr>\n    <tr>\n      <th>3</th>\n      <td>Rock</td>\n      <td>Foreplay/Long Time</td>\n    </tr>\n    <tr>\n      <th>4</th>\n      <td>Rock</td>\n      <td>Rock &amp; Roll Band</td>\n    </tr>\n    <tr>\n      <th>5</th>\n      <td>Rock</td>\n      <td>Smokin</td>\n    </tr>\n    <tr>\n      <th>6</th>\n      <td>Rock</td>\n      <td>Hitch a Ride</td>\n    </tr>\n    <tr>\n      <th>7</th>\n      <td>Rock</td>\n      <td>Something About You</td>\n    </tr>\n    <tr>\n      <th>8</th>\n      <td>Rock</td>\n      <td>Let Me Take You Home Tonight</td>\n    </tr>\n    <tr>\n      <th rowspan=\"11\" valign=\"top\">Watermark</th>\n      <th rowspan=\"11\" valign=\"top\">1988-09-19</th>\n      <th rowspan=\"11\" valign=\"top\">Enya</th>\n      <th rowspan=\"11\" valign=\"top\">Warner Bros. Records</th>\n      <th>1</th>\n      <td>New Age</td>\n      <td>Watermark</td>\n    </tr>\n    <tr>\n      <th>2</th>\n      <td>New Age</td>\n      <td>Cursum Perficio</td>\n    </tr>\n    <tr>\n      <th>3</th>\n      <td>New Age</td>\n      <td>On Your Shore</td>\n    </tr>\n    <tr>\n      <th>4</th>\n      <td>New Age</td>\n      <td>Storms in Africa</td>\n    </tr>\n    <tr>\n      <th>5</th>\n      <td>New Age</td>\n      <td>Exile</td>\n    </tr>\n    <tr>\n      <th>6</th>\n      <td>New Age</td>\n      <td>Miss Clare Remembers</td>\n    </tr>\n    <tr>\n      <th>7</th>\n      <td>New Age</td>\n      <td>Orinoco Flow</td>\n    </tr>\n    <tr>\n      <th>8</th>\n      <td>New Age</td>\n      <td>Evening Falls</td>\n    </tr>\n    <tr>\n      <th>9</th>\n      <td>New Age</td>\n      <td>River</td>\n    </tr>\n    <tr>\n      <th>10</th>\n      <td>New Age</td>\n      <td>The Longships</td>\n    </tr>\n    <tr>\n      <th>11</th>\n      <td>New Age</td>\n      <td>Na Laetha Geal M'ige</td>\n    </tr>\n  </tbody>\n</table>\n</div>"
     },
     "metadata": {},
     "output_type": "display_data"
    }
   ],
   "source": [
    "import tools.db_utils as dbu\n",
    "pandas_index_settings = ['album_name', 'release_date', 'artist_name', 'record_label_name', 'track_number']\n",
    "display(dbu.query_to_df('select * from album_information_details order by release_date', pandas_index_settings))"
   ],
   "metadata": {
    "collapsed": false,
    "ExecuteTime": {
     "end_time": "2024-04-06T19:08:41.296764Z",
     "start_time": "2024-04-06T19:08:41.238860Z"
    }
   },
   "id": "41aa6f2562d2b194",
   "execution_count": 26
  },
  {
   "cell_type": "markdown",
   "source": [
    "#### Band Members View\n",
    "```sql\n",
    "CREATE VIEW band_members AS\n",
    "    SELECT\n",
    "        RECORD_ARTISTS.artist_name,\n",
    "        GROUP_MEMBERS.member_name,\n",
    "        GROUP_MEMBERS.member_country,\n",
    "        MEMBERS_TO_ARTISTS.member_from_date,\n",
    "        MEMBERS_TO_ARTISTS.member_to_date\n",
    "    FROM\n",
    "        RECORD_ARTISTS\n",
    "    JOIN MEMBERS_TO_ARTISTS ON RECORD_ARTISTS.artist_id = MEMBERS_TO_ARTISTS.artist_id\n",
    "    JOIN GROUP_MEMBERS ON MEMBERS_TO_ARTISTS.member_id = GROUP_MEMBERS.member_id;\n",
    "```"
   ],
   "metadata": {
    "collapsed": false
   },
   "id": "dc359e7ae7a11be8"
  },
  {
   "cell_type": "code",
   "outputs": [
    {
     "data": {
      "text/plain": "                           member_country member_from_date member_to_date\nartist_name member_name                                                  \nBoston      Barry Goudreau            USA       1975-01-01     1981-01-01\n            Brad Delp                 USA       1975-01-01     2007-01-01\n            Fran Sheehan              USA       1975-01-01     1986-01-01\n            Sib Hashian               USA       1975-01-01     1986-01-01\n            Tom Scholz                USA       1975-01-01     1989-01-01\nEnya        Enya                  Ireland       1982-01-01     2020-01-01\nPink Floyd  David Gilmour         England       1968-01-01     1995-01-01\n            Nick Mason            England       1965-01-01     1995-01-01\n            Richard Wright        England       1965-01-01     1980-01-01\n            Roger Waters          England       1965-01-01     1985-01-01\n            Syd Barrett           England       1965-01-01     1968-01-01",
      "text/html": "<div>\n<style scoped>\n    .dataframe tbody tr th:only-of-type {\n        vertical-align: middle;\n    }\n\n    .dataframe tbody tr th {\n        vertical-align: top;\n    }\n\n    .dataframe thead th {\n        text-align: right;\n    }\n</style>\n<table border=\"1\" class=\"dataframe\">\n  <thead>\n    <tr style=\"text-align: right;\">\n      <th></th>\n      <th></th>\n      <th>member_country</th>\n      <th>member_from_date</th>\n      <th>member_to_date</th>\n    </tr>\n    <tr>\n      <th>artist_name</th>\n      <th>member_name</th>\n      <th></th>\n      <th></th>\n      <th></th>\n    </tr>\n  </thead>\n  <tbody>\n    <tr>\n      <th rowspan=\"5\" valign=\"top\">Boston</th>\n      <th>Barry Goudreau</th>\n      <td>USA</td>\n      <td>1975-01-01</td>\n      <td>1981-01-01</td>\n    </tr>\n    <tr>\n      <th>Brad Delp</th>\n      <td>USA</td>\n      <td>1975-01-01</td>\n      <td>2007-01-01</td>\n    </tr>\n    <tr>\n      <th>Fran Sheehan</th>\n      <td>USA</td>\n      <td>1975-01-01</td>\n      <td>1986-01-01</td>\n    </tr>\n    <tr>\n      <th>Sib Hashian</th>\n      <td>USA</td>\n      <td>1975-01-01</td>\n      <td>1986-01-01</td>\n    </tr>\n    <tr>\n      <th>Tom Scholz</th>\n      <td>USA</td>\n      <td>1975-01-01</td>\n      <td>1989-01-01</td>\n    </tr>\n    <tr>\n      <th>Enya</th>\n      <th>Enya</th>\n      <td>Ireland</td>\n      <td>1982-01-01</td>\n      <td>2020-01-01</td>\n    </tr>\n    <tr>\n      <th rowspan=\"5\" valign=\"top\">Pink Floyd</th>\n      <th>David Gilmour</th>\n      <td>England</td>\n      <td>1968-01-01</td>\n      <td>1995-01-01</td>\n    </tr>\n    <tr>\n      <th>Nick Mason</th>\n      <td>England</td>\n      <td>1965-01-01</td>\n      <td>1995-01-01</td>\n    </tr>\n    <tr>\n      <th>Richard Wright</th>\n      <td>England</td>\n      <td>1965-01-01</td>\n      <td>1980-01-01</td>\n    </tr>\n    <tr>\n      <th>Roger Waters</th>\n      <td>England</td>\n      <td>1965-01-01</td>\n      <td>1985-01-01</td>\n    </tr>\n    <tr>\n      <th>Syd Barrett</th>\n      <td>England</td>\n      <td>1965-01-01</td>\n      <td>1968-01-01</td>\n    </tr>\n  </tbody>\n</table>\n</div>"
     },
     "metadata": {},
     "output_type": "display_data"
    }
   ],
   "source": [
    "import tools.db_utils as dbu\n",
    "pandas_index_settings = ['artist_name', 'member_name']\n",
    "display(dbu.query_to_df('select * from band_members order by artist_name, member_name', pandas_index_settings))"
   ],
   "metadata": {
    "collapsed": false,
    "ExecuteTime": {
     "end_time": "2024-04-06T19:06:36.242738Z",
     "start_time": "2024-04-06T19:06:36.188332Z"
    }
   },
   "id": "cc720d770229fcb5",
   "execution_count": 24
  },
  {
   "cell_type": "markdown",
   "source": [
    "### Procedures DDL"
   ],
   "metadata": {
    "collapsed": false
   },
   "id": "86cfe06440130437"
  },
  {
   "cell_type": "markdown",
   "source": [
    "\n",
    "### Procedure to count the number of sales for a given album\n",
    "```\n",
    "DELIMITER //\n",
    "CREATE PROCEDURE count_record_sales(IN album_id INT, OUT sales_count INT)\n",
    "BEGIN\n",
    "\tSET @album_id = album_id;\n",
    "    SELECT \n",
    "        COUNT(sale_id) INTO sales_count\n",
    "    FROM RECORD_SALES\n",
    "    WHERE RECORD_SALES.album_id = @album_id;\n",
    "\n",
    "END //\n",
    "DELIMITER ;\n",
    "```\n"
   ],
   "metadata": {
    "collapsed": false
   },
   "id": "d84e8dfdb4e22f29"
  },
  {
   "cell_type": "code",
   "outputs": [
    {
     "name": "stdout",
     "output_type": "stream",
     "text": [
      "Number of sales for album 1 using select statement: 15\n",
      "Number of sales for album 1 using the stored procedure: 15\n"
     ]
    }
   ],
   "source": [
    "import tools.db_utils as dbu\n",
    "with dbu.get_connector() as conn:\n",
    "    with conn.cursor() as cur:\n",
    "        album_id = 1\n",
    "        print(f'Number of sales for album 1 using select statement: {len(dbu.query_to_df(\"select * from record_sales where album_id = 1\", \"sale_id\"))}')\n",
    "        result = cur.callproc('count_record_sales', [album_id, 0])[1]\n",
    "        print(f'Number of sales for album 1 using the stored procedure: {result}')"
   ],
   "metadata": {
    "collapsed": false,
    "ExecuteTime": {
     "end_time": "2024-04-06T18:55:44.979376Z",
     "start_time": "2024-04-06T18:55:44.916274Z"
    }
   },
   "id": "96a6b1381a3a4562",
   "execution_count": 11
  },
  {
   "cell_type": "markdown",
   "source": [
    "### Procedure to get the total sales for all albums\n",
    "```sql\n",
    "DELIMITER //\n",
    "CREATE PROCEDURE total_record_sales(IN album_id INT, OUT total_sales NUMERIC)\n",
    "BEGIN\n",
    "\tSET @album_id = album_id;\n",
    "    SELECT \n",
    "        sum(sale_quantity * unit_sale_price) INTO total_sales\n",
    "    FROM RECORD_SALES\n",
    "    WHERE RECORD_SALES.album_id = @album_id;\n",
    "\n",
    "END //\n",
    "DELIMITER ;\n",
    "```"
   ],
   "metadata": {
    "collapsed": false
   },
   "id": "ecf1d28b7a2dafe2"
  },
  {
   "cell_type": "code",
   "outputs": [
    {
     "name": "stdout",
     "output_type": "stream",
     "text": [
      "Total sales for album 1 using select statement: 150000000.0\n",
      "Total sales for album 1 using the stored procedure: 150000000.0\n"
     ]
    }
   ],
   "source": [
    "import tools.db_utils as dbu\n",
    "with dbu.get_connector() as conn:\n",
    "    with conn.cursor() as cur:\n",
    "        album_id = 1\n",
    "        print(f'Total sales for album 1 using select statement: {dbu.query_to_df(\"select sum(sale_quantity * unit_sale_price) as total_sales from record_sales where album_id = 1\",)[\"total_sales\"].values[0]}')\n",
    "        result = float(cur.callproc('total_record_sales', (album_id, 0))[1])\n",
    "        print(f'Total sales for album 1 using the stored procedure: {result}')"
   ],
   "metadata": {
    "collapsed": false,
    "ExecuteTime": {
     "end_time": "2024-04-06T18:55:52.574150Z",
     "start_time": "2024-04-06T18:55:52.532871Z"
    }
   },
   "id": "f7716bbd0e8040f4",
   "execution_count": 12
  },
  {
   "cell_type": "markdown",
   "source": [
    "### Function to return a summary for an album to include the artist, producer, release date and tracks\n",
    "```sql\n",
    "DELIMITER //\n",
    "CREATE FUNCTION album_summary (album_id int) RETURNS varchar(600)\n",
    "\tREADS SQL DATA\n",
    "BEGIN\n",
    "\tDECLARE done int default false;\n",
    "    DECLARE track_summary varchar(400);\n",
    "\tDECLARE album_summary varchar(200);\n",
    "    DECLARE response_summary varchar(600);\n",
    "\tDECLARE result_cursor CURSOR FOR\n",
    "\t\tSELECT\n",
    "\t\t\tconcat(\" \", t.track_number, \"-\", t.track_name) AS track_summary\n",
    "\t\t\tFROM record_tracks t\n",
    "\t\t\tWHERE t.album_id = album_id\n",
    "\t\t\tORDER BY t.track_number;\n",
    "\tDECLARE CONTINUE HANDLER FOR not found SET done = true;\n",
    "\tSET album_summary = \"\";\n",
    "    SET response_summary = \"\";\n",
    "\tOPEN result_cursor;\n",
    "\tread_loop: LOOP\n",
    "\t\tFETCH result_cursor INTO track_summary;\n",
    "        IF done THEN\n",
    "\t\t\tLEAVE read_loop;\n",
    "\t\tEND IF;\n",
    "        SET response_summary = CONCAT(response_summary, track_summary, \"\\n \");\n",
    "    END LOOP;\n",
    "    CLOSE result_cursor;\n",
    "\tSELECT\n",
    "\t\tconcat(\n",
    "\t\t\tr.album_name, \"\\n \",\n",
    "\t\t\t\"Perfomed by: \", a.artist_name, \"\\n \",\n",
    "            \"Produced by: \", l.record_label_name, \"\\n \",\n",
    "\t\t\t\"Released   : \", r.release_date, \"\\n \"\n",
    "            ) INTO album_summary\n",
    "\t\tFROM record_albums r, record_artists a, record_labels l\n",
    "\t\tWHERE r.album_id = album_id and a.artist_id = r.artist_id and l.record_label_id = r.record_label_id;\n",
    "\tSET response_summary = CONCAT(album_summary, response_summary);\n",
    "    RETURN response_summary;\n",
    "END //\n",
    "DELIMITER ;\n",
    "```"
   ],
   "metadata": {
    "collapsed": false
   },
   "id": "8b3c441b9d028ed1"
  },
  {
   "cell_type": "code",
   "outputs": [
    {
     "name": "stdout",
     "output_type": "stream",
     "text": [
      "Album summary:\n",
      " The Dark Side of the Moon\n",
      " Perfomed by: Pink Floyd\n",
      " Produced by: Harvest Capitol Records\n",
      " Released   : 1973-03-01\n",
      "  1-Speak to Me\n",
      "  2-Breathe (In the Air)\n",
      "  3-On the Run\n",
      "  4-Time\n",
      "  5-The Great Gig in the Sky\n",
      "  6-Money\n",
      "  7-Us and Them\n",
      "  8-Any Colour You Like\n",
      "  9-Brain Damage\n",
      "  10-Eclipse\n",
      " \n"
     ]
    }
   ],
   "source": [
    "import tools.db_utils as dbu\n",
    "with dbu.get_connector() as conn:\n",
    "    with conn.cursor() as cur:\n",
    "        album_id = 1\n",
    "        cur.execute(f'select album_summary(%s)', (album_id,))\n",
    "        result = cur.fetchone()[0]\n",
    "        print(f'Album summary:\\n {result}')"
   ],
   "metadata": {
    "collapsed": false,
    "ExecuteTime": {
     "end_time": "2024-04-06T19:24:20.875398Z",
     "start_time": "2024-04-06T19:24:19.487190Z"
    }
   },
   "id": "26900b6900406456",
   "execution_count": 1
  },
  {
   "cell_type": "markdown",
   "source": [
    "### Trigger DDL"
   ],
   "metadata": {
    "collapsed": false
   },
   "id": "520bd17f1d649d0"
  },
  {
   "cell_type": "markdown",
   "source": [
    "### Trigger to cleanup members_to_artists and albums when an artist is deleted\n",
    "```sql\n",
    "DROP TRIGGER IF EXISTS cleanup_artists;\n",
    "\n",
    "DELIMITER //\n",
    "CREATE TRIGGER cleanup_artists BEFORE DELETE ON record_artists\n",
    "FOR EACH ROW\n",
    "BEGIN\n",
    "    DELETE FROM members_to_artists m WHERE m.artist_id = OLD.artist_id;\n",
    "    UPDATE record_albums r set artist_id = null WHERE r.artist_id = OLD.artist_id;\n",
    "END //\n",
    "DELIMITER ;\n",
    "```"
   ],
   "metadata": {
    "collapsed": false
   },
   "id": "ada3d31c5523231e"
  },
  {
   "cell_type": "code",
   "outputs": [
    {
     "name": "stdout",
     "output_type": "stream",
     "text": [
      "Before delete from record_artists where artist_name = Boston\n"
     ]
    },
    {
     "data": {
      "text/plain": "          artist_name\nartist_id            \n1          Pink Floyd\n2              Boston\n3                Enya",
      "text/html": "<div>\n<style scoped>\n    .dataframe tbody tr th:only-of-type {\n        vertical-align: middle;\n    }\n\n    .dataframe tbody tr th {\n        vertical-align: top;\n    }\n\n    .dataframe thead th {\n        text-align: right;\n    }\n</style>\n<table border=\"1\" class=\"dataframe\">\n  <thead>\n    <tr style=\"text-align: right;\">\n      <th></th>\n      <th>artist_name</th>\n    </tr>\n    <tr>\n      <th>artist_id</th>\n      <th></th>\n    </tr>\n  </thead>\n  <tbody>\n    <tr>\n      <th>1</th>\n      <td>Pink Floyd</td>\n    </tr>\n    <tr>\n      <th>2</th>\n      <td>Boston</td>\n    </tr>\n    <tr>\n      <th>3</th>\n      <td>Enya</td>\n    </tr>\n  </tbody>\n</table>\n</div>"
     },
     "metadata": {},
     "output_type": "display_data"
    },
    {
     "data": {
      "text/plain": "           member_id\nartist_id           \n1                  1\n1                  2\n1                  3\n1                  4\n1                  5\n2                  6\n2                  7\n2                  8\n2                  9\n2                 10\n3                 11",
      "text/html": "<div>\n<style scoped>\n    .dataframe tbody tr th:only-of-type {\n        vertical-align: middle;\n    }\n\n    .dataframe tbody tr th {\n        vertical-align: top;\n    }\n\n    .dataframe thead th {\n        text-align: right;\n    }\n</style>\n<table border=\"1\" class=\"dataframe\">\n  <thead>\n    <tr style=\"text-align: right;\">\n      <th></th>\n      <th>member_id</th>\n    </tr>\n    <tr>\n      <th>artist_id</th>\n      <th></th>\n    </tr>\n  </thead>\n  <tbody>\n    <tr>\n      <th>1</th>\n      <td>1</td>\n    </tr>\n    <tr>\n      <th>1</th>\n      <td>2</td>\n    </tr>\n    <tr>\n      <th>1</th>\n      <td>3</td>\n    </tr>\n    <tr>\n      <th>1</th>\n      <td>4</td>\n    </tr>\n    <tr>\n      <th>1</th>\n      <td>5</td>\n    </tr>\n    <tr>\n      <th>2</th>\n      <td>6</td>\n    </tr>\n    <tr>\n      <th>2</th>\n      <td>7</td>\n    </tr>\n    <tr>\n      <th>2</th>\n      <td>8</td>\n    </tr>\n    <tr>\n      <th>2</th>\n      <td>9</td>\n    </tr>\n    <tr>\n      <th>2</th>\n      <td>10</td>\n    </tr>\n    <tr>\n      <th>3</th>\n      <td>11</td>\n    </tr>\n  </tbody>\n</table>\n</div>"
     },
     "metadata": {},
     "output_type": "display_data"
    },
    {
     "data": {
      "text/plain": "                           artist_id\nalbum_name                          \nThe Dark Side of the Moon          1\nBoston                             2\nWatermark                          3",
      "text/html": "<div>\n<style scoped>\n    .dataframe tbody tr th:only-of-type {\n        vertical-align: middle;\n    }\n\n    .dataframe tbody tr th {\n        vertical-align: top;\n    }\n\n    .dataframe thead th {\n        text-align: right;\n    }\n</style>\n<table border=\"1\" class=\"dataframe\">\n  <thead>\n    <tr style=\"text-align: right;\">\n      <th></th>\n      <th>artist_id</th>\n    </tr>\n    <tr>\n      <th>album_name</th>\n      <th></th>\n    </tr>\n  </thead>\n  <tbody>\n    <tr>\n      <th>The Dark Side of the Moon</th>\n      <td>1</td>\n    </tr>\n    <tr>\n      <th>Boston</th>\n      <td>2</td>\n    </tr>\n    <tr>\n      <th>Watermark</th>\n      <td>3</td>\n    </tr>\n  </tbody>\n</table>\n</div>"
     },
     "metadata": {},
     "output_type": "display_data"
    },
    {
     "name": "stdout",
     "output_type": "stream",
     "text": [
      "After delete from record_artists where artist_name = Boston\n"
     ]
    },
    {
     "data": {
      "text/plain": "          artist_name\nartist_id            \n1          Pink Floyd\n3                Enya",
      "text/html": "<div>\n<style scoped>\n    .dataframe tbody tr th:only-of-type {\n        vertical-align: middle;\n    }\n\n    .dataframe tbody tr th {\n        vertical-align: top;\n    }\n\n    .dataframe thead th {\n        text-align: right;\n    }\n</style>\n<table border=\"1\" class=\"dataframe\">\n  <thead>\n    <tr style=\"text-align: right;\">\n      <th></th>\n      <th>artist_name</th>\n    </tr>\n    <tr>\n      <th>artist_id</th>\n      <th></th>\n    </tr>\n  </thead>\n  <tbody>\n    <tr>\n      <th>1</th>\n      <td>Pink Floyd</td>\n    </tr>\n    <tr>\n      <th>3</th>\n      <td>Enya</td>\n    </tr>\n  </tbody>\n</table>\n</div>"
     },
     "metadata": {},
     "output_type": "display_data"
    },
    {
     "data": {
      "text/plain": "           member_id\nartist_id           \n1                  1\n1                  2\n1                  3\n1                  4\n1                  5\n3                 11",
      "text/html": "<div>\n<style scoped>\n    .dataframe tbody tr th:only-of-type {\n        vertical-align: middle;\n    }\n\n    .dataframe tbody tr th {\n        vertical-align: top;\n    }\n\n    .dataframe thead th {\n        text-align: right;\n    }\n</style>\n<table border=\"1\" class=\"dataframe\">\n  <thead>\n    <tr style=\"text-align: right;\">\n      <th></th>\n      <th>member_id</th>\n    </tr>\n    <tr>\n      <th>artist_id</th>\n      <th></th>\n    </tr>\n  </thead>\n  <tbody>\n    <tr>\n      <th>1</th>\n      <td>1</td>\n    </tr>\n    <tr>\n      <th>1</th>\n      <td>2</td>\n    </tr>\n    <tr>\n      <th>1</th>\n      <td>3</td>\n    </tr>\n    <tr>\n      <th>1</th>\n      <td>4</td>\n    </tr>\n    <tr>\n      <th>1</th>\n      <td>5</td>\n    </tr>\n    <tr>\n      <th>3</th>\n      <td>11</td>\n    </tr>\n  </tbody>\n</table>\n</div>"
     },
     "metadata": {},
     "output_type": "display_data"
    },
    {
     "data": {
      "text/plain": "                           artist_id\nalbum_name                          \nThe Dark Side of the Moon        1.0\nBoston                           NaN\nWatermark                        3.0",
      "text/html": "<div>\n<style scoped>\n    .dataframe tbody tr th:only-of-type {\n        vertical-align: middle;\n    }\n\n    .dataframe tbody tr th {\n        vertical-align: top;\n    }\n\n    .dataframe thead th {\n        text-align: right;\n    }\n</style>\n<table border=\"1\" class=\"dataframe\">\n  <thead>\n    <tr style=\"text-align: right;\">\n      <th></th>\n      <th>artist_id</th>\n    </tr>\n    <tr>\n      <th>album_name</th>\n      <th></th>\n    </tr>\n  </thead>\n  <tbody>\n    <tr>\n      <th>The Dark Side of the Moon</th>\n      <td>1.0</td>\n    </tr>\n    <tr>\n      <th>Boston</th>\n      <td>NaN</td>\n    </tr>\n    <tr>\n      <th>Watermark</th>\n      <td>3.0</td>\n    </tr>\n  </tbody>\n</table>\n</div>"
     },
     "metadata": {},
     "output_type": "display_data"
    }
   ],
   "source": [
    "import tools.db_utils as dbu\n",
    "with dbu.get_connector() as conn:\n",
    "    with conn.cursor() as cur:\n",
    "        print(f'Before delete from record_artists where artist_name = Boston')\n",
    "        display(dbu.query_to_df('select * from record_artists', 'artist_id'))\n",
    "        display(dbu.query_to_df('select artist_id, member_id from members_to_artists', 'artist_id'))\n",
    "        display(dbu.query_to_df('select album_name, artist_id from record_albums', 'album_name'))\n",
    "        cur.execute('delete from record_artists where artist_name = \"Boston\"')\n",
    "        conn.commit()\n",
    "        print(f'After delete from record_artists where artist_name = Boston')\n",
    "        display(dbu.query_to_df('select * from record_artists', 'artist_id'))\n",
    "        display(dbu.query_to_df('select artist_id, member_id from members_to_artists', 'artist_id'))\n",
    "        display(dbu.query_to_df('select album_name, artist_id from record_albums', 'album_name'))"
   ],
   "metadata": {
    "collapsed": false,
    "ExecuteTime": {
     "end_time": "2024-04-07T15:46:24.129989Z",
     "start_time": "2024-04-07T15:46:23.900240Z"
    }
   },
   "id": "c7bbdb194bd29f58",
   "execution_count": 24
  },
  {
   "cell_type": "markdown",
   "source": [
    "### Trigger to cleanup tracks and sales when an album is deleted\n",
    "```sql\n",
    "DROP TRIGGER IF EXISTS cleanup_tracks;\n",
    "\n",
    "DELIMITER //\n",
    "CREATE TRIGGER cleanup_tracks BEFORE DELETE ON record_albums\n",
    "FOR EACH ROW\n",
    "BEGIN\n",
    "    DELETE FROM record_tracks t WHERE t.album_id = OLD.album_id;\n",
    "    DELETE FROM record_sales s WHERE s.album_id = OLD.album_id;\n",
    "END //\n",
    "DELIMITER ;\n",
    "```"
   ],
   "metadata": {
    "collapsed": false
   },
   "id": "118aa3b207fe232"
  },
  {
   "cell_type": "code",
   "outputs": [
    {
     "name": "stdout",
     "output_type": "stream",
     "text": [
      "Before delete from record_albums where album_name = Boston\n"
     ]
    },
    {
     "data": {
      "text/plain": "                           album_id release_date  artist_id  genre_id  \\\nalbum_name                                                              \nThe Dark Side of the Moon         1   1973-03-01        1.0         1   \nBoston                            2   1976-08-25        NaN         1   \nWatermark                         3   1988-09-19        3.0        17   \n\n                           record_label_id  \nalbum_name                                  \nThe Dark Side of the Moon                2  \nBoston                                   1  \nWatermark                                6  ",
      "text/html": "<div>\n<style scoped>\n    .dataframe tbody tr th:only-of-type {\n        vertical-align: middle;\n    }\n\n    .dataframe tbody tr th {\n        vertical-align: top;\n    }\n\n    .dataframe thead th {\n        text-align: right;\n    }\n</style>\n<table border=\"1\" class=\"dataframe\">\n  <thead>\n    <tr style=\"text-align: right;\">\n      <th></th>\n      <th>album_id</th>\n      <th>release_date</th>\n      <th>artist_id</th>\n      <th>genre_id</th>\n      <th>record_label_id</th>\n    </tr>\n    <tr>\n      <th>album_name</th>\n      <th></th>\n      <th></th>\n      <th></th>\n      <th></th>\n      <th></th>\n    </tr>\n  </thead>\n  <tbody>\n    <tr>\n      <th>The Dark Side of the Moon</th>\n      <td>1</td>\n      <td>1973-03-01</td>\n      <td>1.0</td>\n      <td>1</td>\n      <td>2</td>\n    </tr>\n    <tr>\n      <th>Boston</th>\n      <td>2</td>\n      <td>1976-08-25</td>\n      <td>NaN</td>\n      <td>1</td>\n      <td>1</td>\n    </tr>\n    <tr>\n      <th>Watermark</th>\n      <td>3</td>\n      <td>1988-09-19</td>\n      <td>3.0</td>\n      <td>17</td>\n      <td>6</td>\n    </tr>\n  </tbody>\n</table>\n</div>"
     },
     "metadata": {},
     "output_type": "display_data"
    },
    {
     "data": {
      "text/plain": "                            track_name\nalbum_id                              \n1                          Speak to Me\n1                 Breathe (In the Air)\n1                           On the Run\n1                                 Time\n1             The Great Gig in the Sky\n1                                Money\n1                          Us and Them\n1                  Any Colour You Like\n1                         Brain Damage\n1                              Eclipse\n2                  More Than a Feeling\n2                        Peace of Mind\n2                   Foreplay/Long Time\n2                     Rock & Roll Band\n2                               Smokin\n2                         Hitch a Ride\n2                  Something About You\n2         Let Me Take You Home Tonight\n3                            Watermark\n3                      Cursum Perficio\n3                        On Your Shore\n3                     Storms in Africa\n3                                Exile\n3                 Miss Clare Remembers\n3                         Orinoco Flow\n3                        Evening Falls\n3                                River\n3                        The Longships\n3                 Na Laetha Geal M'ige",
      "text/html": "<div>\n<style scoped>\n    .dataframe tbody tr th:only-of-type {\n        vertical-align: middle;\n    }\n\n    .dataframe tbody tr th {\n        vertical-align: top;\n    }\n\n    .dataframe thead th {\n        text-align: right;\n    }\n</style>\n<table border=\"1\" class=\"dataframe\">\n  <thead>\n    <tr style=\"text-align: right;\">\n      <th></th>\n      <th>track_name</th>\n    </tr>\n    <tr>\n      <th>album_id</th>\n      <th></th>\n    </tr>\n  </thead>\n  <tbody>\n    <tr>\n      <th>1</th>\n      <td>Speak to Me</td>\n    </tr>\n    <tr>\n      <th>1</th>\n      <td>Breathe (In the Air)</td>\n    </tr>\n    <tr>\n      <th>1</th>\n      <td>On the Run</td>\n    </tr>\n    <tr>\n      <th>1</th>\n      <td>Time</td>\n    </tr>\n    <tr>\n      <th>1</th>\n      <td>The Great Gig in the Sky</td>\n    </tr>\n    <tr>\n      <th>1</th>\n      <td>Money</td>\n    </tr>\n    <tr>\n      <th>1</th>\n      <td>Us and Them</td>\n    </tr>\n    <tr>\n      <th>1</th>\n      <td>Any Colour You Like</td>\n    </tr>\n    <tr>\n      <th>1</th>\n      <td>Brain Damage</td>\n    </tr>\n    <tr>\n      <th>1</th>\n      <td>Eclipse</td>\n    </tr>\n    <tr>\n      <th>2</th>\n      <td>More Than a Feeling</td>\n    </tr>\n    <tr>\n      <th>2</th>\n      <td>Peace of Mind</td>\n    </tr>\n    <tr>\n      <th>2</th>\n      <td>Foreplay/Long Time</td>\n    </tr>\n    <tr>\n      <th>2</th>\n      <td>Rock &amp; Roll Band</td>\n    </tr>\n    <tr>\n      <th>2</th>\n      <td>Smokin</td>\n    </tr>\n    <tr>\n      <th>2</th>\n      <td>Hitch a Ride</td>\n    </tr>\n    <tr>\n      <th>2</th>\n      <td>Something About You</td>\n    </tr>\n    <tr>\n      <th>2</th>\n      <td>Let Me Take You Home Tonight</td>\n    </tr>\n    <tr>\n      <th>3</th>\n      <td>Watermark</td>\n    </tr>\n    <tr>\n      <th>3</th>\n      <td>Cursum Perficio</td>\n    </tr>\n    <tr>\n      <th>3</th>\n      <td>On Your Shore</td>\n    </tr>\n    <tr>\n      <th>3</th>\n      <td>Storms in Africa</td>\n    </tr>\n    <tr>\n      <th>3</th>\n      <td>Exile</td>\n    </tr>\n    <tr>\n      <th>3</th>\n      <td>Miss Clare Remembers</td>\n    </tr>\n    <tr>\n      <th>3</th>\n      <td>Orinoco Flow</td>\n    </tr>\n    <tr>\n      <th>3</th>\n      <td>Evening Falls</td>\n    </tr>\n    <tr>\n      <th>3</th>\n      <td>River</td>\n    </tr>\n    <tr>\n      <th>3</th>\n      <td>The Longships</td>\n    </tr>\n    <tr>\n      <th>3</th>\n      <td>Na Laetha Geal M'ige</td>\n    </tr>\n  </tbody>\n</table>\n</div>"
     },
     "metadata": {},
     "output_type": "display_data"
    },
    {
     "data": {
      "text/plain": "          sale_id\nalbum_id         \n1               1\n1               2\n1               3\n1               4\n1               5\n1               6\n1               7\n1               8\n1               9\n1              10\n1              11\n1              12\n1              13\n1              14\n1              15\n2              16\n2              17\n2              18\n2              19\n2              20\n2              21\n2              22\n2              23\n2              24\n2              25\n2              26\n2              27\n3              28\n3              29\n3              30\n3              31\n3              32\n3              33\n3              34\n3              35\n3              36\n3              37\n3              38\n3              39\n3              40\n3              41",
      "text/html": "<div>\n<style scoped>\n    .dataframe tbody tr th:only-of-type {\n        vertical-align: middle;\n    }\n\n    .dataframe tbody tr th {\n        vertical-align: top;\n    }\n\n    .dataframe thead th {\n        text-align: right;\n    }\n</style>\n<table border=\"1\" class=\"dataframe\">\n  <thead>\n    <tr style=\"text-align: right;\">\n      <th></th>\n      <th>sale_id</th>\n    </tr>\n    <tr>\n      <th>album_id</th>\n      <th></th>\n    </tr>\n  </thead>\n  <tbody>\n    <tr>\n      <th>1</th>\n      <td>1</td>\n    </tr>\n    <tr>\n      <th>1</th>\n      <td>2</td>\n    </tr>\n    <tr>\n      <th>1</th>\n      <td>3</td>\n    </tr>\n    <tr>\n      <th>1</th>\n      <td>4</td>\n    </tr>\n    <tr>\n      <th>1</th>\n      <td>5</td>\n    </tr>\n    <tr>\n      <th>1</th>\n      <td>6</td>\n    </tr>\n    <tr>\n      <th>1</th>\n      <td>7</td>\n    </tr>\n    <tr>\n      <th>1</th>\n      <td>8</td>\n    </tr>\n    <tr>\n      <th>1</th>\n      <td>9</td>\n    </tr>\n    <tr>\n      <th>1</th>\n      <td>10</td>\n    </tr>\n    <tr>\n      <th>1</th>\n      <td>11</td>\n    </tr>\n    <tr>\n      <th>1</th>\n      <td>12</td>\n    </tr>\n    <tr>\n      <th>1</th>\n      <td>13</td>\n    </tr>\n    <tr>\n      <th>1</th>\n      <td>14</td>\n    </tr>\n    <tr>\n      <th>1</th>\n      <td>15</td>\n    </tr>\n    <tr>\n      <th>2</th>\n      <td>16</td>\n    </tr>\n    <tr>\n      <th>2</th>\n      <td>17</td>\n    </tr>\n    <tr>\n      <th>2</th>\n      <td>18</td>\n    </tr>\n    <tr>\n      <th>2</th>\n      <td>19</td>\n    </tr>\n    <tr>\n      <th>2</th>\n      <td>20</td>\n    </tr>\n    <tr>\n      <th>2</th>\n      <td>21</td>\n    </tr>\n    <tr>\n      <th>2</th>\n      <td>22</td>\n    </tr>\n    <tr>\n      <th>2</th>\n      <td>23</td>\n    </tr>\n    <tr>\n      <th>2</th>\n      <td>24</td>\n    </tr>\n    <tr>\n      <th>2</th>\n      <td>25</td>\n    </tr>\n    <tr>\n      <th>2</th>\n      <td>26</td>\n    </tr>\n    <tr>\n      <th>2</th>\n      <td>27</td>\n    </tr>\n    <tr>\n      <th>3</th>\n      <td>28</td>\n    </tr>\n    <tr>\n      <th>3</th>\n      <td>29</td>\n    </tr>\n    <tr>\n      <th>3</th>\n      <td>30</td>\n    </tr>\n    <tr>\n      <th>3</th>\n      <td>31</td>\n    </tr>\n    <tr>\n      <th>3</th>\n      <td>32</td>\n    </tr>\n    <tr>\n      <th>3</th>\n      <td>33</td>\n    </tr>\n    <tr>\n      <th>3</th>\n      <td>34</td>\n    </tr>\n    <tr>\n      <th>3</th>\n      <td>35</td>\n    </tr>\n    <tr>\n      <th>3</th>\n      <td>36</td>\n    </tr>\n    <tr>\n      <th>3</th>\n      <td>37</td>\n    </tr>\n    <tr>\n      <th>3</th>\n      <td>38</td>\n    </tr>\n    <tr>\n      <th>3</th>\n      <td>39</td>\n    </tr>\n    <tr>\n      <th>3</th>\n      <td>40</td>\n    </tr>\n    <tr>\n      <th>3</th>\n      <td>41</td>\n    </tr>\n  </tbody>\n</table>\n</div>"
     },
     "metadata": {},
     "output_type": "display_data"
    },
    {
     "name": "stdout",
     "output_type": "stream",
     "text": [
      "After delete from record_artists where artist_id = Boston\n"
     ]
    },
    {
     "data": {
      "text/plain": "                           album_id release_date  artist_id  genre_id  \\\nalbum_name                                                              \nThe Dark Side of the Moon         1   1973-03-01          1         1   \nWatermark                         3   1988-09-19          3        17   \n\n                           record_label_id  \nalbum_name                                  \nThe Dark Side of the Moon                2  \nWatermark                                6  ",
      "text/html": "<div>\n<style scoped>\n    .dataframe tbody tr th:only-of-type {\n        vertical-align: middle;\n    }\n\n    .dataframe tbody tr th {\n        vertical-align: top;\n    }\n\n    .dataframe thead th {\n        text-align: right;\n    }\n</style>\n<table border=\"1\" class=\"dataframe\">\n  <thead>\n    <tr style=\"text-align: right;\">\n      <th></th>\n      <th>album_id</th>\n      <th>release_date</th>\n      <th>artist_id</th>\n      <th>genre_id</th>\n      <th>record_label_id</th>\n    </tr>\n    <tr>\n      <th>album_name</th>\n      <th></th>\n      <th></th>\n      <th></th>\n      <th></th>\n      <th></th>\n    </tr>\n  </thead>\n  <tbody>\n    <tr>\n      <th>The Dark Side of the Moon</th>\n      <td>1</td>\n      <td>1973-03-01</td>\n      <td>1</td>\n      <td>1</td>\n      <td>2</td>\n    </tr>\n    <tr>\n      <th>Watermark</th>\n      <td>3</td>\n      <td>1988-09-19</td>\n      <td>3</td>\n      <td>17</td>\n      <td>6</td>\n    </tr>\n  </tbody>\n</table>\n</div>"
     },
     "metadata": {},
     "output_type": "display_data"
    },
    {
     "data": {
      "text/plain": "                        track_name\nalbum_id                          \n1                      Speak to Me\n1             Breathe (In the Air)\n1                       On the Run\n1                             Time\n1         The Great Gig in the Sky\n1                            Money\n1                      Us and Them\n1              Any Colour You Like\n1                     Brain Damage\n1                          Eclipse\n3                        Watermark\n3                  Cursum Perficio\n3                    On Your Shore\n3                 Storms in Africa\n3                            Exile\n3             Miss Clare Remembers\n3                     Orinoco Flow\n3                    Evening Falls\n3                            River\n3                    The Longships\n3             Na Laetha Geal M'ige",
      "text/html": "<div>\n<style scoped>\n    .dataframe tbody tr th:only-of-type {\n        vertical-align: middle;\n    }\n\n    .dataframe tbody tr th {\n        vertical-align: top;\n    }\n\n    .dataframe thead th {\n        text-align: right;\n    }\n</style>\n<table border=\"1\" class=\"dataframe\">\n  <thead>\n    <tr style=\"text-align: right;\">\n      <th></th>\n      <th>track_name</th>\n    </tr>\n    <tr>\n      <th>album_id</th>\n      <th></th>\n    </tr>\n  </thead>\n  <tbody>\n    <tr>\n      <th>1</th>\n      <td>Speak to Me</td>\n    </tr>\n    <tr>\n      <th>1</th>\n      <td>Breathe (In the Air)</td>\n    </tr>\n    <tr>\n      <th>1</th>\n      <td>On the Run</td>\n    </tr>\n    <tr>\n      <th>1</th>\n      <td>Time</td>\n    </tr>\n    <tr>\n      <th>1</th>\n      <td>The Great Gig in the Sky</td>\n    </tr>\n    <tr>\n      <th>1</th>\n      <td>Money</td>\n    </tr>\n    <tr>\n      <th>1</th>\n      <td>Us and Them</td>\n    </tr>\n    <tr>\n      <th>1</th>\n      <td>Any Colour You Like</td>\n    </tr>\n    <tr>\n      <th>1</th>\n      <td>Brain Damage</td>\n    </tr>\n    <tr>\n      <th>1</th>\n      <td>Eclipse</td>\n    </tr>\n    <tr>\n      <th>3</th>\n      <td>Watermark</td>\n    </tr>\n    <tr>\n      <th>3</th>\n      <td>Cursum Perficio</td>\n    </tr>\n    <tr>\n      <th>3</th>\n      <td>On Your Shore</td>\n    </tr>\n    <tr>\n      <th>3</th>\n      <td>Storms in Africa</td>\n    </tr>\n    <tr>\n      <th>3</th>\n      <td>Exile</td>\n    </tr>\n    <tr>\n      <th>3</th>\n      <td>Miss Clare Remembers</td>\n    </tr>\n    <tr>\n      <th>3</th>\n      <td>Orinoco Flow</td>\n    </tr>\n    <tr>\n      <th>3</th>\n      <td>Evening Falls</td>\n    </tr>\n    <tr>\n      <th>3</th>\n      <td>River</td>\n    </tr>\n    <tr>\n      <th>3</th>\n      <td>The Longships</td>\n    </tr>\n    <tr>\n      <th>3</th>\n      <td>Na Laetha Geal M'ige</td>\n    </tr>\n  </tbody>\n</table>\n</div>"
     },
     "metadata": {},
     "output_type": "display_data"
    },
    {
     "data": {
      "text/plain": "          sale_id\nalbum_id         \n1               1\n1               2\n1               3\n1               4\n1               5\n1               6\n1               7\n1               8\n1               9\n1              10\n1              11\n1              12\n1              13\n1              14\n1              15\n3              28\n3              29\n3              30\n3              31\n3              32\n3              33\n3              34\n3              35\n3              36\n3              37\n3              38\n3              39\n3              40\n3              41",
      "text/html": "<div>\n<style scoped>\n    .dataframe tbody tr th:only-of-type {\n        vertical-align: middle;\n    }\n\n    .dataframe tbody tr th {\n        vertical-align: top;\n    }\n\n    .dataframe thead th {\n        text-align: right;\n    }\n</style>\n<table border=\"1\" class=\"dataframe\">\n  <thead>\n    <tr style=\"text-align: right;\">\n      <th></th>\n      <th>sale_id</th>\n    </tr>\n    <tr>\n      <th>album_id</th>\n      <th></th>\n    </tr>\n  </thead>\n  <tbody>\n    <tr>\n      <th>1</th>\n      <td>1</td>\n    </tr>\n    <tr>\n      <th>1</th>\n      <td>2</td>\n    </tr>\n    <tr>\n      <th>1</th>\n      <td>3</td>\n    </tr>\n    <tr>\n      <th>1</th>\n      <td>4</td>\n    </tr>\n    <tr>\n      <th>1</th>\n      <td>5</td>\n    </tr>\n    <tr>\n      <th>1</th>\n      <td>6</td>\n    </tr>\n    <tr>\n      <th>1</th>\n      <td>7</td>\n    </tr>\n    <tr>\n      <th>1</th>\n      <td>8</td>\n    </tr>\n    <tr>\n      <th>1</th>\n      <td>9</td>\n    </tr>\n    <tr>\n      <th>1</th>\n      <td>10</td>\n    </tr>\n    <tr>\n      <th>1</th>\n      <td>11</td>\n    </tr>\n    <tr>\n      <th>1</th>\n      <td>12</td>\n    </tr>\n    <tr>\n      <th>1</th>\n      <td>13</td>\n    </tr>\n    <tr>\n      <th>1</th>\n      <td>14</td>\n    </tr>\n    <tr>\n      <th>1</th>\n      <td>15</td>\n    </tr>\n    <tr>\n      <th>3</th>\n      <td>28</td>\n    </tr>\n    <tr>\n      <th>3</th>\n      <td>29</td>\n    </tr>\n    <tr>\n      <th>3</th>\n      <td>30</td>\n    </tr>\n    <tr>\n      <th>3</th>\n      <td>31</td>\n    </tr>\n    <tr>\n      <th>3</th>\n      <td>32</td>\n    </tr>\n    <tr>\n      <th>3</th>\n      <td>33</td>\n    </tr>\n    <tr>\n      <th>3</th>\n      <td>34</td>\n    </tr>\n    <tr>\n      <th>3</th>\n      <td>35</td>\n    </tr>\n    <tr>\n      <th>3</th>\n      <td>36</td>\n    </tr>\n    <tr>\n      <th>3</th>\n      <td>37</td>\n    </tr>\n    <tr>\n      <th>3</th>\n      <td>38</td>\n    </tr>\n    <tr>\n      <th>3</th>\n      <td>39</td>\n    </tr>\n    <tr>\n      <th>3</th>\n      <td>40</td>\n    </tr>\n    <tr>\n      <th>3</th>\n      <td>41</td>\n    </tr>\n  </tbody>\n</table>\n</div>"
     },
     "metadata": {},
     "output_type": "display_data"
    }
   ],
   "source": [
    "import tools.db_utils as dbu\n",
    "with dbu.get_connector() as conn:\n",
    "    with conn.cursor() as cur:\n",
    "        print(f'Before delete from record_albums where album_name = Boston')\n",
    "        display(dbu.query_to_df('select * from record_albums', 'album_name'))\n",
    "        display(dbu.query_to_df('select album_id, track_name from record_tracks', 'album_id'))\n",
    "        display(dbu.query_to_df('select album_id, sale_id from record_sales', 'album_id'))\n",
    "        cur.execute('delete from record_albums where album_name = \"Boston\"')\n",
    "        conn.commit()\n",
    "        print(f'After delete from record_artists where artist_id = Boston')\n",
    "        display(dbu.query_to_df('select * from record_albums', 'album_name'))\n",
    "        display(dbu.query_to_df('select album_id, track_name from record_tracks', 'album_id'))\n",
    "        display(dbu.query_to_df('select album_id, sale_id from record_sales', 'album_id'))"
   ],
   "metadata": {
    "collapsed": false,
    "ExecuteTime": {
     "end_time": "2024-04-07T15:51:24.222729Z",
     "start_time": "2024-04-07T15:51:24.018635Z"
    }
   },
   "id": "9cc257e29d5ad268",
   "execution_count": 28
  },
  {
   "cell_type": "markdown",
   "source": [
    "## Normalization"
   ],
   "metadata": {
    "collapsed": false
   },
   "id": "cbe9bbebe423f68"
  },
  {
   "cell_type": "markdown",
   "source": [
    "## Integrity Enforcement"
   ],
   "metadata": {
    "collapsed": false
   },
   "id": "f072429fbc8d26a1"
  },
  {
   "cell_type": "markdown",
   "source": [
    "## Isolation Level"
   ],
   "metadata": {
    "collapsed": false
   },
   "id": "d212c9a878b5dc26"
  },
  {
   "cell_type": "markdown",
   "source": [
    "## Forms\n",
    "- Table Updates\n",
    "- Table Deletes\n",
    "- Selects"
   ],
   "metadata": {
    "collapsed": false
   },
   "id": "7a6e5e3a4e379fbe"
  },
  {
   "cell_type": "markdown",
   "source": [
    "### Table Inserts"
   ],
   "metadata": {
    "collapsed": false
   },
   "id": "b2675d6d733c5cea"
  },
  {
   "cell_type": "code",
   "outputs": [
    {
     "data": {
      "text/plain": "          genre_name genre_description\ngenre_id                              \n39        TEST Genre       A new genre",
      "text/html": "<div>\n<style scoped>\n    .dataframe tbody tr th:only-of-type {\n        vertical-align: middle;\n    }\n\n    .dataframe tbody tr th {\n        vertical-align: top;\n    }\n\n    .dataframe thead th {\n        text-align: right;\n    }\n</style>\n<table border=\"1\" class=\"dataframe\">\n  <thead>\n    <tr style=\"text-align: right;\">\n      <th></th>\n      <th>genre_name</th>\n      <th>genre_description</th>\n    </tr>\n    <tr>\n      <th>genre_id</th>\n      <th></th>\n      <th></th>\n    </tr>\n  </thead>\n  <tbody>\n    <tr>\n      <th>39</th>\n      <td>TEST Genre</td>\n      <td>A new genre</td>\n    </tr>\n  </tbody>\n</table>\n</div>"
     },
     "metadata": {},
     "output_type": "display_data"
    }
   ],
   "source": [
    "import tools.db_utils as dbu\n",
    "from business_objects.record_genres_sql import RecordGenre\n",
    "\n",
    "# Setup\n",
    "test_genre_name = 'TEST Genre'\n",
    "RecordGenre.delete_by_name(test_genre_name)\n",
    "# Insert\n",
    "new_record = RecordGenre.create(genre_name=test_genre_name, genre_description='A new genre')\n",
    "display(dbu.query_to_df(f\"select * from record_genres where genre_name = '{test_genre_name}'\",  'genre_id'))\n",
    "# Cleanup\n",
    "RecordGenre.delete_by_name(test_genre_name)"
   ],
   "metadata": {
    "collapsed": false,
    "ExecuteTime": {
     "end_time": "2024-04-06T19:27:07.973902Z",
     "start_time": "2024-04-06T19:27:07.884870Z"
    }
   },
   "id": "c153f36a3a0592a7",
   "execution_count": 6
  },
  {
   "cell_type": "markdown",
   "source": [
    "### Table Reads"
   ],
   "metadata": {
    "collapsed": false
   },
   "id": "51a4626744f1edb7"
  },
  {
   "cell_type": "code",
   "outputs": [
    {
     "name": "stdout",
     "output_type": "stream",
     "text": [
      "Read all genres\n",
      "RecordGenre(genre_id=1, genre_name='Rock', genre_description='Rock music')\n",
      "RecordGenre(genre_id=2, genre_name='Pop', genre_description='Pop music')\n",
      "RecordGenre(genre_id=3, genre_name='Rap', genre_description='Rap music')\n",
      "RecordGenre(genre_id=4, genre_name='Country', genre_description='Country music')\n",
      "RecordGenre(genre_id=5, genre_name='Jazz', genre_description='Jazz music')\n",
      "Read by id: 5\n",
      "RecordGenre(genre_id=5, genre_name='Jazz', genre_description='Jazz music')\n",
      "Read by name: Country\n",
      "RecordGenre(genre_id=4, genre_name='Country', genre_description='Country music')\n"
     ]
    }
   ],
   "source": [
    "from business_objects.record_genres_sql import RecordGenre\n",
    "print(f'Read all genres')\n",
    "for genre in RecordGenre.read_all()[:5]:\n",
    "    print(genre)\n",
    "    \n",
    "print(f'Read by id: 5')\n",
    "print(RecordGenre.read(5))\n",
    "print(f'Read by name: Country')\n",
    "print(RecordGenre.read_by_name('Country'))"
   ],
   "metadata": {
    "collapsed": false,
    "ExecuteTime": {
     "end_time": "2024-04-06T19:38:10.314190Z",
     "start_time": "2024-04-06T19:38:10.270372Z"
    }
   },
   "id": "a14c1f2d0115e1d4",
   "execution_count": 17
  },
  {
   "cell_type": "markdown",
   "source": [
    "### Table Updates"
   ],
   "metadata": {
    "collapsed": false
   },
   "id": "3fd129f6fa508c47"
  },
  {
   "cell_type": "code",
   "outputs": [
    {
     "data": {
      "text/plain": "          genre_name genre_description\ngenre_id                              \n50        TEST Genre       A new genre",
      "text/html": "<div>\n<style scoped>\n    .dataframe tbody tr th:only-of-type {\n        vertical-align: middle;\n    }\n\n    .dataframe tbody tr th {\n        vertical-align: top;\n    }\n\n    .dataframe thead th {\n        text-align: right;\n    }\n</style>\n<table border=\"1\" class=\"dataframe\">\n  <thead>\n    <tr style=\"text-align: right;\">\n      <th></th>\n      <th>genre_name</th>\n      <th>genre_description</th>\n    </tr>\n    <tr>\n      <th>genre_id</th>\n      <th></th>\n      <th></th>\n    </tr>\n  </thead>\n  <tbody>\n    <tr>\n      <th>50</th>\n      <td>TEST Genre</td>\n      <td>A new genre</td>\n    </tr>\n  </tbody>\n</table>\n</div>"
     },
     "metadata": {},
     "output_type": "display_data"
    },
    {
     "name": "stdout",
     "output_type": "stream",
     "text": [
      "Record to update: RecordGenre(genre_id=50, genre_name='Updated Genre', genre_description='An updated genre')\n"
     ]
    },
    {
     "data": {
      "text/plain": "             genre_name genre_description\ngenre_id                                 \n50        Updated Genre  An updated genre",
      "text/html": "<div>\n<style scoped>\n    .dataframe tbody tr th:only-of-type {\n        vertical-align: middle;\n    }\n\n    .dataframe tbody tr th {\n        vertical-align: top;\n    }\n\n    .dataframe thead th {\n        text-align: right;\n    }\n</style>\n<table border=\"1\" class=\"dataframe\">\n  <thead>\n    <tr style=\"text-align: right;\">\n      <th></th>\n      <th>genre_name</th>\n      <th>genre_description</th>\n    </tr>\n    <tr>\n      <th>genre_id</th>\n      <th></th>\n      <th></th>\n    </tr>\n  </thead>\n  <tbody>\n    <tr>\n      <th>50</th>\n      <td>Updated Genre</td>\n      <td>An updated genre</td>\n    </tr>\n  </tbody>\n</table>\n</div>"
     },
     "metadata": {},
     "output_type": "display_data"
    }
   ],
   "source": [
    "from business_objects.record_genres_sql import RecordGenre\n",
    "\n",
    "# Setup\n",
    "test_genre_name = 'TEST Genre'\n",
    "updated_genre_name = 'Updated Genre'\n",
    "RecordGenre.delete_by_name(test_genre_name)\n",
    "RecordGenre.delete_by_name(updated_genre_name)\n",
    "new_record = RecordGenre.create(genre_name=test_genre_name, genre_description='A new genre')\n",
    "display(dbu.query_to_df(f\"select * from record_genres where genre_name = '{test_genre_name}'\",  'genre_id'))\n",
    "# Update\n",
    "new_record.genre_name = updated_genre_name\n",
    "new_record.genre_description = 'An updated genre'\n",
    "print(f'Record to update: {new_record}')\n",
    "new_record.update()\n",
    "display(dbu.query_to_df(f\"select * from record_genres where genre_name = '{updated_genre_name}'\",  'genre_id'))\n",
    "# Cleanup\n",
    "RecordGenre.delete_by_name(test_genre_name)\n",
    "RecordGenre.delete_by_name(updated_genre_name)"
   ],
   "metadata": {
    "collapsed": false,
    "ExecuteTime": {
     "end_time": "2024-04-06T19:38:15.234458Z",
     "start_time": "2024-04-06T19:38:15.073313Z"
    }
   },
   "id": "c138a6e4be9e036",
   "execution_count": 18
  },
  {
   "cell_type": "markdown",
   "source": [
    "### Table Deletes"
   ],
   "metadata": {
    "collapsed": false
   },
   "id": "18ec8f7c74d802c7"
  },
  {
   "cell_type": "code",
   "outputs": [
    {
     "name": "stdout",
     "output_type": "stream",
     "text": [
      "Created record: 51\n"
     ]
    },
    {
     "data": {
      "text/plain": "          genre_name genre_description\ngenre_id                              \n51        TEST Genre       A new genre",
      "text/html": "<div>\n<style scoped>\n    .dataframe tbody tr th:only-of-type {\n        vertical-align: middle;\n    }\n\n    .dataframe tbody tr th {\n        vertical-align: top;\n    }\n\n    .dataframe thead th {\n        text-align: right;\n    }\n</style>\n<table border=\"1\" class=\"dataframe\">\n  <thead>\n    <tr style=\"text-align: right;\">\n      <th></th>\n      <th>genre_name</th>\n      <th>genre_description</th>\n    </tr>\n    <tr>\n      <th>genre_id</th>\n      <th></th>\n      <th></th>\n    </tr>\n  </thead>\n  <tbody>\n    <tr>\n      <th>51</th>\n      <td>TEST Genre</td>\n      <td>A new genre</td>\n    </tr>\n  </tbody>\n</table>\n</div>"
     },
     "metadata": {},
     "output_type": "display_data"
    },
    {
     "name": "stdout",
     "output_type": "stream",
     "text": [
      "After delete by id: 51\n"
     ]
    },
    {
     "data": {
      "text/plain": "Empty DataFrame\nColumns: [genre_name, genre_description]\nIndex: []",
      "text/html": "<div>\n<style scoped>\n    .dataframe tbody tr th:only-of-type {\n        vertical-align: middle;\n    }\n\n    .dataframe tbody tr th {\n        vertical-align: top;\n    }\n\n    .dataframe thead th {\n        text-align: right;\n    }\n</style>\n<table border=\"1\" class=\"dataframe\">\n  <thead>\n    <tr style=\"text-align: right;\">\n      <th></th>\n      <th>genre_name</th>\n      <th>genre_description</th>\n    </tr>\n    <tr>\n      <th>genre_id</th>\n      <th></th>\n      <th></th>\n    </tr>\n  </thead>\n  <tbody>\n  </tbody>\n</table>\n</div>"
     },
     "metadata": {},
     "output_type": "display_data"
    },
    {
     "name": "stdout",
     "output_type": "stream",
     "text": [
      "Created record: 52\n"
     ]
    },
    {
     "data": {
      "text/plain": "          genre_name genre_description\ngenre_id                              \n52        TEST Genre       A new genre",
      "text/html": "<div>\n<style scoped>\n    .dataframe tbody tr th:only-of-type {\n        vertical-align: middle;\n    }\n\n    .dataframe tbody tr th {\n        vertical-align: top;\n    }\n\n    .dataframe thead th {\n        text-align: right;\n    }\n</style>\n<table border=\"1\" class=\"dataframe\">\n  <thead>\n    <tr style=\"text-align: right;\">\n      <th></th>\n      <th>genre_name</th>\n      <th>genre_description</th>\n    </tr>\n    <tr>\n      <th>genre_id</th>\n      <th></th>\n      <th></th>\n    </tr>\n  </thead>\n  <tbody>\n    <tr>\n      <th>52</th>\n      <td>TEST Genre</td>\n      <td>A new genre</td>\n    </tr>\n  </tbody>\n</table>\n</div>"
     },
     "metadata": {},
     "output_type": "display_data"
    },
    {
     "name": "stdout",
     "output_type": "stream",
     "text": [
      "After delete by name: TEST Genre\n"
     ]
    },
    {
     "data": {
      "text/plain": "Empty DataFrame\nColumns: [genre_name, genre_description]\nIndex: []",
      "text/html": "<div>\n<style scoped>\n    .dataframe tbody tr th:only-of-type {\n        vertical-align: middle;\n    }\n\n    .dataframe tbody tr th {\n        vertical-align: top;\n    }\n\n    .dataframe thead th {\n        text-align: right;\n    }\n</style>\n<table border=\"1\" class=\"dataframe\">\n  <thead>\n    <tr style=\"text-align: right;\">\n      <th></th>\n      <th>genre_name</th>\n      <th>genre_description</th>\n    </tr>\n    <tr>\n      <th>genre_id</th>\n      <th></th>\n      <th></th>\n    </tr>\n  </thead>\n  <tbody>\n  </tbody>\n</table>\n</div>"
     },
     "metadata": {},
     "output_type": "display_data"
    }
   ],
   "source": [
    "from business_objects.record_genres_sql import RecordGenre\n",
    "\n",
    "# Setup\n",
    "test_genre_name = 'TEST Genre'\n",
    "RecordGenre.delete_by_name(test_genre_name)\n",
    "new_record = RecordGenre.create(genre_name=test_genre_name, genre_description='A new genre')\n",
    "print(f'Created record: {new_record.genre_id}')\n",
    "display(dbu.query_to_df(f\"select * from record_genres where genre_name = '{test_genre_name}'\",  'genre_id'))\n",
    "# Delete by id\n",
    "new_record.delete()\n",
    "print(f'After delete by id: {new_record.genre_id}')\n",
    "display(dbu.query_to_df(f\"select * from record_genres where genre_id = '{new_record.genre_id}'\",  'genre_id'))\n",
    "# Delete by name\n",
    "new_record = RecordGenre.create(genre_name=test_genre_name, genre_description='A new genre')\n",
    "print(f'Created record: {new_record.genre_id}')\n",
    "display(dbu.query_to_df(f\"select * from record_genres where genre_name = '{test_genre_name}'\",  'genre_id'))\n",
    "RecordGenre.delete_by_name(new_record.genre_name)\n",
    "print(f'After delete by name: {new_record.genre_name}')\n",
    "display(dbu.query_to_df(f\"select * from record_genres where genre_name = '{test_genre_name}'\",  'genre_id'))"
   ],
   "metadata": {
    "collapsed": false,
    "ExecuteTime": {
     "end_time": "2024-04-06T19:38:21.276495Z",
     "start_time": "2024-04-06T19:38:21.037285Z"
    }
   },
   "id": "c96203dfc5144e79",
   "execution_count": 19
  },
  {
   "cell_type": "markdown",
   "source": [
    "## Reports"
   ],
   "metadata": {
    "collapsed": false
   },
   "id": "7f0a44b30506f23f"
  },
  {
   "cell_type": "markdown",
   "source": [],
   "metadata": {
    "collapsed": false
   },
   "id": "ff26f9c83011cb67"
  }
 ],
 "metadata": {
  "kernelspec": {
   "display_name": "Python 3",
   "language": "python",
   "name": "python3"
  },
  "language_info": {
   "codemirror_mode": {
    "name": "ipython",
    "version": 2
   },
   "file_extension": ".py",
   "mimetype": "text/x-python",
   "name": "python",
   "nbconvert_exporter": "python",
   "pygments_lexer": "ipython2",
   "version": "2.7.6"
  }
 },
 "nbformat": 4,
 "nbformat_minor": 5
}
