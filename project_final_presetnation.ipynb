{
 "cells": [
  {
   "cell_type": "markdown",
   "source": [
    "# Project Part 3: Final Presentation\n",
    "\n",
    "### CS-GY 6083 Principals of Database Systems - Spring 2024\n",
    "\n",
    "* **Author**: [Nicola Maiorana]\n",
    "* **Date**: [2024-04-14]\n",
    "* **Email**: [nam10102@nyu.edu]\n",
    "* **Class**: [CS-GY 6083]\n",
    "---\n",
    "\n",
    "## Overview of Presentation\n",
    "- Project Overview\n",
    "- IDE And Presentation Tools\n",
    "- Code\n",
    "    - ER Diagram\n",
    "    - Tables DDL (8 Tables)\n",
    "    - Views DDL (3 Views)\n",
    "    - Procedures DDL (2 Procedures)\n",
    "    - Functions DDL (2 Functions)\n",
    "    - Triggers DDL (2 Triggers)\n",
    "    - Business Objects (8 Classes)\n",
    "- Forms\n",
    "    - Table Inserts\n",
    "    - Table Deletes\n",
    "    - Selects\n",
    "- Reports\n",
    "    - Total Sales\n",
    "    - Total Units Sold\n",
    "---\n",
    "\n",
    "## Project Overview\n",
    "- MySQL Database\n",
    "- Python\n",
    "- 2-Tier Architecture\n",
    "- Record Album Information:\n",
    "    - Album Name, Recording Date, Artists, Record Label, Genre, Sales Information\n",
    "    - Supporting Tables:\n",
    "        - Artist, Genre, Record Label, Album, Track, Sales Tables\n",
    "- Business Objects:\n",
    "    - RecordArtist, RecordGenre, RecordLabel, RecordAlbum, RecordTrack, RecordSale, GroupMember, MembersToArtists\n",
    "    - CRUD Operations:\n",
    "        - Create, Read, Update, Delete\n",
    "    - Helper Operations:\n",
    "        - Read All, Read By Id, Read By Name, Add Member, Remove Member, ...\n",
    "\n",
    "- Forms Demonstration:\n",
    "    - Record Album Manager\n",
    "    - Record Tracks Manager\n",
    "\n",
    "---"
   ],
   "metadata": {
    "collapsed": false
   },
   "id": "951da5f18e32d8cf"
  },
  {
   "cell_type": "code",
   "outputs": [],
   "source": [
    "import tools.db_utils as dbu\n",
    "import tools.mermaid_diagrams as md"
   ],
   "metadata": {
    "collapsed": false,
    "ExecuteTime": {
     "end_time": "2024-04-25T00:38:25.501588Z",
     "start_time": "2024-04-25T00:38:23.371592Z"
    }
   },
   "id": "ffc8dc8e0896d0c1",
   "execution_count": 1
  },
  {
   "cell_type": "markdown",
   "source": [
    "### Import required modules\n",
    "\n",
    "- tools.db_utils: Contains the database connection and query functions\n",
    "- tools.mermaid_diagrams: Allows for the creation of Mermaid diagrams"
   ],
   "metadata": {
    "collapsed": false
   },
   "id": "495f7142cff2f921"
  },
  {
   "cell_type": "markdown",
   "source": [
    "## Code"
   ],
   "metadata": {
    "collapsed": false
   },
   "id": "77c1a0a004b37417"
  },
  {
   "cell_type": "markdown",
   "source": [
    "### ER Diagram\n",
    "- Normalization\n",
    "- Integrity Enforcement Used (Where/Why)\n",
    "- Isolation Level Used (Where/Why)"
   ],
   "metadata": {
    "collapsed": false
   },
   "id": "4ce118c0c5bcda92"
  },
  {
   "cell_type": "code",
   "outputs": [
    {
     "data": {
      "text/html": "<img src=\"https://mermaid.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\"/>",
      "text/plain": "<IPython.core.display.Image object>"
     },
     "metadata": {},
     "output_type": "display_data"
    }
   ],
   "source": [
    "md.mm(md.er_diargram)"
   ],
   "metadata": {
    "collapsed": false,
    "ExecuteTime": {
     "end_time": "2024-04-25T00:38:30.084335Z",
     "start_time": "2024-04-25T00:38:30.070265Z"
    }
   },
   "id": "143a08af7868dc59",
   "execution_count": 2
  },
  {
   "cell_type": "markdown",
   "source": [
    "---\n",
    "## Tables DDL\n",
    "- Record Artists\n",
    "- Group Members\n",
    "- Members To Artists\n",
    "- Record Genres\n",
    "- Record Labels\n",
    "- Record Albums\n",
    "- Record Tracks\n",
    "- Record Sales\n",
    "```sql\n",
    "CREATE TABLE RECORD_ARTISTS (\n",
    "    artist_id int NOT NULL AUTO_INCREMENT,\n",
    "    artist_name varchar(40),\n",
    "    PRIMARY KEY (artist_id)\n",
    ");\n",
    "\n",
    "CREATE TABLE GROUP_MEMBERS (\n",
    "    member_id int NOT NULL AUTO_INCREMENT,\n",
    "    member_name varchar(40),\n",
    "    member_country varchar(40),\n",
    "    member_birthdate date,\n",
    "    PRIMARY KEY (member_id)\n",
    ");\n",
    "\n",
    "CREATE TABLE MEMBERS_TO_ARTISTS (\n",
    "    members_to_artists_id int NOT NULL AUTO_INCREMENT,\n",
    "    member_id int,\n",
    "    artist_id int,\n",
    "    member_from_date date,\n",
    "    member_to_date date,\n",
    "    PRIMARY KEY (members_to_artists_id),\n",
    "    FOREIGN KEY (member_id) REFERENCES GROUP_MEMBERS(member_id),\n",
    "    FOREIGN KEY (artist_id) REFERENCES RECORD_ARTISTS(artist_id)\n",
    ");\n",
    "\n",
    "CREATE TABLE RECORD_GENRES (\n",
    "    genre_id int NOT NULL AUTO_INCREMENT,\n",
    "    genre_name varchar(40),\n",
    "    genre_description varchar(255),\n",
    "    PRIMARY KEY (genre_id),\n",
    "    UNIQUE (genre_name)\n",
    ");\n",
    "\n",
    "CREATE TABLE RECORD_LABELS (\n",
    "    record_label_id int NOT NULL AUTO_INCREMENT,\n",
    "    record_label_name varchar(50),\n",
    "    PRIMARY KEY (record_label_id),\n",
    "    UNIQUE (record_label_name)\n",
    ");\n",
    "\n",
    "CREATE TABLE RECORD_ALBUMS (\n",
    "    album_id int NOT NULL AUTO_INCREMENT,\n",
    "    album_name varchar(50),\n",
    "    release_date date,\n",
    "    artist_id int,\n",
    "    genre_id int,\n",
    "    record_label_id int,\n",
    "    PRIMARY KEY (album_id),\n",
    "    FOREIGN KEY (artist_id) REFERENCES RECORD_ARTISTS(artist_id),\n",
    "    FOREIGN KEY (genre_id) REFERENCES RECORD_GENRES(genre_id),\n",
    "    FOREIGN KEY (record_label_id) REFERENCES RECORD_LABELS(record_label_id),\n",
    "    UNIQUE (album_name, release_date)\n",
    ");\n",
    "\n",
    "CREATE TABLE RECORD_TRACKS (\n",
    "    track_id int NOT NULL AUTO_INCREMENT,\n",
    "    album_id int,\n",
    "    track_name varchar(40),\n",
    "    track_number int,\n",
    "    genre_id int,\n",
    "    PRIMARY KEY (track_id),\n",
    "    FOREIGN KEY (album_id) REFERENCES RECORD_ALBUMS(album_id),\n",
    "    FOREIGN KEY (genre_id) REFERENCES RECORD_GENRES(genre_id),\n",
    "    UNIQUE (album_id, track_number)\n",
    ");\n",
    "\n",
    "CREATE TABLE RECORD_SALES (\n",
    "    sale_id int NOT NULL AUTO_INCREMENT,\n",
    "    album_id int,\n",
    "    sale_date date,\n",
    "    sale_quantity int,\n",
    "    unit_sale_price decimal,\n",
    "    PRIMARY KEY (sale_id),\n",
    "    FOREIGN KEY (album_id) REFERENCES RECORD_ALBUMS(album_id)\n",
    ");\n",
    "```"
   ],
   "metadata": {
    "collapsed": false
   },
   "id": "8787087bc4a6ec93"
  },
  {
   "cell_type": "markdown",
   "source": [
    "### Database Utility Functions\n",
    "\n",
    "- Query DB and return a pandas DataFrame"
   ],
   "metadata": {
    "collapsed": false
   },
   "id": "85e88a6fa370910b"
  },
  {
   "cell_type": "code",
   "outputs": [],
   "source": [
    "import tools.db_utils as dbu\n",
    "pandas_index_settings = ['album_id']\n",
    "display(dbu.query_to_df(('select '\n",
    "                            'rec.album_id, '\n",
    "                            'rec.album_name, '\n",
    "                            'ra.artist_name, '\n",
    "                            'rg.genre_name, '\n",
    "                            'rg.genre_description, '\n",
    "                            'rl.record_label_name '\n",
    "                            'from record_albums rec '\n",
    "                            'JOIN record_artists ra ON ra.artist_id = rec.artist_id '\n",
    "                            'JOIN record_genres rg ON rg.genre_id = rec.genre_id '\n",
    "                            'JOIN record_labels rl ON rl.record_label_id = rec.record_label_id'), pandas_index_settings))"
   ],
   "metadata": {
    "collapsed": false
   },
   "id": "235f67810f64c2bd",
   "execution_count": null
  },
  {
   "cell_type": "markdown",
   "source": [
    "___\n",
    "### Views DDL\n",
    "- Album Information\n",
    "- Album Information Details\n",
    "- Band Members"
   ],
   "metadata": {
    "collapsed": false
   },
   "id": "33e9c58f3eb52dcd"
  },
  {
   "cell_type": "markdown",
   "source": [
    "#### Album Information View\n",
    "```sql\n",
    "CREATE VIEW album_information AS\n",
    "    SELECT\n",
    "        RECORD_ALBUMS.album_name,\n",
    "        RECORD_ARTISTS.artist_name,\n",
    "        RECORD_GENRES.genre_name,\n",
    "        RECORD_LABELS.record_label_name,\n",
    "        RECORD_ALBUMS.release_date\n",
    "    FROM\n",
    "        RECORD_ALBUMS\n",
    "    JOIN RECORD_ARTISTS ON RECORD_ALBUMS.artist_id = RECORD_ARTISTS.artist_id\n",
    "    JOIN RECORD_LABELS ON RECORD_ALBUMS.record_label_id = RECORD_LABELS.record_label_id\n",
    "    JOIN RECORD_GENRES ON RECORD_ALBUMS.genre_id = RECORD_GENRES.genre_id;\n",
    "```"
   ],
   "metadata": {
    "collapsed": false
   },
   "id": "42e2bdd3a165f825"
  },
  {
   "cell_type": "code",
   "outputs": [],
   "source": [
    "import tools.db_utils as dbu\n",
    "pandas_index_settings = ['album_name']\n",
    "display(dbu.query_to_df('select * from album_information order by release_date', pandas_index_settings))"
   ],
   "metadata": {
    "collapsed": false
   },
   "id": "65f47a06753e3895",
   "execution_count": null
  },
  {
   "cell_type": "markdown",
   "source": [
    "#### Album Information Details View\n",
    "```sql\n",
    "CREATE VIEW album_information_details AS\n",
    "    SELECT\n",
    "        RECORD_ALBUMS.album_name,\n",
    "        RECORD_ARTISTS.artist_name,\n",
    "        record_genres.genre_name,\n",
    "        RECORD_LABELS.record_label_name,\n",
    "        RECORD_TRACKS.track_number,\n",
    "        RECORD_TRACKS.track_name,\n",
    "        RECORD_ALBUMS.release_date\n",
    "    FROM\n",
    "        RECORD_ALBUMS\n",
    "    JOIN RECORD_ARTISTS ON RECORD_ALBUMS.artist_id = RECORD_ARTISTS.artist_id\n",
    "    JOIN RECORD_LABELS ON RECORD_ALBUMS.record_label_id = RECORD_LABELS.record_label_id\n",
    "    JOIN RECORD_TRACKS ON RECORD_ALBUMS.album_id = RECORD_TRACKS.album_id\n",
    "    JOIN RECORD_GENRES ON RECORD_TRACKS.genre_id = RECORD_GENRES.genre_id\n",
    "ORDER BY\n",
    "    RECORD_ALBUMS.album_name, RECORD_TRACKS.track_number;\n",
    "```"
   ],
   "metadata": {
    "collapsed": false
   },
   "id": "1db5def01defea6d"
  },
  {
   "cell_type": "code",
   "outputs": [],
   "source": [
    "import tools.db_utils as dbu\n",
    "pandas_index_settings = ['album_name', 'release_date', 'artist_name', 'record_label_name', 'track_number']\n",
    "display(dbu.query_to_df('select * from album_information_details order by release_date', pandas_index_settings))"
   ],
   "metadata": {
    "collapsed": false
   },
   "id": "41aa6f2562d2b194",
   "execution_count": null
  },
  {
   "cell_type": "markdown",
   "source": [
    "#### Band Members View\n",
    "```sql\n",
    "CREATE VIEW band_members AS\n",
    "    SELECT\n",
    "        RECORD_ARTISTS.artist_name,\n",
    "        GROUP_MEMBERS.member_name,\n",
    "        GROUP_MEMBERS.member_country,\n",
    "        MEMBERS_TO_ARTISTS.member_from_date,\n",
    "        MEMBERS_TO_ARTISTS.member_to_date\n",
    "    FROM\n",
    "        RECORD_ARTISTS\n",
    "    JOIN MEMBERS_TO_ARTISTS ON RECORD_ARTISTS.artist_id = MEMBERS_TO_ARTISTS.artist_id\n",
    "    JOIN GROUP_MEMBERS ON MEMBERS_TO_ARTISTS.member_id = GROUP_MEMBERS.member_id;\n",
    "```"
   ],
   "metadata": {
    "collapsed": false
   },
   "id": "dc359e7ae7a11be8"
  },
  {
   "cell_type": "code",
   "outputs": [],
   "source": [
    "import tools.db_utils as dbu\n",
    "pandas_index_settings = ['artist_name', 'member_name']\n",
    "display(dbu.query_to_df('select * from band_members order by artist_name, member_name', pandas_index_settings))"
   ],
   "metadata": {
    "collapsed": false
   },
   "id": "cc720d770229fcb5",
   "execution_count": null
  },
  {
   "cell_type": "markdown",
   "source": [
    "___\n",
    "### Procedures DDL\n",
    "- Count Record Sales\n",
    "- Total Record Sales"
   ],
   "metadata": {
    "collapsed": false
   },
   "id": "86cfe06440130437"
  },
  {
   "cell_type": "markdown",
   "source": [
    "\n",
    "### Procedure to count the number of sales for a given album\n",
    "```\n",
    "DELIMITER //\n",
    "CREATE PROCEDURE count_record_sales(IN album_id INT, OUT sales_count INT)\n",
    "BEGIN\n",
    "\tSET @album_id = album_id;\n",
    "    SELECT \n",
    "        COUNT(sale_id) INTO sales_count\n",
    "    FROM RECORD_SALES\n",
    "    WHERE RECORD_SALES.album_id = @album_id;\n",
    "\n",
    "END //\n",
    "DELIMITER ;\n",
    "```\n"
   ],
   "metadata": {
    "collapsed": false
   },
   "id": "d84e8dfdb4e22f29"
  },
  {
   "cell_type": "code",
   "outputs": [],
   "source": [
    "import tools.db_utils as dbu\n",
    "from business_objects.record_album_sql import RecordAlbum\n",
    "from business_objects.record_sales_sql import RecordSales\n",
    "with dbu.get_connector() as conn:\n",
    "    with conn.cursor() as cur:\n",
    "        record_album = RecordAlbum.read_by_name(\"Boston\")\n",
    "        all_sales = RecordSales.read_by_album_id(record_album.album_id)\n",
    "        print(f'Number of sales for album {record_album.album_name} using select statement    : {len(all_sales)}')\n",
    "        result = cur.callproc('count_record_sales', [record_album.album_id, 0])[1]\n",
    "        print(f'Number of sales for album {record_album.album_name} using the stored procedure: {result}')"
   ],
   "metadata": {
    "collapsed": false
   },
   "id": "96a6b1381a3a4562",
   "execution_count": null
  },
  {
   "cell_type": "markdown",
   "source": [
    "### Procedure to get the total sales for all albums\n",
    "```sql\n",
    "DELIMITER //\n",
    "CREATE PROCEDURE total_record_sales(IN album_id INT, OUT total_sales NUMERIC)\n",
    "BEGIN\n",
    "\tSET @album_id = album_id;\n",
    "    SELECT \n",
    "        sum(sale_quantity * unit_sale_price) INTO total_sales\n",
    "    FROM RECORD_SALES\n",
    "    WHERE RECORD_SALES.album_id = @album_id;\n",
    "\n",
    "END //\n",
    "DELIMITER ;\n",
    "```"
   ],
   "metadata": {
    "collapsed": false
   },
   "id": "ecf1d28b7a2dafe2"
  },
  {
   "cell_type": "code",
   "outputs": [],
   "source": [
    "import tools.db_utils as dbu\n",
    "from business_objects.record_album_sql import RecordAlbum\n",
    "with dbu.get_connector() as conn:\n",
    "    with conn.cursor() as cur:\n",
    "        record_album = RecordAlbum.read_by_name(\"Boston\")\n",
    "        total_sales_query = dbu.query_to_df(f\"select sum(sale_quantity * unit_sale_price) as total_sales from record_sales where album_id = {record_album.album_id}\")[\"total_sales\"][0]\n",
    "        print(f'Total sales for album {record_album.album_name} using select statement    : {total_sales_query}')\n",
    "        result = float(cur.callproc('total_record_sales', (record_album.album_id, 0))[1])\n",
    "        print(f'Total sales for album {record_album.album_name} using the stored procedure: {result}')"
   ],
   "metadata": {
    "collapsed": false
   },
   "id": "f7716bbd0e8040f4",
   "execution_count": null
  },
  {
   "cell_type": "markdown",
   "source": [
    "___\n",
    "### Function DLL\n",
    "- Album Summary Function to return a summary for an album to include the artist, producer, release date and tracks\n",
    "```sql\n",
    "DELIMITER //\n",
    "CREATE FUNCTION album_summary (album_id int) RETURNS varchar(600)\n",
    "\tREADS SQL DATA\n",
    "BEGIN\n",
    "\tDECLARE done int default false;\n",
    "    DECLARE track_summary varchar(400);\n",
    "\tDECLARE album_summary varchar(200);\n",
    "    DECLARE response_summary varchar(600);\n",
    "\tDECLARE result_cursor CURSOR FOR\n",
    "\t\tSELECT\n",
    "\t\t\tconcat(\" \", t.track_number, \"-\", t.track_name) AS track_summary\n",
    "\t\t\tFROM record_tracks t\n",
    "\t\t\tWHERE t.album_id = album_id\n",
    "\t\t\tORDER BY t.track_number;\n",
    "\tDECLARE CONTINUE HANDLER FOR not found SET done = true;\n",
    "\tSET album_summary = \"\";\n",
    "    SET response_summary = \"\";\n",
    "\tOPEN result_cursor;\n",
    "\tread_loop: LOOP\n",
    "\t\tFETCH result_cursor INTO track_summary;\n",
    "        IF done THEN\n",
    "\t\t\tLEAVE read_loop;\n",
    "\t\tEND IF;\n",
    "        SET response_summary = CONCAT(response_summary, track_summary, \"\\n \");\n",
    "    END LOOP;\n",
    "    CLOSE result_cursor;\n",
    "\tSELECT\n",
    "\t\tconcat(\n",
    "\t\t\tr.album_name, \"\\n \",\n",
    "\t\t\t\"Perfomed by: \", a.artist_name, \"\\n \",\n",
    "            \"Produced by: \", l.record_label_name, \"\\n \",\n",
    "\t\t\t\"Released   : \", r.release_date, \"\\n \"\n",
    "            ) INTO album_summary\n",
    "\t\tFROM record_albums r, record_artists a, record_labels l\n",
    "\t\tWHERE r.album_id = album_id and a.artist_id = r.artist_id and l.record_label_id = r.record_label_id;\n",
    "\tSET response_summary = CONCAT(album_summary, response_summary);\n",
    "    RETURN response_summary;\n",
    "END //\n",
    "DELIMITER ;\n",
    "```"
   ],
   "metadata": {
    "collapsed": false
   },
   "id": "8b3c441b9d028ed1"
  },
  {
   "cell_type": "code",
   "outputs": [],
   "source": [
    "import tools.db_utils as dbu\n",
    "from business_objects.record_album_sql import RecordAlbum\n",
    "with dbu.get_connector() as conn:\n",
    "    with conn.cursor() as cur:\n",
    "        record_album = RecordAlbum.read_by_name(\"Boston\")\n",
    "        cur.execute(f'select album_summary(%s)', (record_album.album_id,))\n",
    "        result = cur.fetchone()[0]\n",
    "        print(f'Album summary:\\n {result}')"
   ],
   "metadata": {
    "collapsed": false
   },
   "id": "26900b6900406456",
   "execution_count": null
  },
  {
   "cell_type": "markdown",
   "source": [
    "### Function to show all the members of a band over time\n",
    "\n",
    "```sql\n",
    "# Function to summarize an band members for an artist\n",
    "DROP FUNCTION IF EXISTS band_summary;\n",
    "DELIMITER //\n",
    "CREATE FUNCTION band_summary (artist_id int) RETURNS varchar(600)\n",
    "\tREADS SQL DATA\n",
    "BEGIN\n",
    "\tDECLARE done int default false;\n",
    "    DECLARE member_summary varchar(400);\n",
    "\tDECLARE band_summary varchar(200);\n",
    "    DECLARE response_summary varchar(600);\n",
    "\tDECLARE result_cursor CURSOR FOR\n",
    "\t\tSELECT\n",
    "\t\t\tconcat(\" \", group_members.member_name,\n",
    "\t\t\t\t   \" (\", group_members.member_country, \")\", \n",
    "\t\t\t\t   \" from: \",  members_to_artists.member_from_date, \n",
    "\t\t\t\t   \" till: \", members_to_artists.member_to_date) AS member_summary\n",
    "\t\t\tFROM\n",
    "\t\t\t\trecord_artists\n",
    "\t\t\tJOIN members_to_artists ON record_artists.artist_id = members_to_artists.artist_id\n",
    "\t\t\tJOIN group_members ON members_to_artists.member_id = group_members.member_id\n",
    "\t\t\tWHERE record_artists.artist_id = artist_id;\n",
    "\tDECLARE CONTINUE HANDLER FOR not found SET done = true;\n",
    "\tSET band_summary = \"\";\n",
    "    SET response_summary = \"\";\n",
    "\tOPEN result_cursor;\n",
    "\tread_loop: LOOP\n",
    "\t\tFETCH result_cursor INTO member_summary;\n",
    "        IF done THEN\n",
    "\t\t\tLEAVE read_loop;\n",
    "\t\tEND IF;\n",
    "        SET response_summary = CONCAT(response_summary, member_summary, \"\\n \");\n",
    "    END LOOP;\n",
    "    CLOSE result_cursor;\n",
    "\tSELECT\n",
    "\t\tconcat(a.artist_name, \" - Band Members: \\n \") INTO band_summary\n",
    "\t\tFROM record_artists a\n",
    "\t\tWHERE a.artist_id = artist_id;\n",
    "\tSET response_summary = CONCAT(band_summary, response_summary);\n",
    "    RETURN response_summary;\n",
    "END //\n",
    "DELIMITER ;\n",
    "```"
   ],
   "metadata": {
    "collapsed": false
   },
   "id": "9d22f0955198d950"
  },
  {
   "cell_type": "code",
   "outputs": [],
   "source": [
    "import tools.db_utils as dbu\n",
    "from business_objects.record_artists_sql import RecordArtist\n",
    "with dbu.get_connector() as conn:\n",
    "    with conn.cursor() as cur:\n",
    "        artist_id = 1\n",
    "        record_artist = RecordArtist.read_by_name(\"Pink Floyd\")\n",
    "        cur.execute(f'select band_summary(%s)', (record_artist.artist_id,))\n",
    "        result = cur.fetchone()[0]\n",
    "        print(f'Summary for {record_artist.artist_name}:\\n{result}')"
   ],
   "metadata": {
    "collapsed": false
   },
   "id": "3c8816ac47027d91",
   "execution_count": null
  },
  {
   "cell_type": "markdown",
   "source": [
    "___\n",
    "### Trigger DDL\n",
    "- Cleanup Artists\n",
    "- Cleanup Tracks"
   ],
   "metadata": {
    "collapsed": false
   },
   "id": "520bd17f1d649d0"
  },
  {
   "cell_type": "markdown",
   "source": [
    "### Trigger to cleanup members_to_artists and albums when an artist is deleted\n",
    "```sql\n",
    "DROP TRIGGER IF EXISTS cleanup_artists;\n",
    "\n",
    "DELIMITER //\n",
    "CREATE TRIGGER cleanup_artists BEFORE DELETE ON record_artists\n",
    "FOR EACH ROW\n",
    "BEGIN\n",
    "    DELETE FROM members_to_artists m WHERE m.artist_id = OLD.artist_id;\n",
    "    UPDATE record_albums r set artist_id = null WHERE r.artist_id = OLD.artist_id;\n",
    "END //\n",
    "DELIMITER ;\n",
    "```"
   ],
   "metadata": {
    "collapsed": false
   },
   "id": "ada3d31c5523231e"
  },
  {
   "cell_type": "code",
   "outputs": [],
   "source": [
    "import tools.db_utils as dbu\n",
    "from business_objects.record_artists_sql import RecordArtist\n",
    "from business_objects.members_to_artists_sql import MembersToArtists\n",
    "pandas_index_settings = ['artist_name', 'member_name']\n",
    "\n",
    "with dbu.get_connector() as conn:\n",
    "    with conn.cursor() as cur:\n",
    "        record_artist = RecordArtist.read_by_name(\"Boston\")\n",
    "        if record_artist is None:\n",
    "            print(f'Artist Boston not found. Init data...')\n",
    "            \n",
    "        else:\n",
    "            all_members = MembersToArtists.read_members(record_artist.artist_id)\n",
    "            print(f'Number of members for artist {record_artist.artist_name} using business object    : {len(all_members)}')\n",
    "            print(f'Deleting artist {record_artist.artist_name}...')\n",
    "            cur.execute('delete from record_artists where artist_name = \"Boston\"')\n",
    "            conn.commit()\n",
    "            all_members = MembersToArtists.read_members(record_artist.artist_id)\n",
    "            print(f'Number of members for artist {record_artist.artist_name} using business object    : {len(all_members)}')"
   ],
   "metadata": {
    "collapsed": false
   },
   "id": "c7bbdb194bd29f58",
   "execution_count": null
  },
  {
   "cell_type": "markdown",
   "source": [
    "### Trigger to cleanup tracks and sales when an album is deleted\n",
    "```sql\n",
    "DROP TRIGGER IF EXISTS cleanup_tracks;\n",
    "\n",
    "DELIMITER //\n",
    "CREATE TRIGGER cleanup_tracks BEFORE DELETE ON record_albums\n",
    "FOR EACH ROW\n",
    "BEGIN\n",
    "    DELETE FROM record_tracks t WHERE t.album_id = OLD.album_id;\n",
    "    DELETE FROM record_sales s WHERE s.album_id = OLD.album_id;\n",
    "END //\n",
    "DELIMITER ;\n",
    "```"
   ],
   "metadata": {
    "collapsed": false
   },
   "id": "118aa3b207fe232"
  },
  {
   "cell_type": "code",
   "outputs": [],
   "source": [
    "import tools.db_utils as dbu\n",
    "from business_objects.record_album_sql import RecordAlbum\n",
    "from business_objects.record_tracks_sql import RecordTrack\n",
    "from business_objects.record_sales_sql import RecordSales\n",
    "\n",
    "pandas_index_settings = ['album_name', 'release_date', 'artist_name', 'record_label_name', 'track_number']\n",
    "with dbu.get_connector() as conn:\n",
    "    with conn.cursor() as cur:\n",
    "        record_album = RecordAlbum.read_by_name(\"Boston\")\n",
    "        if record_album is None:\n",
    "            print(f'Album Boston not found. Init data...')\n",
    "            \n",
    "        else:\n",
    "            record_tracks = RecordTrack.read_by_album_id(record_album.album_id)\n",
    "            record_sales = RecordSales.read_by_album_id(record_album.album_id)\n",
    "            print(f'Number of tracks for album {record_album.album_name} using business object    : {len(record_tracks)}')\n",
    "            print(f'Number of sales for album {record_album.album_name} using business object     : {len(record_sales)}')\n",
    "            print(f'Deleting album {record_album.album_name}...')\n",
    "            cur.execute('delete from record_albums where album_name = \"Boston\"')\n",
    "            conn.commit()\n",
    "            record_tracks = RecordTrack.read_by_album_id(record_album.album_id)\n",
    "            record_sales = RecordSales.read_by_album_id(record_album.album_id)\n",
    "            print(f'Number of tracks for album {record_album.album_name} using business object    : {len(record_tracks)}')\n",
    "            print(f'Number of sales for album {record_album.album_name} using business object     : {len(record_sales)}')"
   ],
   "metadata": {
    "collapsed": false
   },
   "id": "9cc257e29d5ad268",
   "execution_count": null
  },
  {
   "cell_type": "markdown",
   "source": [
    "---\n",
    "## Reports\n",
    "\n",
    "- Album Total Sales\n",
    "- Album Annual Sales"
   ],
   "metadata": {
    "collapsed": false
   },
   "id": "7f0a44b30506f23f"
  },
  {
   "cell_type": "code",
   "outputs": [],
   "source": [
    "import tools.db_utils as dbu\n",
    "pandas_index_settings = ['Album Name']\n",
    "print(f'Total Sales')\n",
    "total_sales_df = dbu.query_to_df(('SELECT '\n",
    "                            'ra.album_name as \"Album Name\", '\n",
    "                            'FORMAT(SUM(rs.sale_quantity), 0) as \"Units Sold\", '\n",
    "                            'CONCAT(\"$\", FORMAT(SUM(rs.sale_quantity * rs.unit_sale_price), 0, \"en_US\")) as \"Total Sales\" '\n",
    "                        'FROM record_sales rs '\n",
    "                        'JOIN record_albums ra ON ra.album_id = rs.album_id '\n",
    "                        'GROUP BY ra.album_name '\n",
    "                        'ORDER BY ra.album_name'), pandas_index_settings)\n",
    "total_sales_df.align(['Units Sold', 'Total Sales'], )\n",
    "display(total_sales_df)\n",
    "\n",
    "pandas_index_settings = ['Album Name', 'Year']\n",
    "print(f'Annual Sales')\n",
    "annual_sales_df = dbu.query_to_df(('SELECT '\n",
    "                            'ra.album_name as \"Album Name\", '\n",
    "                            'YEAR(rs.sale_date) as \"Year\", '\n",
    "                            'FORMAT(SUM(rs.sale_quantity), 0) as \"Units Sold\", '\n",
    "                            'CONCAT(\"$\", FORMAT(SUM(rs.sale_quantity * rs.unit_sale_price), 0, \"en_US\")) as \"Sales\" '\n",
    "                        'FROM record_sales rs '\n",
    "                        'JOIN record_albums ra ON ra.album_id = rs.album_id '\n",
    "                        'GROUP BY YEAR(rs.sale_date), rs.album_id '\n",
    "                        'ORDER BY ra.album_name'), pandas_index_settings)\n",
    "display(annual_sales_df)"
   ],
   "metadata": {
    "collapsed": false
   },
   "id": "885b82460fc42625",
   "execution_count": null
  },
  {
   "cell_type": "markdown",
   "source": [
    "___\n",
    "## Forms Demonstration\n",
    "- Record Album Manager\n",
    "- Record Tracks Manager"
   ],
   "metadata": {
    "collapsed": false
   },
   "id": "7a6e5e3a4e379fbe"
  },
  {
   "cell_type": "code",
   "outputs": [
    {
     "ename": "TypeError",
     "evalue": "unsupported operand type(s) for |: 'str' and 'NoneType'",
     "output_type": "error",
     "traceback": [
      "\u001B[1;31m---------------------------------------------------------------------------\u001B[0m",
      "\u001B[1;31mTypeError\u001B[0m                                 Traceback (most recent call last)",
      "Cell \u001B[1;32mIn[3], line 1\u001B[0m\n\u001B[1;32m----> 1\u001B[0m \u001B[38;5;28;01mfrom\u001B[39;00m \u001B[38;5;21;01mui_objects\u001B[39;00m\u001B[38;5;21;01m.\u001B[39;00m\u001B[38;5;21;01mrecord_album_manager_ui\u001B[39;00m \u001B[38;5;28;01mimport\u001B[39;00m RecordAlbumUI\n\u001B[0;32m      3\u001B[0m RecordAlbumUI()\n",
      "File \u001B[1;32m~\\Anaconda Projects\\CS-GY_6083_principles_of_database_systems\\ui_objects\\record_album_manager_ui.py:11\u001B[0m\n\u001B[0;32m      8\u001B[0m \u001B[38;5;28;01mfrom\u001B[39;00m \u001B[38;5;21;01mtkinter\u001B[39;00m \u001B[38;5;28;01mimport\u001B[39;00m StringVar\n\u001B[0;32m      9\u001B[0m \u001B[38;5;28;01mfrom\u001B[39;00m \u001B[38;5;21;01mtkcalendar\u001B[39;00m \u001B[38;5;28;01mimport\u001B[39;00m Calendar\n\u001B[1;32m---> 11\u001B[0m \u001B[38;5;28;01mfrom\u001B[39;00m \u001B[38;5;21;01mbusiness_objects\u001B[39;00m\u001B[38;5;21;01m.\u001B[39;00m\u001B[38;5;21;01mrecord_album_sql\u001B[39;00m \u001B[38;5;28;01mimport\u001B[39;00m RecordAlbum\n\u001B[0;32m     12\u001B[0m \u001B[38;5;28;01mfrom\u001B[39;00m \u001B[38;5;21;01mbusiness_objects\u001B[39;00m\u001B[38;5;21;01m.\u001B[39;00m\u001B[38;5;21;01mrecord_artists_sql\u001B[39;00m \u001B[38;5;28;01mimport\u001B[39;00m RecordArtist\n\u001B[0;32m     13\u001B[0m \u001B[38;5;28;01mfrom\u001B[39;00m \u001B[38;5;21;01mbusiness_objects\u001B[39;00m\u001B[38;5;21;01m.\u001B[39;00m\u001B[38;5;21;01mrecord_genres_sql\u001B[39;00m \u001B[38;5;28;01mimport\u001B[39;00m RecordGenre\n",
      "File \u001B[1;32m~\\Anaconda Projects\\CS-GY_6083_principles_of_database_systems\\business_objects\\record_album_sql.py:13\u001B[0m\n\u001B[0;32m      8\u001B[0m \u001B[38;5;28;01mfrom\u001B[39;00m \u001B[38;5;21;01mbusiness_objects\u001B[39;00m\u001B[38;5;21;01m.\u001B[39;00m\u001B[38;5;21;01mrecord_labels_sql\u001B[39;00m \u001B[38;5;28;01mimport\u001B[39;00m RecordLabel\n\u001B[0;32m      9\u001B[0m \u001B[38;5;28;01mfrom\u001B[39;00m \u001B[38;5;21;01mbusiness_objects\u001B[39;00m\u001B[38;5;21;01m.\u001B[39;00m\u001B[38;5;21;01mrecord_tracks_sql\u001B[39;00m \u001B[38;5;28;01mimport\u001B[39;00m RecordTrack\n\u001B[0;32m     12\u001B[0m \u001B[38;5;129;43m@dataclasses\u001B[39;49m\u001B[38;5;241;43m.\u001B[39;49m\u001B[43mdataclass\u001B[49m\n\u001B[1;32m---> 13\u001B[0m \u001B[38;5;28;43;01mclass\u001B[39;49;00m\u001B[43m \u001B[49m\u001B[38;5;21;43;01mRecordAlbum\u001B[39;49;00m\u001B[43m:\u001B[49m\n\u001B[0;32m     14\u001B[0m \u001B[43m    \u001B[49m\u001B[43malbum_id\u001B[49m\u001B[43m:\u001B[49m\u001B[43m \u001B[49m\u001B[38;5;28;43mint\u001B[39;49m\n\u001B[0;32m     15\u001B[0m \u001B[43m    \u001B[49m\u001B[43malbum_name\u001B[49m\u001B[43m:\u001B[49m\u001B[43m \u001B[49m\u001B[38;5;28;43mstr\u001B[39;49m\n",
      "File \u001B[1;32m~\\Anaconda Projects\\CS-GY_6083_principles_of_database_systems\\business_objects\\record_album_sql.py:81\u001B[0m, in \u001B[0;36mRecordAlbum\u001B[1;34m()\u001B[0m\n\u001B[0;32m     77\u001B[0m                 rows\u001B[38;5;241m.\u001B[39mappend(RecordAlbum(row[\u001B[38;5;241m0\u001B[39m], row[\u001B[38;5;241m1\u001B[39m], row[\u001B[38;5;241m2\u001B[39m], row[\u001B[38;5;241m3\u001B[39m], row[\u001B[38;5;241m4\u001B[39m], row[\u001B[38;5;241m5\u001B[39m]))\n\u001B[0;32m     78\u001B[0m             \u001B[38;5;28;01mreturn\u001B[39;00m rows\n\u001B[0;32m     80\u001B[0m \u001B[38;5;129m@staticmethod\u001B[39m\n\u001B[1;32m---> 81\u001B[0m \u001B[38;5;28;01mdef\u001B[39;00m \u001B[38;5;21mread\u001B[39m(album_id: \u001B[38;5;28mint\u001B[39m) \u001B[38;5;241m-\u001B[39m\u001B[38;5;241m>\u001B[39m \u001B[38;5;124;43m'\u001B[39;49m\u001B[38;5;124;43mRecordAlbum\u001B[39;49m\u001B[38;5;124;43m'\u001B[39;49m\u001B[43m \u001B[49m\u001B[38;5;241;43m|\u001B[39;49m\u001B[43m \u001B[49m\u001B[38;5;28;43;01mNone\u001B[39;49;00m:\n\u001B[0;32m     82\u001B[0m     \u001B[38;5;28;01mwith\u001B[39;00m dbu\u001B[38;5;241m.\u001B[39mget_connector() \u001B[38;5;28;01mas\u001B[39;00m conn:\n\u001B[0;32m     83\u001B[0m         \u001B[38;5;28;01mwith\u001B[39;00m conn\u001B[38;5;241m.\u001B[39mcursor() \u001B[38;5;28;01mas\u001B[39;00m cursor:\n",
      "\u001B[1;31mTypeError\u001B[0m: unsupported operand type(s) for |: 'str' and 'NoneType'"
     ]
    }
   ],
   "source": [
    "from ui_objects.record_album_manager_ui import RecordAlbumUI\n",
    "\n",
    "RecordAlbumUI()"
   ],
   "metadata": {
    "collapsed": false,
    "ExecuteTime": {
     "end_time": "2024-04-25T00:46:11.444427Z",
     "start_time": "2024-04-25T00:46:08.770942Z"
    }
   },
   "id": "4ab9829339244174",
   "execution_count": 3
  },
  {
   "cell_type": "markdown",
   "source": [
    "### Table Inserts"
   ],
   "metadata": {
    "collapsed": false
   },
   "id": "b2675d6d733c5cea"
  },
  {
   "cell_type": "code",
   "outputs": [],
   "source": [
    "import tools.db_utils as dbu\n",
    "from business_objects.record_genres_sql import RecordGenre\n",
    "\n",
    "# Setup\n",
    "test_genre_name = 'TEST Genre'\n",
    "RecordGenre.delete_by_name(test_genre_name)\n",
    "# Insert\n",
    "new_record = RecordGenre.create(genre_name=test_genre_name, genre_description='A new genre')\n",
    "display(dbu.query_to_df(f\"select * from record_genres where genre_name = '{test_genre_name}'\",  'genre_id'))\n",
    "# Cleanup\n",
    "RecordGenre.delete_by_name(test_genre_name)"
   ],
   "metadata": {
    "collapsed": false
   },
   "id": "c153f36a3a0592a7",
   "execution_count": null
  },
  {
   "cell_type": "markdown",
   "source": [
    "### Table Reads"
   ],
   "metadata": {
    "collapsed": false
   },
   "id": "51a4626744f1edb7"
  },
  {
   "cell_type": "code",
   "outputs": [],
   "source": [
    "from business_objects.record_album_sql import RecordAlbum\n",
    "print(f'Read all albumns')\n",
    "for album in RecordAlbum.read_all()[:5]:\n",
    "    print(album)\n",
    "    \n",
    "print(f'\\n\\nRead by id: 5')\n",
    "print(RecordAlbum.read(1))\n",
    "print(f'\\n\\nRead by name: The Dark Side of the Moon')\n",
    "print(RecordAlbum.read_by_name('The Dark Side of the Moon'))"
   ],
   "metadata": {
    "collapsed": false
   },
   "id": "a14c1f2d0115e1d4",
   "execution_count": null
  },
  {
   "cell_type": "markdown",
   "source": [
    "### Table Updates"
   ],
   "metadata": {
    "collapsed": false
   },
   "id": "3fd129f6fa508c47"
  },
  {
   "cell_type": "code",
   "outputs": [],
   "source": [
    "from business_objects.record_genres_sql import RecordGenre\n",
    "\n",
    "# Setup\n",
    "test_genre_name = 'TEST Genre'\n",
    "updated_genre_name = 'Updated Genre'\n",
    "RecordGenre.delete_by_name(test_genre_name)\n",
    "RecordGenre.delete_by_name(updated_genre_name)\n",
    "new_record = RecordGenre.create(genre_name=test_genre_name, genre_description='A new genre')\n",
    "display(dbu.query_to_df(f\"select * from record_genres where genre_name = '{test_genre_name}'\",  'genre_id'))\n",
    "# Update\n",
    "new_record.genre_name = updated_genre_name\n",
    "new_record.genre_description = 'An updated genre'\n",
    "print(f'Record to update: {new_record}')\n",
    "new_record.update()\n",
    "display(dbu.query_to_df(f\"select * from record_genres where genre_name = '{updated_genre_name}'\",  'genre_id'))\n",
    "# Cleanup\n",
    "RecordGenre.delete_by_name(test_genre_name)\n",
    "RecordGenre.delete_by_name(updated_genre_name)"
   ],
   "metadata": {
    "collapsed": false
   },
   "id": "c138a6e4be9e036",
   "execution_count": null
  },
  {
   "cell_type": "markdown",
   "source": [
    "### Table Deletes"
   ],
   "metadata": {
    "collapsed": false
   },
   "id": "18ec8f7c74d802c7"
  },
  {
   "cell_type": "code",
   "outputs": [],
   "source": [
    "from business_objects.record_genres_sql import RecordGenre\n",
    "\n",
    "# Setup\n",
    "test_genre_name = 'TEST Genre'\n",
    "RecordGenre.delete_by_name(test_genre_name)\n",
    "new_record = RecordGenre.create(genre_name=test_genre_name, genre_description='A new genre')\n",
    "print(f'Created record: {new_record.genre_id}')\n",
    "display(dbu.query_to_df(f\"select * from record_genres where genre_name = '{test_genre_name}'\",  'genre_id'))\n",
    "# Delete by id\n",
    "new_record.delete()\n",
    "print(f'After delete by id: {new_record.genre_id}')\n",
    "display(dbu.query_to_df(f\"select * from record_genres where genre_id = '{new_record.genre_id}'\",  'genre_id'))\n",
    "# Delete by name\n",
    "new_record = RecordGenre.create(genre_name=test_genre_name, genre_description='A new genre')\n",
    "print(f'Created record: {new_record.genre_id}')\n",
    "display(dbu.query_to_df(f\"select * from record_genres where genre_name = '{test_genre_name}'\",  'genre_id'))\n",
    "RecordGenre.delete_by_name(new_record.genre_name)\n",
    "print(f'After delete by name: {new_record.genre_name}')\n",
    "display(dbu.query_to_df(f\"select * from record_genres where genre_name = '{test_genre_name}'\",  'genre_id'))"
   ],
   "metadata": {
    "collapsed": false
   },
   "id": "c96203dfc5144e79",
   "execution_count": null
  },
  {
   "cell_type": "markdown",
   "source": [],
   "metadata": {
    "collapsed": false
   },
   "id": "ff26f9c83011cb67"
  }
 ],
 "metadata": {
  "kernelspec": {
   "display_name": "Python 3",
   "language": "python",
   "name": "python3"
  },
  "language_info": {
   "codemirror_mode": {
    "name": "ipython",
    "version": 2
   },
   "file_extension": ".py",
   "mimetype": "text/x-python",
   "name": "python",
   "nbconvert_exporter": "python",
   "pygments_lexer": "ipython2",
   "version": "2.7.6"
  }
 },
 "nbformat": 4,
 "nbformat_minor": 5
}
