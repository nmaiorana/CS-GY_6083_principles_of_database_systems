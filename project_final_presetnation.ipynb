{
 "cells": [
  {
   "cell_type": "markdown",
   "source": [
    "# Project Part 3: Final Presentation\n",
    "\n",
    "### CS-GY 6083 Principals of Database Systems - Spring 2024\n",
    "\n",
    "* **Author**: [Nicola Maiorana]\n",
    "* **Date**: [2024-03-23]\n",
    "* **Email**: [nam10102@nyu.edu]\n",
    "* **Class**: [CS-GY 6083]\n",
    "\n",
    "## Overview of Presentation\n",
    "- Project Overview\n",
    "- IDE And Presentation Tools\n",
    "- Code\n",
    "    - ER Diagram\n",
    "    - Tables DDL\n",
    "    - Views DDL\n",
    "    - Procedures DDL\n",
    "    - Functions DDL\n",
    "    - Triggers DDL\n",
    "\n",
    "- Discussion\n",
    "    - Normalization\n",
    "    - Integrity Enforcement Used (Where/Why)\n",
    "    - Isolation Level Used (Where/Why)\n",
    "- Forms\n",
    "    - Table Inserts\n",
    "    - Table Deletes\n",
    "    - Selects\n",
    "- Reports\n",
    "\n",
    "## Project Overview\n",
    "For this project I will construct a database using MySQL to store information about record album: the name of the album, the recording date, the artists behind the album (bands), the members of the recording group, the record label which produced the album, genre and sales information. This will utilize a 2-tier architecture using Python as the primary Language.\n",
    "\n",
    "I will construct business object classes to represent the data in Python using data classes. To map these data classes to the MySQL db, I will use the MySQL Connect coupled with dataclasses to create my Business Objects. Lastly I will construct a series of UI classes to perform Create, Read, Update and Delete operations on one of the tables.\n",
    "\n",
    "The demonstration will consist of a Python stand-alone class connecting to the MySQL database and performing the CRUD operations on the database. The demonstration will be done using a Jupyter Notebook.\n",
    "\n",
    "## IDE And Presentation Tools\n",
    "- IDE: PyCharm Professional\n",
    "- Presentation: Jupyter Notebook"
   ],
   "metadata": {
    "collapsed": false
   },
   "id": "951da5f18e32d8cf"
  },
  {
   "cell_type": "markdown",
   "source": [
    "## Code"
   ],
   "metadata": {
    "collapsed": false
   },
   "id": "77c1a0a004b37417"
  },
  {
   "cell_type": "markdown",
   "source": [
    "### Import required modules\n",
    "\n",
    "- tools.db_utils: Contains the database connection and query functions\n",
    "- tools.mermaid_diagrams: Allows for the creation of Mermaid diagrams"
   ],
   "metadata": {
    "collapsed": false
   },
   "id": "495f7142cff2f921"
  },
  {
   "cell_type": "code",
   "outputs": [],
   "source": [
    "import tools.db_utils as dbu\n",
    "import tools.mermaid_diagrams as md"
   ],
   "metadata": {
    "collapsed": false,
    "ExecuteTime": {
     "end_time": "2024-04-01T02:51:50.203174Z",
     "start_time": "2024-04-01T02:51:47.410314Z"
    }
   },
   "id": "ffc8dc8e0896d0c1",
   "execution_count": 2
  },
  {
   "cell_type": "markdown",
   "source": [
    "### ER Diagram"
   ],
   "metadata": {
    "collapsed": false
   },
   "id": "4ce118c0c5bcda92"
  },
  {
   "cell_type": "code",
   "outputs": [
    {
     "data": {
      "text/html": "<img src=\"https://mermaid.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\"/>",
      "text/plain": "<IPython.core.display.Image object>"
     },
     "metadata": {},
     "output_type": "display_data"
    }
   ],
   "source": [
    "md.mm(md.er_diargram)"
   ],
   "metadata": {
    "collapsed": false,
    "ExecuteTime": {
     "end_time": "2024-04-01T02:51:50.221363Z",
     "start_time": "2024-04-01T02:51:50.207187Z"
    }
   },
   "id": "143a08af7868dc59",
   "execution_count": 3
  },
  {
   "cell_type": "markdown",
   "source": [
    "```sql\n",
    "CREATE TABLE RECORD_ARTISTS (\n",
    "    artist_id int NOT NULL AUTO_INCREMENT,\n",
    "    artist_name varchar(255),\n",
    "    PRIMARY KEY (artist_id)\n",
    ");\n",
    "\n",
    "CREATE TABLE GROUP_MEMBERS (\n",
    "    member_id int NOT NULL AUTO_INCREMENT,\n",
    "    member_name varchar(255),\n",
    "    PRIMARY KEY (member_id)\n",
    ");\n",
    "\n",
    "CREATE TABLE MEMBERS_TO_ARTISTS (\n",
    "    members_to_artists_id int NOT NULL AUTO_INCREMENT,\n",
    "    member_id int,\n",
    "    artist_id int,\n",
    "    member_from_date date,\n",
    "    member_to_date date,\n",
    "    PRIMARY KEY (members_to_artists_id),\n",
    "    FOREIGN KEY (member_id) REFERENCES GROUP_MEMBERS(member_id),\n",
    "    FOREIGN KEY (artist_id) REFERENCES RECORD_ARTISTS(artist_id)\n",
    ");\n",
    "\n",
    "CREATE TABLE RECORD_GENRES (\n",
    "    genre_id int NOT NULL AUTO_INCREMENT,\n",
    "    genre_name varchar(255),\n",
    "    genre_description varchar(255),\n",
    "    PRIMARY KEY (genre_id),\n",
    "    UNIQUE (genre_name)\n",
    ");\n",
    "\n",
    "CREATE TABLE RECORD_LABELS (\n",
    "    record_label_id int NOT NULL AUTO_INCREMENT,\n",
    "    record_label_name varchar(255),\n",
    "    PRIMARY KEY (record_label_id),\n",
    "    UNIQUE (record_label_name)\n",
    ");\n",
    "\n",
    "CREATE TABLE RECORD_ALBUMS (\n",
    "    album_id int NOT NULL AUTO_INCREMENT,\n",
    "    album_name varchar(255),\n",
    "    release_date date,\n",
    "    artist_id int,\n",
    "    genre_id int,\n",
    "    record_label_id int,\n",
    "    PRIMARY KEY (album_id),\n",
    "    FOREIGN KEY (artist_id) REFERENCES RECORD_ARTISTS(artist_id),\n",
    "    FOREIGN KEY (genre_id) REFERENCES RECORD_GENRES(genre_id),\n",
    "    FOREIGN KEY (record_label_id) REFERENCES RECORD_LABELS(record_label_id),\n",
    "    UNIQUE (album_name, release_date)\n",
    ");\n",
    "\n",
    "CREATE TABLE RECORD_TRACKS (\n",
    "    track_id int NOT NULL AUTO_INCREMENT,\n",
    "    album_id int,\n",
    "    track_name varchar(255),\n",
    "    track_number int,\n",
    "    genre_id int,\n",
    "    PRIMARY KEY (track_id),\n",
    "    FOREIGN KEY (album_id) REFERENCES RECORD_ALBUMS(album_id),\n",
    "    FOREIGN KEY (genre_id) REFERENCES RECORD_GENRES(genre_id)\n",
    ");\n",
    "\n",
    "CREATE TABLE RECORD_SALES (\n",
    "    sale_id int NOT NULL AUTO_INCREMENT,\n",
    "    album_id int,\n",
    "    sale_date date,\n",
    "    sale_quantity int,\n",
    "    unit_sale_price decimal,\n",
    "    PRIMARY KEY (sale_id),\n",
    "    FOREIGN KEY (album_id) REFERENCES RECORD_ALBUMS(album_id)\n",
    ");\n",
    "```"
   ],
   "metadata": {
    "collapsed": false
   },
   "id": "8787087bc4a6ec93"
  },
  {
   "cell_type": "markdown",
   "source": [
    "### Views DDL"
   ],
   "metadata": {
    "collapsed": false
   },
   "id": "33e9c58f3eb52dcd"
  },
  {
   "cell_type": "markdown",
   "source": [
    "#### Album Information View\n",
    "```sql\n",
    "CREATE VIEW album_information AS\n",
    "    SELECT\n",
    "        RECORD_ALBUMS.album_name,\n",
    "        RECORD_ARTISTS.artist_name,\n",
    "        RECORD_GENRES.genre_name,\n",
    "        RECORD_LABELS.record_label_name,\n",
    "        RECORD_ALBUMS.release_date\n",
    "    FROM\n",
    "        RECORD_ALBUMS\n",
    "    JOIN RECORD_ARTISTS ON RECORD_ALBUMS.artist_id = RECORD_ARTISTS.artist_id\n",
    "    JOIN RECORD_LABELS ON RECORD_ALBUMS.record_label_id = RECORD_LABELS.record_label_id\n",
    "    JOIN RECORD_GENRES ON RECORD_ALBUMS.genre_id = RECORD_GENRES.genre_id;\n",
    "```"
   ],
   "metadata": {
    "collapsed": false
   },
   "id": "42e2bdd3a165f825"
  },
  {
   "cell_type": "code",
   "outputs": [
    {
     "data": {
      "text/plain": "                          artist_name genre_name        record_label_name  \\\nalbum_name                                                                  \nThe Dark Side of the Moon  Pink Floyd       Rock  Harvest Capitol Records   \nBoston                         Boston       Rock             Epic Records   \n\n                          release_date  \nalbum_name                              \nThe Dark Side of the Moon   1973-03-01  \nBoston                      1976-08-25  ",
      "text/html": "<div>\n<style scoped>\n    .dataframe tbody tr th:only-of-type {\n        vertical-align: middle;\n    }\n\n    .dataframe tbody tr th {\n        vertical-align: top;\n    }\n\n    .dataframe thead th {\n        text-align: right;\n    }\n</style>\n<table border=\"1\" class=\"dataframe\">\n  <thead>\n    <tr style=\"text-align: right;\">\n      <th></th>\n      <th>artist_name</th>\n      <th>genre_name</th>\n      <th>record_label_name</th>\n      <th>release_date</th>\n    </tr>\n    <tr>\n      <th>album_name</th>\n      <th></th>\n      <th></th>\n      <th></th>\n      <th></th>\n    </tr>\n  </thead>\n  <tbody>\n    <tr>\n      <th>The Dark Side of the Moon</th>\n      <td>Pink Floyd</td>\n      <td>Rock</td>\n      <td>Harvest Capitol Records</td>\n      <td>1973-03-01</td>\n    </tr>\n    <tr>\n      <th>Boston</th>\n      <td>Boston</td>\n      <td>Rock</td>\n      <td>Epic Records</td>\n      <td>1976-08-25</td>\n    </tr>\n  </tbody>\n</table>\n</div>"
     },
     "metadata": {},
     "output_type": "display_data"
    }
   ],
   "source": [
    "pandas_index_settings = ['album_name']\n",
    "display(dbu.sqlalchemy_query_to_df('select * from album_information order by release_date', pandas_index_settings))"
   ],
   "metadata": {
    "collapsed": false,
    "ExecuteTime": {
     "end_time": "2024-04-01T02:51:50.314608Z",
     "start_time": "2024-04-01T02:51:50.225381Z"
    }
   },
   "id": "65f47a06753e3895",
   "execution_count": 4
  },
  {
   "cell_type": "markdown",
   "source": [
    "#### Album Information Details View\n",
    "```sql\n",
    "CREATE VIEW album_information_details AS\n",
    "    SELECT\n",
    "        RECORD_ALBUMS.album_name,\n",
    "        RECORD_ARTISTS.artist_name,\n",
    "        record_genres.genre_name,\n",
    "        RECORD_LABELS.record_label_name,\n",
    "        RECORD_TRACKS.track_number,\n",
    "        RECORD_TRACKS.track_name,\n",
    "        RECORD_ALBUMS.release_date\n",
    "    FROM\n",
    "        RECORD_ALBUMS\n",
    "    JOIN RECORD_ARTISTS ON RECORD_ALBUMS.artist_id = RECORD_ARTISTS.artist_id\n",
    "    JOIN RECORD_LABELS ON RECORD_ALBUMS.record_label_id = RECORD_LABELS.record_label_id\n",
    "    JOIN RECORD_TRACKS ON RECORD_ALBUMS.album_id = RECORD_TRACKS.album_id\n",
    "    JOIN RECORD_GENRES ON RECORD_TRACKS.genre_id = RECORD_GENRES.genre_id\n",
    "ORDER BY\n",
    "    RECORD_ALBUMS.album_name, RECORD_TRACKS.track_number;\n",
    "```"
   ],
   "metadata": {
    "collapsed": false
   },
   "id": "1db5def01defea6d"
  },
  {
   "cell_type": "code",
   "outputs": [
    {
     "data": {
      "text/plain": "                                                                                        genre_name  \\\nalbum_name                release_date artist_name record_label_name       track_number              \nThe Dark Side of the Moon 1973-03-01   Pink Floyd  Harvest Capitol Records 1                  Rock   \n                                                                           2                  Rock   \n                                                                           3                  Rock   \n                                                                           4                  Rock   \n                                                                           5                  Rock   \n                                                                           6                  Rock   \n                                                                           7                  Rock   \n                                                                           8                  Rock   \n                                                                           9                  Rock   \n                                                                           10                 Rock   \nBoston                    1976-08-25   Boston      Epic Records            1                  Rock   \n                                                                           2                  Rock   \n                                                                           3                  Rock   \n                                                                           4                  Rock   \n                                                                           5                  Rock   \n                                                                           6                  Rock   \n                                                                           7                  Rock   \n                                                                           8                  Rock   \n\n                                                                                                           track_name  \nalbum_name                release_date artist_name record_label_name       track_number                                \nThe Dark Side of the Moon 1973-03-01   Pink Floyd  Harvest Capitol Records 1                              Speak to Me  \n                                                                           2                     Breathe (In the Air)  \n                                                                           3                               On the Run  \n                                                                           4                                     Time  \n                                                                           5                 The Great Gig in the Sky  \n                                                                           6                                    Money  \n                                                                           7                              Us and Them  \n                                                                           8                      Any Colour You Like  \n                                                                           9                             Brain Damage  \n                                                                           10                                 Eclipse  \nBoston                    1976-08-25   Boston      Epic Records            1                      More Than a Feeling  \n                                                                           2                            Peace of Mind  \n                                                                           3                       Foreplay/Long Time  \n                                                                           4                         Rock & Roll Band  \n                                                                           5                                   Smokin  \n                                                                           6                             Hitch a Ride  \n                                                                           7                      Something About You  \n                                                                           8             Let Me Take You Home Tonight  ",
      "text/html": "<div>\n<style scoped>\n    .dataframe tbody tr th:only-of-type {\n        vertical-align: middle;\n    }\n\n    .dataframe tbody tr th {\n        vertical-align: top;\n    }\n\n    .dataframe thead th {\n        text-align: right;\n    }\n</style>\n<table border=\"1\" class=\"dataframe\">\n  <thead>\n    <tr style=\"text-align: right;\">\n      <th></th>\n      <th></th>\n      <th></th>\n      <th></th>\n      <th></th>\n      <th>genre_name</th>\n      <th>track_name</th>\n    </tr>\n    <tr>\n      <th>album_name</th>\n      <th>release_date</th>\n      <th>artist_name</th>\n      <th>record_label_name</th>\n      <th>track_number</th>\n      <th></th>\n      <th></th>\n    </tr>\n  </thead>\n  <tbody>\n    <tr>\n      <th rowspan=\"10\" valign=\"top\">The Dark Side of the Moon</th>\n      <th rowspan=\"10\" valign=\"top\">1973-03-01</th>\n      <th rowspan=\"10\" valign=\"top\">Pink Floyd</th>\n      <th rowspan=\"10\" valign=\"top\">Harvest Capitol Records</th>\n      <th>1</th>\n      <td>Rock</td>\n      <td>Speak to Me</td>\n    </tr>\n    <tr>\n      <th>2</th>\n      <td>Rock</td>\n      <td>Breathe (In the Air)</td>\n    </tr>\n    <tr>\n      <th>3</th>\n      <td>Rock</td>\n      <td>On the Run</td>\n    </tr>\n    <tr>\n      <th>4</th>\n      <td>Rock</td>\n      <td>Time</td>\n    </tr>\n    <tr>\n      <th>5</th>\n      <td>Rock</td>\n      <td>The Great Gig in the Sky</td>\n    </tr>\n    <tr>\n      <th>6</th>\n      <td>Rock</td>\n      <td>Money</td>\n    </tr>\n    <tr>\n      <th>7</th>\n      <td>Rock</td>\n      <td>Us and Them</td>\n    </tr>\n    <tr>\n      <th>8</th>\n      <td>Rock</td>\n      <td>Any Colour You Like</td>\n    </tr>\n    <tr>\n      <th>9</th>\n      <td>Rock</td>\n      <td>Brain Damage</td>\n    </tr>\n    <tr>\n      <th>10</th>\n      <td>Rock</td>\n      <td>Eclipse</td>\n    </tr>\n    <tr>\n      <th rowspan=\"8\" valign=\"top\">Boston</th>\n      <th rowspan=\"8\" valign=\"top\">1976-08-25</th>\n      <th rowspan=\"8\" valign=\"top\">Boston</th>\n      <th rowspan=\"8\" valign=\"top\">Epic Records</th>\n      <th>1</th>\n      <td>Rock</td>\n      <td>More Than a Feeling</td>\n    </tr>\n    <tr>\n      <th>2</th>\n      <td>Rock</td>\n      <td>Peace of Mind</td>\n    </tr>\n    <tr>\n      <th>3</th>\n      <td>Rock</td>\n      <td>Foreplay/Long Time</td>\n    </tr>\n    <tr>\n      <th>4</th>\n      <td>Rock</td>\n      <td>Rock &amp; Roll Band</td>\n    </tr>\n    <tr>\n      <th>5</th>\n      <td>Rock</td>\n      <td>Smokin</td>\n    </tr>\n    <tr>\n      <th>6</th>\n      <td>Rock</td>\n      <td>Hitch a Ride</td>\n    </tr>\n    <tr>\n      <th>7</th>\n      <td>Rock</td>\n      <td>Something About You</td>\n    </tr>\n    <tr>\n      <th>8</th>\n      <td>Rock</td>\n      <td>Let Me Take You Home Tonight</td>\n    </tr>\n  </tbody>\n</table>\n</div>"
     },
     "metadata": {},
     "output_type": "display_data"
    }
   ],
   "source": [
    "pandas_index_settings = ['album_name', 'release_date', 'artist_name', 'record_label_name', 'track_number']\n",
    "display(dbu.sqlalchemy_query_to_df('select * from album_information_details order by release_date', pandas_index_settings))"
   ],
   "metadata": {
    "collapsed": false,
    "ExecuteTime": {
     "end_time": "2024-04-01T02:51:50.357082Z",
     "start_time": "2024-04-01T02:51:50.319627Z"
    }
   },
   "id": "41aa6f2562d2b194",
   "execution_count": 5
  },
  {
   "cell_type": "markdown",
   "source": [
    "#### Band Members View\n",
    "```sql\n",
    "CREATE VIEW band_members AS\n",
    "    SELECT\n",
    "        RECORD_ARTISTS.artist_name,\n",
    "        GROUP_MEMBERS.member_name,\n",
    "        MEMBERS_TO_ARTISTS.member_from_date,\n",
    "        MEMBERS_TO_ARTISTS.member_to_date\n",
    "    FROM\n",
    "        RECORD_ARTISTS\n",
    "    JOIN MEMBERS_TO_ARTISTS ON RECORD_ARTISTS.artist_id = MEMBERS_TO_ARTISTS.artist_id\n",
    "    JOIN GROUP_MEMBERS ON MEMBERS_TO_ARTISTS.member_id = GROUP_MEMBERS.member_id;\n",
    "```"
   ],
   "metadata": {
    "collapsed": false
   },
   "id": "dc359e7ae7a11be8"
  },
  {
   "cell_type": "code",
   "outputs": [
    {
     "data": {
      "text/plain": "                           member_from_date member_to_date\nartist_name member_name                                   \nBoston      Barry Goudreau       1975-01-01     1981-01-01\n            Brad Delp            1975-01-01     2007-01-01\n            Fran Sheehan         1975-01-01     1986-01-01\n            Sib Hashian          1975-01-01     1986-01-01\n            Tom Scholz           1975-01-01     1989-01-01\nPink Floyd  David Gilmour        1968-01-01     1995-01-01\n            Nick Mason           1965-01-01     1995-01-01\n            Richard Wright       1965-01-01     1980-01-01\n            Roger Waters         1965-01-01     1985-01-01\n            Syd Barrett          1965-01-01     1968-01-01",
      "text/html": "<div>\n<style scoped>\n    .dataframe tbody tr th:only-of-type {\n        vertical-align: middle;\n    }\n\n    .dataframe tbody tr th {\n        vertical-align: top;\n    }\n\n    .dataframe thead th {\n        text-align: right;\n    }\n</style>\n<table border=\"1\" class=\"dataframe\">\n  <thead>\n    <tr style=\"text-align: right;\">\n      <th></th>\n      <th></th>\n      <th>member_from_date</th>\n      <th>member_to_date</th>\n    </tr>\n    <tr>\n      <th>artist_name</th>\n      <th>member_name</th>\n      <th></th>\n      <th></th>\n    </tr>\n  </thead>\n  <tbody>\n    <tr>\n      <th rowspan=\"5\" valign=\"top\">Boston</th>\n      <th>Barry Goudreau</th>\n      <td>1975-01-01</td>\n      <td>1981-01-01</td>\n    </tr>\n    <tr>\n      <th>Brad Delp</th>\n      <td>1975-01-01</td>\n      <td>2007-01-01</td>\n    </tr>\n    <tr>\n      <th>Fran Sheehan</th>\n      <td>1975-01-01</td>\n      <td>1986-01-01</td>\n    </tr>\n    <tr>\n      <th>Sib Hashian</th>\n      <td>1975-01-01</td>\n      <td>1986-01-01</td>\n    </tr>\n    <tr>\n      <th>Tom Scholz</th>\n      <td>1975-01-01</td>\n      <td>1989-01-01</td>\n    </tr>\n    <tr>\n      <th rowspan=\"5\" valign=\"top\">Pink Floyd</th>\n      <th>David Gilmour</th>\n      <td>1968-01-01</td>\n      <td>1995-01-01</td>\n    </tr>\n    <tr>\n      <th>Nick Mason</th>\n      <td>1965-01-01</td>\n      <td>1995-01-01</td>\n    </tr>\n    <tr>\n      <th>Richard Wright</th>\n      <td>1965-01-01</td>\n      <td>1980-01-01</td>\n    </tr>\n    <tr>\n      <th>Roger Waters</th>\n      <td>1965-01-01</td>\n      <td>1985-01-01</td>\n    </tr>\n    <tr>\n      <th>Syd Barrett</th>\n      <td>1965-01-01</td>\n      <td>1968-01-01</td>\n    </tr>\n  </tbody>\n</table>\n</div>"
     },
     "metadata": {},
     "output_type": "display_data"
    }
   ],
   "source": [
    "pandas_index_settings = ['artist_name', 'member_name']\n",
    "display(dbu.sqlalchemy_query_to_df('select * from band_members order by artist_name, member_name', pandas_index_settings))"
   ],
   "metadata": {
    "collapsed": false,
    "ExecuteTime": {
     "end_time": "2024-04-01T02:51:50.385326Z",
     "start_time": "2024-04-01T02:51:50.360098Z"
    }
   },
   "id": "cc720d770229fcb5",
   "execution_count": 6
  },
  {
   "cell_type": "markdown",
   "source": [
    "### Procedures DDL"
   ],
   "metadata": {
    "collapsed": false
   },
   "id": "86cfe06440130437"
  },
  {
   "cell_type": "markdown",
   "source": [
    "\n",
    "### Procedure to count the number of sales for a given album\n",
    "```\n",
    "DELIMITER //\n",
    "CREATE PROCEDURE count_record_sales(IN album_id INT, OUT sales_count INT)\n",
    "BEGIN\n",
    "\tSET @album_id = album_id;\n",
    "    SELECT \n",
    "        COUNT(sale_id) INTO sales_count\n",
    "    FROM RECORD_SALES\n",
    "    WHERE RECORD_SALES.album_id = @album_id;\n",
    "\n",
    "END //\n",
    "DELIMITER ;\n",
    "```\n"
   ],
   "metadata": {
    "collapsed": false
   },
   "id": "d84e8dfdb4e22f29"
  },
  {
   "cell_type": "code",
   "outputs": [
    {
     "name": "stdout",
     "output_type": "stream",
     "text": [
      "Number of sales for album 1 using select statement: 15\n",
      "Number of sales for album 1 using the stored procedure: 15\n"
     ]
    }
   ],
   "source": [
    "with dbu.get_connector() as conn:\n",
    "    with conn.cursor() as cur:\n",
    "        album_id = 1\n",
    "        print(f'Number of sales for album 1 using select statement: {len(dbu.sqlalchemy_query_to_df(\"select * from record_sales where album_id = 1\", \"sale_id\"))}')\n",
    "        result = cur.callproc('count_record_sales', [album_id, 0])[1]\n",
    "        print(f'Number of sales for album 1 using the stored procedure: {result}')"
   ],
   "metadata": {
    "collapsed": false,
    "ExecuteTime": {
     "end_time": "2024-04-01T02:51:50.414758Z",
     "start_time": "2024-04-01T02:51:50.388337Z"
    }
   },
   "id": "96a6b1381a3a4562",
   "execution_count": 7
  },
  {
   "cell_type": "markdown",
   "source": [
    "### Procedure to get the total sales for all albums\n",
    "```\n",
    "DROP PROCEDURE IF EXISTS total_sales;\n",
    "DELIMITER //\n",
    "CREATE PROCEDURE total_record_sales(IN album_id INT, OUT total_sales NUMERIC)\n",
    "BEGIN\n",
    "\tSET @album_id = album_id;\n",
    "    SELECT \n",
    "        sum(sale_quantity * unit_sale_price) INTO total_sales\n",
    "    FROM RECORD_SALES\n",
    "    WHERE RECORD_SALES.album_id = @album_id;\n",
    "\n",
    "END //\n",
    "DELIMITER ;"
   ],
   "metadata": {
    "collapsed": false
   },
   "id": "ecf1d28b7a2dafe2"
  },
  {
   "cell_type": "code",
   "outputs": [
    {
     "name": "stdout",
     "output_type": "stream",
     "text": [
      "Total sales for album 1 using select statement: 150000000.0\n",
      "Total sales for album 1 using the stored procedure: 150000000.0\n"
     ]
    }
   ],
   "source": [
    "with dbu.get_connector() as conn:\n",
    "    with conn.cursor() as cur:\n",
    "        album_id = 1\n",
    "        print(f'Total sales for album 1 using select statement: {dbu.sqlalchemy_query_to_df(\"select sum(sale_quantity * unit_sale_price) as total_sales from record_sales where album_id = 1\",)[\"total_sales\"].values[0]}')\n",
    "        result = float(cur.callproc('total_record_sales', (album_id, 0))[1])\n",
    "        print(f'Total sales for album 1 using the stored procedure: {result}')"
   ],
   "metadata": {
    "collapsed": false,
    "ExecuteTime": {
     "end_time": "2024-04-01T02:51:50.442136Z",
     "start_time": "2024-04-01T02:51:50.416767Z"
    }
   },
   "id": "f7716bbd0e8040f4",
   "execution_count": 8
  },
  {
   "cell_type": "markdown",
   "source": [
    "## Functions DDL\n",
    "\n",
    "```sql\n",
    "DELIMITER //\n",
    "CREATE FUNCTION album_summary (album_id int) RETURNS varchar(250)\n",
    "\tREADS SQL DATA \n",
    "BEGIN\n",
    "\tDECLARE done int default false;\n",
    "    DECLARE track_summary varchar(200);\n",
    "\tDECLARE album_summary varchar(50);\n",
    "    DECLARE response_summary varchar(300);\n",
    "    DECLARE album_name varchar(50);\n",
    "    DECLARE release_date date;\n",
    "    DECLARE track_number int;\n",
    "    DECLARE track_name varchar(255);\n",
    "\tDECLARE result_cursor CURSOR FOR \n",
    "\t\tSELECT \n",
    "\t\t\tconcat(\" \", t.track_number, \"-\", t.track_name) AS track_summary\n",
    "\t\t\tFROM record_tracks t\n",
    "\t\t\tWHERE t.album_id = album_id\n",
    "\t\t\tORDER BY t.track_number;\n",
    "\tDECLARE CONTINUE HANDLER FOR not found SET done = true;\n",
    "\tSET album_summary = \"\";\n",
    "    SET response_summary = \"\";\n",
    "\tOPEN result_cursor;\n",
    "\tread_loop: LOOP \n",
    "\t\tFETCH result_cursor INTO track_summary;\n",
    "        IF done THEN\n",
    "\t\t\tLEAVE read_loop; \n",
    "\t\tEND IF;\n",
    "        SET response_summary = CONCAT(response_summary, \" \", track_summary);\n",
    "    END LOOP;\n",
    "    CLOSE result_cursor;\n",
    "\tSELECT \n",
    "\t\tconcat(r.album_name, \" (\", r.release_date, \"): \") INTO album_summary\n",
    "\t\tFROM record_albums r\n",
    "\t\tWHERE r.album_id = album_id;\n",
    "\tSET response_summary = CONCAT(album_summary, response_summary);\n",
    "    RETURN response_summary;\n",
    "END //\n",
    "DELIMITER ;\n",
    "```"
   ],
   "metadata": {
    "collapsed": false
   },
   "id": "4049a97cf1f8e0d2"
  },
  {
   "cell_type": "code",
   "outputs": [
    {
     "name": "stdout",
     "output_type": "stream",
     "text": [
      "Album summary:\n",
      " The Dark Side of the Moon (1973-03-01):   1-Speak to Me  2-Breathe (In the Air)  3-On the Run  4-Time  5-The Great Gig in the Sky  6-Money  7-Us and Them  8-Any Colour You Like  9-Brain Damage  10-Eclipse\n"
     ]
    }
   ],
   "source": [
    "with dbu.get_connector() as conn:\n",
    "    with conn.cursor() as cur:\n",
    "        album_id = 1\n",
    "        cur.execute(f'select album_summary(%s)', (album_id,))\n",
    "        result = cur.fetchone()[0]\n",
    "        print(f'Album summary:\\n {result}')"
   ],
   "metadata": {
    "collapsed": false,
    "ExecuteTime": {
     "end_time": "2024-04-01T02:54:27.164864Z",
     "start_time": "2024-04-01T02:54:27.140714Z"
    }
   },
   "id": "26900b6900406456",
   "execution_count": 11
  },
  {
   "cell_type": "markdown",
   "source": [
    "## Trigger DDL"
   ],
   "metadata": {
    "collapsed": false
   },
   "id": "ada3d31c5523231e"
  },
  {
   "cell_type": "markdown",
   "source": [
    "## Normalization"
   ],
   "metadata": {
    "collapsed": false
   },
   "id": "cbe9bbebe423f68"
  },
  {
   "cell_type": "markdown",
   "source": [
    "## Integrity Enforcement"
   ],
   "metadata": {
    "collapsed": false
   },
   "id": "f072429fbc8d26a1"
  },
  {
   "cell_type": "markdown",
   "source": [
    "## Isolation Level"
   ],
   "metadata": {
    "collapsed": false
   },
   "id": "d212c9a878b5dc26"
  },
  {
   "cell_type": "markdown",
   "source": [
    "## Forms\n",
    "- Table Updates\n",
    "- Table Deletes\n",
    "- Selects"
   ],
   "metadata": {
    "collapsed": false
   },
   "id": "7a6e5e3a4e379fbe"
  },
  {
   "cell_type": "markdown",
   "source": [
    "### Table Inserts"
   ],
   "metadata": {
    "collapsed": false
   },
   "id": "b2675d6d733c5cea"
  },
  {
   "cell_type": "code",
   "outputs": [
    {
     "data": {
      "text/plain": "          genre_name genre_description\ngenre_id                              \n83        TEST Genre       A new genre",
      "text/html": "<div>\n<style scoped>\n    .dataframe tbody tr th:only-of-type {\n        vertical-align: middle;\n    }\n\n    .dataframe tbody tr th {\n        vertical-align: top;\n    }\n\n    .dataframe thead th {\n        text-align: right;\n    }\n</style>\n<table border=\"1\" class=\"dataframe\">\n  <thead>\n    <tr style=\"text-align: right;\">\n      <th></th>\n      <th>genre_name</th>\n      <th>genre_description</th>\n    </tr>\n    <tr>\n      <th>genre_id</th>\n      <th></th>\n      <th></th>\n    </tr>\n  </thead>\n  <tbody>\n    <tr>\n      <th>83</th>\n      <td>TEST Genre</td>\n      <td>A new genre</td>\n    </tr>\n  </tbody>\n</table>\n</div>"
     },
     "metadata": {},
     "output_type": "display_data"
    }
   ],
   "source": [
    "from project.business_objects.record_genres import RecordGenres\n",
    "\n",
    "test_genre_name = 'TEST Genre'\n",
    "new_record = RecordGenres.create(genre_name=test_genre_name, genre_description='A new genre')\n",
    "display(dbu.sqlalchemy_query_to_df(f\"select * from record_genres where genre_name = '{test_genre_name}'\",  'genre_id'))\n",
    "# Cleanup\n",
    "RecordGenres.delete_by_name(test_genre_name)"
   ],
   "metadata": {
    "collapsed": false,
    "ExecuteTime": {
     "end_time": "2024-03-23T18:46:36.749033Z",
     "start_time": "2024-03-23T18:46:36.559447Z"
    }
   },
   "id": "c153f36a3a0592a7",
   "execution_count": 6
  },
  {
   "cell_type": "markdown",
   "source": [
    "### Table Updates"
   ],
   "metadata": {
    "collapsed": false
   },
   "id": "3fd129f6fa508c47"
  },
  {
   "cell_type": "code",
   "outputs": [
    {
     "data": {
      "text/plain": "          genre_name genre_description\ngenre_id                              \n21        TEST Genre       A new genre",
      "text/html": "<div>\n<style scoped>\n    .dataframe tbody tr th:only-of-type {\n        vertical-align: middle;\n    }\n\n    .dataframe tbody tr th {\n        vertical-align: top;\n    }\n\n    .dataframe thead th {\n        text-align: right;\n    }\n</style>\n<table border=\"1\" class=\"dataframe\">\n  <thead>\n    <tr style=\"text-align: right;\">\n      <th></th>\n      <th>genre_name</th>\n      <th>genre_description</th>\n    </tr>\n    <tr>\n      <th>genre_id</th>\n      <th></th>\n      <th></th>\n    </tr>\n  </thead>\n  <tbody>\n    <tr>\n      <th>21</th>\n      <td>TEST Genre</td>\n      <td>A new genre</td>\n    </tr>\n  </tbody>\n</table>\n</div>"
     },
     "metadata": {},
     "output_type": "display_data"
    },
    {
     "name": "stdout",
     "output_type": "stream",
     "text": [
      "Record to update: RecordGenres(genre_id=21, genre_name='Updated Genre', genre_description='An updated genre')\n"
     ]
    },
    {
     "data": {
      "text/plain": "             genre_name genre_description\ngenre_id                                 \n21        Updated Genre  An updated genre",
      "text/html": "<div>\n<style scoped>\n    .dataframe tbody tr th:only-of-type {\n        vertical-align: middle;\n    }\n\n    .dataframe tbody tr th {\n        vertical-align: top;\n    }\n\n    .dataframe thead th {\n        text-align: right;\n    }\n</style>\n<table border=\"1\" class=\"dataframe\">\n  <thead>\n    <tr style=\"text-align: right;\">\n      <th></th>\n      <th>genre_name</th>\n      <th>genre_description</th>\n    </tr>\n    <tr>\n      <th>genre_id</th>\n      <th></th>\n      <th></th>\n    </tr>\n  </thead>\n  <tbody>\n    <tr>\n      <th>21</th>\n      <td>Updated Genre</td>\n      <td>An updated genre</td>\n    </tr>\n  </tbody>\n</table>\n</div>"
     },
     "metadata": {},
     "output_type": "display_data"
    }
   ],
   "source": [
    "from business_objects.record_genres import RecordGenres\n",
    "\n",
    "test_genre_name = 'TEST Genre'\n",
    "updated_genre_name = 'Updated Genre'\n",
    "new_record = RecordGenres.create(genre_name=test_genre_name, genre_description='A new genre')\n",
    "display(dbu.sqlalchemy_query_to_df(f\"select * from record_genres where genre_name = '{test_genre_name}'\",  'genre_id'))\n",
    "new_record.genre_name = updated_genre_name\n",
    "new_record.genre_description = 'An updated genre'\n",
    "print(f'Record to update: {new_record}')\n",
    "updated_record = RecordGenres.update(new_record)\n",
    "display(dbu.sqlalchemy_query_to_df(f\"select * from record_genres where genre_name = '{updated_genre_name}'\",  'genre_id'))\n",
    "# Cleanup\n",
    "RecordGenres.delete_by_name(updated_genre_name)"
   ],
   "metadata": {
    "collapsed": false,
    "ExecuteTime": {
     "end_time": "2024-03-31T02:33:58.216950Z",
     "start_time": "2024-03-31T02:33:57.905537Z"
    }
   },
   "id": "c138a6e4be9e036",
   "execution_count": 19
  },
  {
   "cell_type": "markdown",
   "source": [
    "### Table Deletes"
   ],
   "metadata": {
    "collapsed": false
   },
   "id": "18ec8f7c74d802c7"
  },
  {
   "cell_type": "code",
   "outputs": [
    {
     "data": {
      "text/plain": "          genre_name genre_description\ngenre_id                              \n35        TEST Genre       A new genre",
      "text/html": "<div>\n<style scoped>\n    .dataframe tbody tr th:only-of-type {\n        vertical-align: middle;\n    }\n\n    .dataframe tbody tr th {\n        vertical-align: top;\n    }\n\n    .dataframe thead th {\n        text-align: right;\n    }\n</style>\n<table border=\"1\" class=\"dataframe\">\n  <thead>\n    <tr style=\"text-align: right;\">\n      <th></th>\n      <th>genre_name</th>\n      <th>genre_description</th>\n    </tr>\n    <tr>\n      <th>genre_id</th>\n      <th></th>\n      <th></th>\n    </tr>\n  </thead>\n  <tbody>\n    <tr>\n      <th>35</th>\n      <td>TEST Genre</td>\n      <td>A new genre</td>\n    </tr>\n  </tbody>\n</table>\n</div>"
     },
     "metadata": {},
     "output_type": "display_data"
    },
    {
     "name": "stdout",
     "output_type": "stream",
     "text": [
      "After delete by id: 35\n"
     ]
    },
    {
     "data": {
      "text/plain": "Empty DataFrame\nColumns: [genre_name, genre_description]\nIndex: []",
      "text/html": "<div>\n<style scoped>\n    .dataframe tbody tr th:only-of-type {\n        vertical-align: middle;\n    }\n\n    .dataframe tbody tr th {\n        vertical-align: top;\n    }\n\n    .dataframe thead th {\n        text-align: right;\n    }\n</style>\n<table border=\"1\" class=\"dataframe\">\n  <thead>\n    <tr style=\"text-align: right;\">\n      <th></th>\n      <th>genre_name</th>\n      <th>genre_description</th>\n    </tr>\n    <tr>\n      <th>genre_id</th>\n      <th></th>\n      <th></th>\n    </tr>\n  </thead>\n  <tbody>\n  </tbody>\n</table>\n</div>"
     },
     "metadata": {},
     "output_type": "display_data"
    },
    {
     "data": {
      "text/plain": "          genre_name genre_description\ngenre_id                              \n36        TEST Genre       A new genre",
      "text/html": "<div>\n<style scoped>\n    .dataframe tbody tr th:only-of-type {\n        vertical-align: middle;\n    }\n\n    .dataframe tbody tr th {\n        vertical-align: top;\n    }\n\n    .dataframe thead th {\n        text-align: right;\n    }\n</style>\n<table border=\"1\" class=\"dataframe\">\n  <thead>\n    <tr style=\"text-align: right;\">\n      <th></th>\n      <th>genre_name</th>\n      <th>genre_description</th>\n    </tr>\n    <tr>\n      <th>genre_id</th>\n      <th></th>\n      <th></th>\n    </tr>\n  </thead>\n  <tbody>\n    <tr>\n      <th>36</th>\n      <td>TEST Genre</td>\n      <td>A new genre</td>\n    </tr>\n  </tbody>\n</table>\n</div>"
     },
     "metadata": {},
     "output_type": "display_data"
    },
    {
     "name": "stdout",
     "output_type": "stream",
     "text": [
      "After delete by name: TEST Genre\n"
     ]
    },
    {
     "data": {
      "text/plain": "Empty DataFrame\nColumns: [genre_name, genre_description]\nIndex: []",
      "text/html": "<div>\n<style scoped>\n    .dataframe tbody tr th:only-of-type {\n        vertical-align: middle;\n    }\n\n    .dataframe tbody tr th {\n        vertical-align: top;\n    }\n\n    .dataframe thead th {\n        text-align: right;\n    }\n</style>\n<table border=\"1\" class=\"dataframe\">\n  <thead>\n    <tr style=\"text-align: right;\">\n      <th></th>\n      <th>genre_name</th>\n      <th>genre_description</th>\n    </tr>\n    <tr>\n      <th>genre_id</th>\n      <th></th>\n      <th></th>\n    </tr>\n  </thead>\n  <tbody>\n  </tbody>\n</table>\n</div>"
     },
     "metadata": {},
     "output_type": "display_data"
    }
   ],
   "source": [
    "from business_objects.record_genres import RecordGenres\n",
    "\n",
    "test_genre_name = 'TEST Genre'\n",
    "new_record = RecordGenres.create(genre_name=test_genre_name, genre_description='A new genre')\n",
    "display(dbu.sqlalchemy_query_to_df(f\"select * from record_genres where genre_name = '{test_genre_name}'\",  'genre_id'))\n",
    "RecordGenres.delete(new_record.genre_id)\n",
    "print(f'After delete by id: {new_record.genre_id}')\n",
    "display(dbu.sqlalchemy_query_to_df(f\"select * from record_genres where genre_id = '{new_record.genre_id}'\",  'genre_id'))\n",
    "new_record = RecordGenres.create(genre_name=test_genre_name, genre_description='A new genre')\n",
    "display(dbu.sqlalchemy_query_to_df(f\"select * from record_genres where genre_name = '{test_genre_name}'\",  'genre_id'))\n",
    "RecordGenres.delete_by_name(new_record.genre_name)\n",
    "print(f'After delete by name: {new_record.genre_name}')\n",
    "display(dbu.sqlalchemy_query_to_df(f\"select * from record_genres where genre_name = '{test_genre_name}'\",  'genre_id'))"
   ],
   "metadata": {
    "collapsed": false,
    "ExecuteTime": {
     "end_time": "2024-03-23T19:06:12.335505Z",
     "start_time": "2024-03-23T19:06:12.219325Z"
    }
   },
   "id": "c96203dfc5144e79",
   "execution_count": 23
  },
  {
   "cell_type": "markdown",
   "source": [
    "### Table Reads"
   ],
   "metadata": {
    "collapsed": false
   },
   "id": "406c41a727bce78c"
  },
  {
   "cell_type": "code",
   "outputs": [
    {
     "name": "stdout",
     "output_type": "stream",
     "text": [
      "Read all genres\n",
      "RecordGenres(genre_id=1, genre_name='Rock', genre_description='Rock music')\n",
      "RecordGenres(genre_id=2, genre_name='Pop', genre_description='Pop music')\n",
      "RecordGenres(genre_id=3, genre_name='Rap', genre_description='Rap music')\n",
      "RecordGenres(genre_id=4, genre_name='Country', genre_description='Country music')\n",
      "RecordGenres(genre_id=5, genre_name='Jazz', genre_description='Jazz music')\n",
      "Read by id: 5\n",
      "RecordGenres(genre_id=5, genre_name='Jazz', genre_description='Jazz music')\n",
      "Read by name: Country\n",
      "[RecordGenres(genre_id=4, genre_name='Country', genre_description='Country music')]\n"
     ]
    }
   ],
   "source": [
    "from business_objects.record_genres import RecordGenres\n",
    "print(f'Read all genres')\n",
    "for genre in RecordGenres.read_all()[:5]:\n",
    "    print(genre)\n",
    "    \n",
    "print(f'Read by id: 5')\n",
    "print(RecordGenres.read(5))\n",
    "print(f'Read by name: Country')\n",
    "print(RecordGenres.read_by_name('Country'))"
   ],
   "metadata": {
    "collapsed": false,
    "ExecuteTime": {
     "end_time": "2024-03-23T19:03:16.677357Z",
     "start_time": "2024-03-23T19:03:16.653467Z"
    }
   },
   "id": "a704c1bece8ceae7",
   "execution_count": 18
  },
  {
   "cell_type": "markdown",
   "source": [
    "## Reports"
   ],
   "metadata": {
    "collapsed": false
   },
   "id": "7f0a44b30506f23f"
  },
  {
   "cell_type": "markdown",
   "source": [],
   "metadata": {
    "collapsed": false
   },
   "id": "ff26f9c83011cb67"
  }
 ],
 "metadata": {
  "kernelspec": {
   "display_name": "Python 3",
   "language": "python",
   "name": "python3"
  },
  "language_info": {
   "codemirror_mode": {
    "name": "ipython",
    "version": 2
   },
   "file_extension": ".py",
   "mimetype": "text/x-python",
   "name": "python",
   "nbconvert_exporter": "python",
   "pygments_lexer": "ipython2",
   "version": "2.7.6"
  }
 },
 "nbformat": 4,
 "nbformat_minor": 5
}
