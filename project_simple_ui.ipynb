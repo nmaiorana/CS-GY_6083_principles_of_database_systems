{
 "cells": [
  {
   "cell_type": "markdown",
   "source": [
    "# CS-GY 6083 Principals of Database Systems - Spring 2024\n",
    "# Project Part 2: Simple UI\n",
    "* **Author**: [Nicola Maiorana]\n",
    "* **Date**: [2024-03-23]\n",
    "* **Email**: [nam10102@nyu.edu]\n",
    "* **Class**: [CS-GY 6083]\n",
    "\n",
    "## Project Details\n",
    "For this project I will construct a database using MySQL to store information about record album: the name of the album, the recording date, the artists behind the album (bands), the members of the recording group, the record label which produced the album, genre and sales information. This will utilize a 2-tier architecture using Python as the primary Language.\n",
    "\n",
    "I will construct business object classes to represent the data in Python using data classes. To map these data classes to the MySQL db, I will use the MySQL Connect coupled with dataclasses to create my Business Objects. Lastly I will construct a series of UI classes to perform Create, Read, Update and Delete operations on one of the tables.\n",
    "\n",
    "The demonstration will consist of a Python stand-alone class connecting to the MySQL database and performing the CRUD operations on the database. The demonstration will be done using a Jupyter Notebook."
   ],
   "metadata": {
    "collapsed": false
   },
   "id": "3e13cf6f7d80a8bb"
  },
  {
   "cell_type": "code",
   "outputs": [
    {
     "data": {
      "text/html": "<img src=\"https://mermaid.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\"/>",
      "text/plain": "<IPython.core.display.Image object>"
     },
     "metadata": {},
     "output_type": "display_data"
    }
   ],
   "source": [
    "import project.tools.mermaid_diagrams as md\n",
    "md.mm(md.er_diargram)"
   ],
   "metadata": {
    "collapsed": false,
    "ExecuteTime": {
     "end_time": "2024-03-28T21:36:54.092181Z",
     "start_time": "2024-03-28T21:36:54.074823Z"
    }
   },
   "id": "25f5a552198d74d4",
   "execution_count": 3
  },
  {
   "cell_type": "markdown",
   "source": [
    "## record_genre_ui\n",
    "This module will be used to perform CRUD operations on the record_genre table. The record_genre table consistes of the following columns:\n",
    "- genre_id: int (auto increment)\n",
    "- genre_name: varchar(255)\n",
    "- genre_description: varchar(255)\n",
    "\n",
    "For this I constructed a business object class called RecordGenre which will be used to perform the CRUD operations on the record_genre table. The RecordGenre class provides the following static class level functions\n",
    "- create(genre_name, genre_description)\n",
    "- read_all()\n",
    "- read(genre_id)\n",
    "- read_by_name(genre_name)\n",
    "\n",
    "And the following instance level functions:\n",
    "- update()\n",
    "- delete()\n",
    "- delete_by_name()\n"
   ],
   "metadata": {
    "collapsed": false
   },
   "id": "cd163e6622ec52fb"
  },
  {
   "cell_type": "markdown",
   "source": [
    "### RecordGenre Class demonstration"
   ],
   "metadata": {
    "collapsed": false
   },
   "id": "412fec1090a9b8c7"
  },
  {
   "cell_type": "code",
   "outputs": [],
   "source": [
    "from project.business_objects.record_genres_sql import RecordGenre\n",
    "import project.tools.db_utils as dbu\n",
    "\n",
    "# cleanup demo data\n",
    "record_genre = RecordGenre.read_by_name(\"Demo Genre\")\n",
    "if record_genre:\n",
    "    record_genre.delete()"
   ],
   "metadata": {
    "collapsed": false,
    "ExecuteTime": {
     "end_time": "2024-03-28T22:07:25.969872Z",
     "start_time": "2024-03-28T22:07:25.925411Z"
    }
   },
   "id": "c84794b03e8eeb0b",
   "execution_count": 17
  },
  {
   "cell_type": "markdown",
   "source": [
    "### Current Record Genres"
   ],
   "metadata": {
    "collapsed": false
   },
   "id": "e82d6a360fd175b5"
  },
  {
   "cell_type": "code",
   "outputs": [
    {
     "name": "stdout",
     "output_type": "stream",
     "text": [
      "Record Genres\n",
      "RecordGenre(genre_id=1, genre_name='Rock', genre_description='Rock music')\n",
      "RecordGenre(genre_id=2, genre_name='Pop', genre_description='Pop music')\n",
      "RecordGenre(genre_id=3, genre_name='Rap', genre_description='Rap music')\n",
      "RecordGenre(genre_id=7, genre_name='Blues', genre_description='Blues music')\n",
      "RecordGenre(genre_id=8, genre_name='Reggae', genre_description='Reggae music')\n",
      "RecordGenre(genre_id=9, genre_name='Folk', genre_description='Folk music')\n",
      "RecordGenre(genre_id=10, genre_name='Electronic', genre_description='Electronic music')\n",
      "RecordGenre(genre_id=11, genre_name='Hip Hop', genre_description='Hip Hop music')\n",
      "RecordGenre(genre_id=12, genre_name='R&B', genre_description='Rhythm and Blues music')\n",
      "RecordGenre(genre_id=13, genre_name='Soul', genre_description='Soul music')\n",
      "RecordGenre(genre_id=14, genre_name='Funk', genre_description='Funk music')\n",
      "RecordGenre(genre_id=15, genre_name='Disco', genre_description='Disco music')\n",
      "RecordGenre(genre_id=16, genre_name='Samba', genre_description='This is a updated description')\n"
     ]
    }
   ],
   "source": [
    "record_genres = RecordGenre.read_all()\n",
    "print(\"Record Genres\")\n",
    "for record_genre in record_genres:\n",
    "    print(record_genre)"
   ],
   "metadata": {
    "collapsed": false,
    "ExecuteTime": {
     "end_time": "2024-03-28T22:07:31.151038Z",
     "start_time": "2024-03-28T22:07:31.128550Z"
    }
   },
   "id": "67b594796a8d30ab",
   "execution_count": 18
  },
  {
   "cell_type": "markdown",
   "source": [
    "### Create a new record_genre"
   ],
   "metadata": {
    "collapsed": false
   },
   "id": "ca11ff23c119cac3"
  },
  {
   "cell_type": "code",
   "outputs": [
    {
     "name": "stdout",
     "output_type": "stream",
     "text": [
      "New Record Genre\n",
      "RecordGenre(genre_id=64, genre_name='Demo Genre', genre_description='This is a demo genre')\n"
     ]
    }
   ],
   "source": [
    "RecordGenre.create(\"Demo Genre\", \"This is a demo genre\")\n",
    "recored_genre = RecordGenre.read_by_name(\"Demo Genre\")\n",
    "print(f\"New Record Genre\")\n",
    "print(recored_genre)"
   ],
   "metadata": {
    "collapsed": false,
    "ExecuteTime": {
     "end_time": "2024-03-28T22:11:19.102315Z",
     "start_time": "2024-03-28T22:11:19.043021Z"
    }
   },
   "id": "2237f08523ecffe4",
   "execution_count": 26
  },
  {
   "cell_type": "markdown",
   "source": [
    "### Read a record_genre"
   ],
   "metadata": {
    "collapsed": false
   },
   "id": "2f748d1593bd0499"
  },
  {
   "cell_type": "code",
   "outputs": [
    {
     "name": "stdout",
     "output_type": "stream",
     "text": [
      "Read Record Genre:\n",
      "RecordGenre(genre_id=64, genre_name='Demo Genre', genre_description='This is a demo genre')\n"
     ]
    }
   ],
   "source": [
    "record_genre = RecordGenre.read_by_name(\"Demo Genre\")\n",
    "print(f\"Read Record Genre:\")\n",
    "print(record_genre)"
   ],
   "metadata": {
    "collapsed": false,
    "ExecuteTime": {
     "end_time": "2024-03-28T22:11:24.266069Z",
     "start_time": "2024-03-28T22:11:24.241697Z"
    }
   },
   "id": "137d885a18044db7",
   "execution_count": 27
  },
  {
   "cell_type": "markdown",
   "source": [
    "### Update a record_genre"
   ],
   "metadata": {
    "collapsed": false
   },
   "id": "589a793ba268bcc8"
  },
  {
   "cell_type": "code",
   "outputs": [
    {
     "name": "stdout",
     "output_type": "stream",
     "text": [
      "Updated Record Genre:\n",
      "RecordGenre(genre_id=64, genre_name='Demo Genre', genre_description='This is a updated description')\n"
     ]
    }
   ],
   "source": [
    "record_genre = RecordGenre.read_by_name(\"Demo Genre\")\n",
    "record_genre.genre_description = \"This is a updated description\"\n",
    "record_genre.update()\n",
    "record_genre = RecordGenre.read_by_name(\"Demo Genre\")\n",
    "print(f\"Updated Record Genre:\")\n",
    "print(record_genre)"
   ],
   "metadata": {
    "collapsed": false,
    "ExecuteTime": {
     "end_time": "2024-03-28T22:11:33.637886Z",
     "start_time": "2024-03-28T22:11:33.581326Z"
    }
   },
   "id": "447b9783772387ea",
   "execution_count": 28
  },
  {
   "cell_type": "markdown",
   "source": [
    "### Delete a record_genre"
   ],
   "metadata": {
    "collapsed": false
   },
   "id": "5f8c7167ed0a8920"
  },
  {
   "cell_type": "code",
   "outputs": [
    {
     "name": "stdout",
     "output_type": "stream",
     "text": [
      "Record Genre deleted\n"
     ]
    }
   ],
   "source": [
    "record_genre = RecordGenre.read_by_name(\"Demo Genre\")\n",
    "record_genre.delete()\n",
    "recored_genre = RecordGenre.read_by_name(\"Demo Genre\")\n",
    "if recored_genre:\n",
    "    print(f\"Record Genre not deleted\")\n",
    "else:\n",
    "    print(f\"Record Genre deleted\")\n",
    "   "
   ],
   "metadata": {
    "collapsed": false,
    "ExecuteTime": {
     "end_time": "2024-03-28T22:11:38.891199Z",
     "start_time": "2024-03-28T22:11:38.841128Z"
    }
   },
   "id": "706c5f3ecffe05ea",
   "execution_count": 29
  },
  {
   "cell_type": "markdown",
   "source": [
    "### Current Record Genres"
   ],
   "metadata": {
    "collapsed": false
   },
   "id": "b0b896f9eafa05c7"
  },
  {
   "cell_type": "code",
   "outputs": [
    {
     "name": "stdout",
     "output_type": "stream",
     "text": [
      "Record Genres\n",
      "RecordGenre(genre_id=1, genre_name='Rock', genre_description='Rock music')\n",
      "RecordGenre(genre_id=2, genre_name='Pop', genre_description='Pop music')\n",
      "RecordGenre(genre_id=3, genre_name='Rap', genre_description='Rap music')\n",
      "RecordGenre(genre_id=7, genre_name='Blues', genre_description='Blues music')\n",
      "RecordGenre(genre_id=8, genre_name='Reggae', genre_description='Reggae music')\n",
      "RecordGenre(genre_id=9, genre_name='Folk', genre_description='Folk music')\n",
      "RecordGenre(genre_id=10, genre_name='Electronic', genre_description='Electronic music')\n",
      "RecordGenre(genre_id=11, genre_name='Hip Hop', genre_description='Hip Hop music')\n",
      "RecordGenre(genre_id=12, genre_name='R&B', genre_description='Rhythm and Blues music')\n",
      "RecordGenre(genre_id=13, genre_name='Soul', genre_description='Soul music')\n",
      "RecordGenre(genre_id=14, genre_name='Funk', genre_description='Funk music')\n",
      "RecordGenre(genre_id=15, genre_name='Disco', genre_description='Disco music')\n",
      "RecordGenre(genre_id=16, genre_name='Samba', genre_description='This is a updated description')\n"
     ]
    }
   ],
   "source": [
    " \n",
    "record_genres = RecordGenre.read_all()\n",
    "print(\"Record Genres\")\n",
    "for record_genre in record_genres:\n",
    "    print(record_genre)\n"
   ],
   "metadata": {
    "collapsed": false,
    "ExecuteTime": {
     "end_time": "2024-03-28T22:11:46.608046Z",
     "start_time": "2024-03-28T22:11:46.584610Z"
    }
   },
   "id": "11353dd27da9d9c",
   "execution_count": 30
  },
  {
   "cell_type": "code",
   "outputs": [
    {
     "name": "stdout",
     "output_type": "stream",
     "text": [
      "Selected genre: Blues\n",
      "Genres: ['Rock', 'Pop', 'Rap', 'Blues', 'Reggae', 'Folk', 'Electronic', 'Hip Hop', 'R&B', 'Soul', 'Funk', 'Disco']\n",
      "Genres: ['Rock', 'Pop', 'Rap', 'Reggae', 'Folk', 'Electronic', 'Hip Hop', 'R&B', 'Soul', 'Funk', 'Disco']\n"
     ]
    },
    {
     "data": {
      "text/plain": "<project.ui_objects.record_genre_ui.RecordGenreUI at 0x2043cb51b50>"
     },
     "execution_count": 32,
     "metadata": {},
     "output_type": "execute_result"
    }
   ],
   "source": [
    "from project.ui_objects.record_genre_ui import RecordGenreUI\n",
    "RecordGenreUI()"
   ],
   "metadata": {
    "collapsed": false,
    "ExecuteTime": {
     "end_time": "2024-03-28T23:12:00.717543Z",
     "start_time": "2024-03-28T22:42:13.714446Z"
    }
   },
   "id": "548263d7ab3a152d",
   "execution_count": 32
  }
 ],
 "metadata": {
  "kernelspec": {
   "display_name": "Python 3",
   "language": "python",
   "name": "python3"
  },
  "language_info": {
   "codemirror_mode": {
    "name": "ipython",
    "version": 2
   },
   "file_extension": ".py",
   "mimetype": "text/x-python",
   "name": "python",
   "nbconvert_exporter": "python",
   "pygments_lexer": "ipython2",
   "version": "2.7.6"
  }
 },
 "nbformat": 4,
 "nbformat_minor": 5
}
